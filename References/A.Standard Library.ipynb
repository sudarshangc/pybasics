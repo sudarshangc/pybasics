{
 "cells": [
  {
   "cell_type": "markdown",
   "metadata": {},
   "source": [
    "# Useful modules in standard library\n",
    "---"
   ]
  },
  {
   "cell_type": "markdown",
   "metadata": {},
   "source": [
    "**Programming Language**\n",
    "\n",
    "- Core Feature\n",
    "    + builtin with language,\n",
    "    + e.g input(), all(), for, if \n",
    "\n",
    "- Standard Library\n",
    "    + comes preinstalled with language installer\n",
    "    + e.g datetime, csv, Fraction\n",
    "\n",
    "- Thirdparty Library\n",
    "    + created by community to solve specific problem\n",
    "    + e.g numpy, pandas, requests"
   ]
  },
  {
   "cell_type": "markdown",
   "metadata": {},
   "source": [
    "## import statement"
   ]
  },
  {
   "cell_type": "markdown",
   "metadata": {},
   "source": [
    "### Absolute import"
   ]
  },
  {
   "cell_type": "code",
   "execution_count": 8,
   "metadata": {},
   "outputs": [
    {
     "name": "stdout",
     "output_type": "stream",
     "text": [
      "hello.py                                week-01-unit-03-comprehensions.ipynb\r\n",
      "week-01-unit-01-standard_library.ipynb  week-02-unit-01-exceptions.ipynb\r\n",
      "week-01-unit-02-classes.ipynb           week-02-unit-02-decorators.ipynb\r\n"
     ]
    }
   ],
   "source": [
    "%ls"
   ]
  },
  {
   "cell_type": "code",
   "execution_count": 9,
   "metadata": {},
   "outputs": [],
   "source": [
    "import hello"
   ]
  },
  {
   "cell_type": "code",
   "execution_count": 10,
   "metadata": {},
   "outputs": [
    {
     "ename": "ImportError",
     "evalue": "No module named 'hello2'",
     "output_type": "error",
     "traceback": [
      "\u001b[0;31m---------------------------------------------------------------------------\u001b[0m",
      "\u001b[0;31mImportError\u001b[0m                               Traceback (most recent call last)",
      "\u001b[0;32m<ipython-input-10-e7a0a5deba89>\u001b[0m in \u001b[0;36m<module>\u001b[0;34m()\u001b[0m\n\u001b[0;32m----> 1\u001b[0;31m \u001b[0;32mimport\u001b[0m \u001b[0mhello2\u001b[0m\u001b[0;34m\u001b[0m\u001b[0m\n\u001b[0m",
      "\u001b[0;31mImportError\u001b[0m: No module named 'hello2'"
     ]
    }
   ],
   "source": [
    "import hello2"
   ]
  },
  {
   "cell_type": "code",
   "execution_count": 11,
   "metadata": {},
   "outputs": [
    {
     "name": "stdout",
     "output_type": "stream",
     "text": [
      "\"\"\"\r\n",
      "this is simple module named hello\r\n",
      "\"\"\"\r\n",
      "\r\n",
      "def hello():\r\n",
      "    print(\"Hello from separate file\")\r\n"
     ]
    }
   ],
   "source": [
    "%cat hello.py"
   ]
  },
  {
   "cell_type": "code",
   "execution_count": 12,
   "metadata": {},
   "outputs": [
    {
     "name": "stdout",
     "output_type": "stream",
     "text": [
      "Hello from separate file\n"
     ]
    }
   ],
   "source": [
    "hello.hello()"
   ]
  },
  {
   "cell_type": "code",
   "execution_count": 13,
   "metadata": {},
   "outputs": [
    {
     "name": "stdout",
     "output_type": "stream",
     "text": [
      "diff.py  __init__.py  __init__.py~  __init__.pyc\r\n"
     ]
    }
   ],
   "source": [
    "%ls hello_package/"
   ]
  },
  {
   "cell_type": "code",
   "execution_count": 14,
   "metadata": {},
   "outputs": [
    {
     "name": "stdout",
     "output_type": "stream",
     "text": [
      "print(\"This module is being loaded\")\r\n"
     ]
    }
   ],
   "source": [
    "%cat hello_package/__init__.py"
   ]
  },
  {
   "cell_type": "code",
   "execution_count": 15,
   "metadata": {},
   "outputs": [
    {
     "name": "stdout",
     "output_type": "stream",
     "text": [
      "\"\"\"\r\n",
      "another module inside package\r\n",
      "\"\"\"\r\n",
      "\r\n",
      "def diff():\r\n",
      "    return \"diff\"\r\n",
      "\r\n",
      "\r\n",
      "def patch():\r\n",
      "    return 'patch'\r\n"
     ]
    }
   ],
   "source": [
    "%cat hello_package/diff.py"
   ]
  },
  {
   "cell_type": "code",
   "execution_count": 16,
   "metadata": {},
   "outputs": [
    {
     "name": "stdout",
     "output_type": "stream",
     "text": [
      "This module is being loaded\n"
     ]
    }
   ],
   "source": [
    "import hello_package"
   ]
  },
  {
   "cell_type": "code",
   "execution_count": 17,
   "metadata": {},
   "outputs": [
    {
     "ename": "AttributeError",
     "evalue": "module 'hello_package' has no attribute 'diff'",
     "output_type": "error",
     "traceback": [
      "\u001b[0;31m---------------------------------------------------------------------------\u001b[0m",
      "\u001b[0;31mAttributeError\u001b[0m                            Traceback (most recent call last)",
      "\u001b[0;32m<ipython-input-17-b0431c6827ad>\u001b[0m in \u001b[0;36m<module>\u001b[0;34m()\u001b[0m\n\u001b[0;32m----> 1\u001b[0;31m \u001b[0mhello_package\u001b[0m\u001b[0;34m.\u001b[0m\u001b[0mdiff\u001b[0m\u001b[0;34m.\u001b[0m\u001b[0mdiff\u001b[0m\u001b[0;34m\u001b[0m\u001b[0m\n\u001b[0m",
      "\u001b[0;31mAttributeError\u001b[0m: module 'hello_package' has no attribute 'diff'"
     ]
    }
   ],
   "source": [
    "hello_package.diff.diff"
   ]
  },
  {
   "cell_type": "code",
   "execution_count": 18,
   "metadata": {},
   "outputs": [
    {
     "ename": "AttributeError",
     "evalue": "module 'hello_package' has no attribute 'diff'",
     "output_type": "error",
     "traceback": [
      "\u001b[0;31m---------------------------------------------------------------------------\u001b[0m",
      "\u001b[0;31mAttributeError\u001b[0m                            Traceback (most recent call last)",
      "\u001b[0;32m<ipython-input-18-4c983b5d2e4b>\u001b[0m in \u001b[0;36m<module>\u001b[0;34m()\u001b[0m\n\u001b[0;32m----> 1\u001b[0;31m \u001b[0mhello_package\u001b[0m\u001b[0;34m.\u001b[0m\u001b[0mdiff\u001b[0m\u001b[0;34m.\u001b[0m\u001b[0mdiff\u001b[0m\u001b[0;34m(\u001b[0m\u001b[0;34m)\u001b[0m\u001b[0;34m\u001b[0m\u001b[0m\n\u001b[0m",
      "\u001b[0;31mAttributeError\u001b[0m: module 'hello_package' has no attribute 'diff'"
     ]
    }
   ],
   "source": [
    "hello_package.diff.diff()"
   ]
  },
  {
   "cell_type": "code",
   "execution_count": 19,
   "metadata": {},
   "outputs": [
    {
     "ename": "AttributeError",
     "evalue": "module 'hello_package' has no attribute 'diff'",
     "output_type": "error",
     "traceback": [
      "\u001b[0;31m---------------------------------------------------------------------------\u001b[0m",
      "\u001b[0;31mAttributeError\u001b[0m                            Traceback (most recent call last)",
      "\u001b[0;32m<ipython-input-19-235c7e09a970>\u001b[0m in \u001b[0;36m<module>\u001b[0;34m()\u001b[0m\n\u001b[0;32m----> 1\u001b[0;31m \u001b[0mhello_package\u001b[0m\u001b[0;34m.\u001b[0m\u001b[0mdiff\u001b[0m\u001b[0;34m\u001b[0m\u001b[0m\n\u001b[0m",
      "\u001b[0;31mAttributeError\u001b[0m: module 'hello_package' has no attribute 'diff'"
     ]
    }
   ],
   "source": [
    "hello_package.diff"
   ]
  },
  {
   "cell_type": "code",
   "execution_count": 20,
   "metadata": {
    "collapsed": true
   },
   "outputs": [],
   "source": [
    "import hello_package.diff"
   ]
  },
  {
   "cell_type": "code",
   "execution_count": 21,
   "metadata": {},
   "outputs": [
    {
     "ename": "NameError",
     "evalue": "name 'diff' is not defined",
     "output_type": "error",
     "traceback": [
      "\u001b[0;31m---------------------------------------------------------------------------\u001b[0m",
      "\u001b[0;31mNameError\u001b[0m                                 Traceback (most recent call last)",
      "\u001b[0;32m<ipython-input-21-6426abdabd6d>\u001b[0m in \u001b[0;36m<module>\u001b[0;34m()\u001b[0m\n\u001b[0;32m----> 1\u001b[0;31m \u001b[0mdiff\u001b[0m\u001b[0;34m.\u001b[0m\u001b[0mdiff\u001b[0m\u001b[0;34m(\u001b[0m\u001b[0;34m)\u001b[0m\u001b[0;34m\u001b[0m\u001b[0m\n\u001b[0m",
      "\u001b[0;31mNameError\u001b[0m: name 'diff' is not defined"
     ]
    }
   ],
   "source": [
    "diff.diff()"
   ]
  },
  {
   "cell_type": "code",
   "execution_count": 22,
   "metadata": {},
   "outputs": [
    {
     "data": {
      "text/plain": [
       "'diff'"
      ]
     },
     "execution_count": 22,
     "metadata": {},
     "output_type": "execute_result"
    }
   ],
   "source": [
    "hello_package.diff.diff()"
   ]
  },
  {
   "cell_type": "code",
   "execution_count": 23,
   "metadata": {
    "collapsed": true
   },
   "outputs": [],
   "source": [
    "import hello_package.diff as hello_diff"
   ]
  },
  {
   "cell_type": "code",
   "execution_count": 24,
   "metadata": {},
   "outputs": [
    {
     "data": {
      "text/plain": [
       "'diff'"
      ]
     },
     "execution_count": 24,
     "metadata": {},
     "output_type": "execute_result"
    }
   ],
   "source": [
    "hello_diff.diff()"
   ]
  },
  {
   "cell_type": "code",
   "execution_count": 25,
   "metadata": {},
   "outputs": [],
   "source": [
    "from hello_package.diff import diff"
   ]
  },
  {
   "cell_type": "code",
   "execution_count": 26,
   "metadata": {},
   "outputs": [
    {
     "data": {
      "text/plain": [
       "'diff'"
      ]
     },
     "execution_count": 26,
     "metadata": {},
     "output_type": "execute_result"
    }
   ],
   "source": [
    "diff()"
   ]
  },
  {
   "cell_type": "code",
   "execution_count": 27,
   "metadata": {},
   "outputs": [
    {
     "ename": "NameError",
     "evalue": "name 'patch' is not defined",
     "output_type": "error",
     "traceback": [
      "\u001b[0;31m---------------------------------------------------------------------------\u001b[0m",
      "\u001b[0;31mNameError\u001b[0m                                 Traceback (most recent call last)",
      "\u001b[0;32m<ipython-input-27-691a507cad95>\u001b[0m in \u001b[0;36m<module>\u001b[0;34m()\u001b[0m\n\u001b[0;32m----> 1\u001b[0;31m \u001b[0mpatch\u001b[0m\u001b[0;34m(\u001b[0m\u001b[0;34m)\u001b[0m\u001b[0;34m\u001b[0m\u001b[0m\n\u001b[0m",
      "\u001b[0;31mNameError\u001b[0m: name 'patch' is not defined"
     ]
    }
   ],
   "source": [
    "patch()"
   ]
  },
  {
   "cell_type": "code",
   "execution_count": 28,
   "metadata": {},
   "outputs": [],
   "source": [
    "from hello_package.diff import patch"
   ]
  },
  {
   "cell_type": "code",
   "execution_count": 29,
   "metadata": {},
   "outputs": [
    {
     "data": {
      "text/plain": [
       "'patch'"
      ]
     },
     "execution_count": 29,
     "metadata": {},
     "output_type": "execute_result"
    }
   ],
   "source": [
    "patch()"
   ]
  },
  {
   "cell_type": "code",
   "execution_count": null,
   "metadata": {
    "collapsed": true
   },
   "outputs": [],
   "source": []
  },
  {
   "cell_type": "markdown",
   "metadata": {},
   "source": [
    "### Relative import"
   ]
  },
  {
   "cell_type": "code",
   "execution_count": 30,
   "metadata": {
    "collapsed": true
   },
   "outputs": [],
   "source": [
    "import sys"
   ]
  },
  {
   "cell_type": "code",
   "execution_count": 31,
   "metadata": {},
   "outputs": [
    {
     "data": {
      "text/plain": [
       "['',\n",
       " '/home/idwaker/miniconda3/envs/pysession/lib/python35.zip',\n",
       " '/home/idwaker/miniconda3/envs/pysession/lib/python3.5',\n",
       " '/home/idwaker/miniconda3/envs/pysession/lib/python3.5/plat-linux',\n",
       " '/home/idwaker/miniconda3/envs/pysession/lib/python3.5/lib-dynload',\n",
       " '/home/idwaker/miniconda3/envs/pysession/lib/python3.5/site-packages',\n",
       " '/home/idwaker/miniconda3/envs/pysession/lib/python3.5/site-packages/setuptools-27.2.0-py3.5.egg',\n",
       " '/home/idwaker/miniconda3/envs/pysession/lib/python3.5/site-packages/IPython/extensions',\n",
       " '/home/idwaker/.ipython']"
      ]
     },
     "execution_count": 31,
     "metadata": {},
     "output_type": "execute_result"
    }
   ],
   "source": [
    "sys.path"
   ]
  },
  {
   "cell_type": "code",
   "execution_count": 32,
   "metadata": {},
   "outputs": [
    {
     "ename": "SystemError",
     "evalue": "Parent module '' not loaded, cannot perform relative import",
     "output_type": "error",
     "traceback": [
      "\u001b[0;31m---------------------------------------------------------------------------\u001b[0m",
      "\u001b[0;31mSystemError\u001b[0m                               Traceback (most recent call last)",
      "\u001b[0;32m<ipython-input-32-68445aa2deb8>\u001b[0m in \u001b[0;36m<module>\u001b[0;34m()\u001b[0m\n\u001b[0;32m----> 1\u001b[0;31m \u001b[0;32mfrom\u001b[0m \u001b[0;34m.\u001b[0m\u001b[0mhello\u001b[0m \u001b[0;32mimport\u001b[0m \u001b[0mhello\u001b[0m\u001b[0;34m\u001b[0m\u001b[0m\n\u001b[0m",
      "\u001b[0;31mSystemError\u001b[0m: Parent module '' not loaded, cannot perform relative import"
     ]
    }
   ],
   "source": [
    "from .hello import hello"
   ]
  },
  {
   "cell_type": "code",
   "execution_count": 34,
   "metadata": {},
   "outputs": [
    {
     "data": {
      "text/plain": [
       "'__main__'"
      ]
     },
     "execution_count": 34,
     "metadata": {},
     "output_type": "execute_result"
    }
   ],
   "source": [
    "__name__"
   ]
  },
  {
   "cell_type": "code",
   "execution_count": 35,
   "metadata": {},
   "outputs": [
    {
     "data": {
      "text/plain": [
       "'sys'"
      ]
     },
     "execution_count": 35,
     "metadata": {},
     "output_type": "execute_result"
    }
   ],
   "source": [
    "sys.__name__"
   ]
  },
  {
   "cell_type": "markdown",
   "metadata": {},
   "source": [
    "## Date and Time"
   ]
  },
  {
   "cell_type": "code",
   "execution_count": 36,
   "metadata": {
    "collapsed": true
   },
   "outputs": [],
   "source": [
    "import datetime"
   ]
  },
  {
   "cell_type": "code",
   "execution_count": 37,
   "metadata": {},
   "outputs": [
    {
     "data": {
      "text/plain": [
       "<module 'datetime' from '/home/idwaker/miniconda3/envs/pysession/lib/python3.5/datetime.py'>"
      ]
     },
     "execution_count": 37,
     "metadata": {},
     "output_type": "execute_result"
    }
   ],
   "source": [
    "datetime"
   ]
  },
  {
   "cell_type": "code",
   "execution_count": 38,
   "metadata": {},
   "outputs": [
    {
     "data": {
      "text/plain": [
       "datetime.datetime"
      ]
     },
     "execution_count": 38,
     "metadata": {},
     "output_type": "execute_result"
    }
   ],
   "source": [
    "datetime.datetime"
   ]
  },
  {
   "cell_type": "code",
   "execution_count": 39,
   "metadata": {},
   "outputs": [
    {
     "data": {
      "text/plain": [
       "datetime.datetime(2016, 10, 25, 8, 54, 53, 698617)"
      ]
     },
     "execution_count": 39,
     "metadata": {},
     "output_type": "execute_result"
    }
   ],
   "source": [
    "datetime.datetime.now()"
   ]
  },
  {
   "cell_type": "code",
   "execution_count": 40,
   "metadata": {},
   "outputs": [
    {
     "data": {
      "text/plain": [
       "datetime.datetime(2016, 10, 25, 8, 55, 17, 149884)"
      ]
     },
     "execution_count": 40,
     "metadata": {},
     "output_type": "execute_result"
    }
   ],
   "source": [
    "datetime.datetime.today()"
   ]
  },
  {
   "cell_type": "code",
   "execution_count": 41,
   "metadata": {},
   "outputs": [
    {
     "data": {
      "text/plain": [
       "datetime.date(2016, 10, 25)"
      ]
     },
     "execution_count": 41,
     "metadata": {},
     "output_type": "execute_result"
    }
   ],
   "source": [
    "datetime.date.today()"
   ]
  },
  {
   "cell_type": "code",
   "execution_count": 42,
   "metadata": {
    "collapsed": true
   },
   "outputs": [],
   "source": [
    "now = datetime.datetime.now()"
   ]
  },
  {
   "cell_type": "code",
   "execution_count": 43,
   "metadata": {},
   "outputs": [
    {
     "data": {
      "text/plain": [
       "datetime.datetime(2016, 10, 25, 8, 55, 37, 581478)"
      ]
     },
     "execution_count": 43,
     "metadata": {},
     "output_type": "execute_result"
    }
   ],
   "source": [
    "now"
   ]
  },
  {
   "cell_type": "code",
   "execution_count": 44,
   "metadata": {},
   "outputs": [
    {
     "data": {
      "text/plain": [
       "2016"
      ]
     },
     "execution_count": 44,
     "metadata": {},
     "output_type": "execute_result"
    }
   ],
   "source": [
    "now.year"
   ]
  },
  {
   "cell_type": "code",
   "execution_count": 45,
   "metadata": {},
   "outputs": [
    {
     "data": {
      "text/plain": [
       "581478"
      ]
     },
     "execution_count": 45,
     "metadata": {},
     "output_type": "execute_result"
    }
   ],
   "source": [
    "now.microsecond"
   ]
  },
  {
   "cell_type": "code",
   "execution_count": 46,
   "metadata": {},
   "outputs": [
    {
     "data": {
      "text/plain": [
       "37"
      ]
     },
     "execution_count": 46,
     "metadata": {},
     "output_type": "execute_result"
    }
   ],
   "source": [
    "now.second"
   ]
  },
  {
   "cell_type": "code",
   "execution_count": 47,
   "metadata": {},
   "outputs": [
    {
     "name": "stdout",
     "output_type": "stream",
     "text": [
      "Help on datetime object:\n",
      "\n",
      "class datetime(date)\n",
      " |  datetime(year, month, day[, hour[, minute[, second[, microsecond[,tzinfo]]]]])\n",
      " |  \n",
      " |  The year, month and day arguments are required. tzinfo may be None, or an\n",
      " |  instance of a tzinfo subclass. The remaining arguments may be ints.\n",
      " |  \n",
      " |  Method resolution order:\n",
      " |      datetime\n",
      " |      date\n",
      " |      builtins.object\n",
      " |  \n",
      " |  Methods defined here:\n",
      " |  \n",
      " |  __add__(self, value, /)\n",
      " |      Return self+value.\n",
      " |  \n",
      " |  __eq__(self, value, /)\n",
      " |      Return self==value.\n",
      " |  \n",
      " |  __ge__(self, value, /)\n",
      " |      Return self>=value.\n",
      " |  \n",
      " |  __getattribute__(self, name, /)\n",
      " |      Return getattr(self, name).\n",
      " |  \n",
      " |  __gt__(self, value, /)\n",
      " |      Return self>value.\n",
      " |  \n",
      " |  __hash__(self, /)\n",
      " |      Return hash(self).\n",
      " |  \n",
      " |  __le__(self, value, /)\n",
      " |      Return self<=value.\n",
      " |  \n",
      " |  __lt__(self, value, /)\n",
      " |      Return self<value.\n",
      " |  \n",
      " |  __ne__(self, value, /)\n",
      " |      Return self!=value.\n",
      " |  \n",
      " |  __new__(*args, **kwargs) from builtins.type\n",
      " |      Create and return a new object.  See help(type) for accurate signature.\n",
      " |  \n",
      " |  __radd__(self, value, /)\n",
      " |      Return value+self.\n",
      " |  \n",
      " |  __reduce__(...)\n",
      " |      __reduce__() -> (cls, state)\n",
      " |  \n",
      " |  __repr__(self, /)\n",
      " |      Return repr(self).\n",
      " |  \n",
      " |  __rsub__(self, value, /)\n",
      " |      Return value-self.\n",
      " |  \n",
      " |  __str__(self, /)\n",
      " |      Return str(self).\n",
      " |  \n",
      " |  __sub__(self, value, /)\n",
      " |      Return self-value.\n",
      " |  \n",
      " |  astimezone(...)\n",
      " |      tz -> convert to local time in new timezone tz\n",
      " |  \n",
      " |  combine(...) from builtins.type\n",
      " |      date, time -> datetime with same date and time fields\n",
      " |  \n",
      " |  ctime(...)\n",
      " |      Return ctime() style string.\n",
      " |  \n",
      " |  date(...)\n",
      " |      Return date object with same year, month and day.\n",
      " |  \n",
      " |  dst(...)\n",
      " |      Return self.tzinfo.dst(self).\n",
      " |  \n",
      " |  fromtimestamp(...) from builtins.type\n",
      " |      timestamp[, tz] -> tz's local time from POSIX timestamp.\n",
      " |  \n",
      " |  isoformat(...)\n",
      " |      [sep] -> string in ISO 8601 format, YYYY-MM-DDTHH:MM:SS[.mmmmmm][+HH:MM].\n",
      " |      \n",
      " |      sep is used to separate the year from the time, and defaults to 'T'.\n",
      " |  \n",
      " |  now(tz=None) from builtins.type\n",
      " |      Returns new datetime object representing current time local to tz.\n",
      " |      \n",
      " |        tz\n",
      " |          Timezone object.\n",
      " |      \n",
      " |      If no tz is specified, uses local timezone.\n",
      " |  \n",
      " |  replace(...)\n",
      " |      Return datetime with new specified fields.\n",
      " |  \n",
      " |  strptime(...) from builtins.type\n",
      " |      string, format -> new datetime parsed from a string (like time.strptime()).\n",
      " |  \n",
      " |  time(...)\n",
      " |      Return time object with same time but with tzinfo=None.\n",
      " |  \n",
      " |  timestamp(...)\n",
      " |      Return POSIX timestamp as float.\n",
      " |  \n",
      " |  timetuple(...)\n",
      " |      Return time tuple, compatible with time.localtime().\n",
      " |  \n",
      " |  timetz(...)\n",
      " |      Return time object with same time and tzinfo.\n",
      " |  \n",
      " |  tzname(...)\n",
      " |      Return self.tzinfo.tzname(self).\n",
      " |  \n",
      " |  utcfromtimestamp(...) from builtins.type\n",
      " |      Construct a naive UTC datetime from a POSIX timestamp.\n",
      " |  \n",
      " |  utcnow(...) from builtins.type\n",
      " |      Return a new datetime representing UTC day and time.\n",
      " |  \n",
      " |  utcoffset(...)\n",
      " |      Return self.tzinfo.utcoffset(self).\n",
      " |  \n",
      " |  utctimetuple(...)\n",
      " |      Return UTC time tuple, compatible with time.localtime().\n",
      " |  \n",
      " |  ----------------------------------------------------------------------\n",
      " |  Data descriptors defined here:\n",
      " |  \n",
      " |  hour\n",
      " |  \n",
      " |  microsecond\n",
      " |  \n",
      " |  minute\n",
      " |  \n",
      " |  second\n",
      " |  \n",
      " |  tzinfo\n",
      " |  \n",
      " |  ----------------------------------------------------------------------\n",
      " |  Data and other attributes defined here:\n",
      " |  \n",
      " |  max = datetime.datetime(9999, 12, 31, 23, 59, 59, 999999)\n",
      " |  \n",
      " |  min = datetime.datetime(1, 1, 1, 0, 0)\n",
      " |  \n",
      " |  resolution = datetime.timedelta(0, 0, 1)\n",
      " |  \n",
      " |  ----------------------------------------------------------------------\n",
      " |  Methods inherited from date:\n",
      " |  \n",
      " |  __format__(...)\n",
      " |      Formats self with strftime.\n",
      " |  \n",
      " |  fromordinal(...) from builtins.type\n",
      " |      int -> date corresponding to a proleptic Gregorian ordinal.\n",
      " |  \n",
      " |  isocalendar(...)\n",
      " |      Return a 3-tuple containing ISO year, week number, and weekday.\n",
      " |  \n",
      " |  isoweekday(...)\n",
      " |      Return the day of the week represented by the date.\n",
      " |      Monday == 1 ... Sunday == 7\n",
      " |  \n",
      " |  strftime(...)\n",
      " |      format -> strftime() style string.\n",
      " |  \n",
      " |  today(...) from builtins.type\n",
      " |      Current date or datetime:  same as self.__class__.fromtimestamp(time.time()).\n",
      " |  \n",
      " |  toordinal(...)\n",
      " |      Return proleptic Gregorian ordinal.  January 1 of year 1 is day 1.\n",
      " |  \n",
      " |  weekday(...)\n",
      " |      Return the day of the week represented by the date.\n",
      " |      Monday == 0 ... Sunday == 6\n",
      " |  \n",
      " |  ----------------------------------------------------------------------\n",
      " |  Data descriptors inherited from date:\n",
      " |  \n",
      " |  day\n",
      " |  \n",
      " |  month\n",
      " |  \n",
      " |  year\n",
      "\n"
     ]
    }
   ],
   "source": [
    "help(now)"
   ]
  },
  {
   "cell_type": "code",
   "execution_count": 48,
   "metadata": {
    "collapsed": true
   },
   "outputs": [],
   "source": [
    "yesterday = datetime.datetime(2016, 8, 1, 8, 32, 29)"
   ]
  },
  {
   "cell_type": "code",
   "execution_count": 49,
   "metadata": {},
   "outputs": [
    {
     "data": {
      "text/plain": [
       "datetime.datetime(2016, 8, 1, 8, 32, 29)"
      ]
     },
     "execution_count": 49,
     "metadata": {},
     "output_type": "execute_result"
    }
   ],
   "source": [
    "yesterday"
   ]
  },
  {
   "cell_type": "code",
   "execution_count": 50,
   "metadata": {},
   "outputs": [
    {
     "data": {
      "text/plain": [
       "False"
      ]
     },
     "execution_count": 50,
     "metadata": {},
     "output_type": "execute_result"
    }
   ],
   "source": [
    "now == yesterday"
   ]
  },
  {
   "cell_type": "code",
   "execution_count": 51,
   "metadata": {},
   "outputs": [
    {
     "data": {
      "text/plain": [
       "True"
      ]
     },
     "execution_count": 51,
     "metadata": {},
     "output_type": "execute_result"
    }
   ],
   "source": [
    "now > yesterday"
   ]
  },
  {
   "cell_type": "code",
   "execution_count": 52,
   "metadata": {},
   "outputs": [
    {
     "data": {
      "text/plain": [
       "False"
      ]
     },
     "execution_count": 52,
     "metadata": {},
     "output_type": "execute_result"
    }
   ],
   "source": [
    "now < yesterday"
   ]
  },
  {
   "cell_type": "code",
   "execution_count": 53,
   "metadata": {},
   "outputs": [
    {
     "data": {
      "text/plain": [
       "datetime.timedelta(85, 1388, 581478)"
      ]
     },
     "execution_count": 53,
     "metadata": {},
     "output_type": "execute_result"
    }
   ],
   "source": [
    "now - yesterday"
   ]
  },
  {
   "cell_type": "markdown",
   "metadata": {},
   "source": [
    "*timedelta is difference between two datetime*"
   ]
  },
  {
   "cell_type": "code",
   "execution_count": 54,
   "metadata": {
    "collapsed": true
   },
   "outputs": [],
   "source": [
    "delta = datetime.timedelta(days=3)"
   ]
  },
  {
   "cell_type": "code",
   "execution_count": 55,
   "metadata": {},
   "outputs": [
    {
     "data": {
      "text/plain": [
       "datetime.timedelta(3)"
      ]
     },
     "execution_count": 55,
     "metadata": {},
     "output_type": "execute_result"
    }
   ],
   "source": [
    "delta"
   ]
  },
  {
   "cell_type": "code",
   "execution_count": 56,
   "metadata": {},
   "outputs": [
    {
     "data": {
      "text/plain": [
       "datetime.datetime(2016, 8, 4, 8, 32, 29)"
      ]
     },
     "execution_count": 56,
     "metadata": {},
     "output_type": "execute_result"
    }
   ],
   "source": [
    "yesterday + delta"
   ]
  },
  {
   "cell_type": "code",
   "execution_count": 57,
   "metadata": {},
   "outputs": [
    {
     "data": {
      "text/plain": [
       "datetime.datetime(2016, 10, 22, 8, 55, 37, 581478)"
      ]
     },
     "execution_count": 57,
     "metadata": {},
     "output_type": "execute_result"
    }
   ],
   "source": [
    "now - delta"
   ]
  },
  {
   "cell_type": "code",
   "execution_count": 58,
   "metadata": {},
   "outputs": [
    {
     "ename": "TypeError",
     "evalue": "unsupported operand type(s) for /: 'datetime.datetime' and 'datetime.datetime'",
     "output_type": "error",
     "traceback": [
      "\u001b[0;31m---------------------------------------------------------------------------\u001b[0m",
      "\u001b[0;31mTypeError\u001b[0m                                 Traceback (most recent call last)",
      "\u001b[0;32m<ipython-input-58-66d4035ec74e>\u001b[0m in \u001b[0;36m<module>\u001b[0;34m()\u001b[0m\n\u001b[0;32m----> 1\u001b[0;31m \u001b[0myesterday\u001b[0m \u001b[0;34m/\u001b[0m \u001b[0mnow\u001b[0m\u001b[0;34m\u001b[0m\u001b[0m\n\u001b[0m",
      "\u001b[0;31mTypeError\u001b[0m: unsupported operand type(s) for /: 'datetime.datetime' and 'datetime.datetime'"
     ]
    }
   ],
   "source": [
    "yesterday / now"
   ]
  },
  {
   "cell_type": "code",
   "execution_count": 59,
   "metadata": {},
   "outputs": [
    {
     "ename": "TypeError",
     "evalue": "unsupported operand type(s) for //: 'datetime.datetime' and 'datetime.datetime'",
     "output_type": "error",
     "traceback": [
      "\u001b[0;31m---------------------------------------------------------------------------\u001b[0m",
      "\u001b[0;31mTypeError\u001b[0m                                 Traceback (most recent call last)",
      "\u001b[0;32m<ipython-input-59-35ef7a3741e8>\u001b[0m in \u001b[0;36m<module>\u001b[0;34m()\u001b[0m\n\u001b[0;32m----> 1\u001b[0;31m \u001b[0myesterday\u001b[0m \u001b[0;34m//\u001b[0m \u001b[0mnow\u001b[0m\u001b[0;34m\u001b[0m\u001b[0m\n\u001b[0m",
      "\u001b[0;31mTypeError\u001b[0m: unsupported operand type(s) for //: 'datetime.datetime' and 'datetime.datetime'"
     ]
    }
   ],
   "source": [
    "yesterday // now"
   ]
  },
  {
   "cell_type": "code",
   "execution_count": 60,
   "metadata": {},
   "outputs": [
    {
     "ename": "TypeError",
     "evalue": "unsupported operand type(s) for %: 'datetime.datetime' and 'datetime.datetime'",
     "output_type": "error",
     "traceback": [
      "\u001b[0;31m---------------------------------------------------------------------------\u001b[0m",
      "\u001b[0;31mTypeError\u001b[0m                                 Traceback (most recent call last)",
      "\u001b[0;32m<ipython-input-60-e44a9fbe464b>\u001b[0m in \u001b[0;36m<module>\u001b[0;34m()\u001b[0m\n\u001b[0;32m----> 1\u001b[0;31m \u001b[0myesterday\u001b[0m \u001b[0;34m%\u001b[0m \u001b[0mnow\u001b[0m\u001b[0;34m\u001b[0m\u001b[0m\n\u001b[0m",
      "\u001b[0;31mTypeError\u001b[0m: unsupported operand type(s) for %: 'datetime.datetime' and 'datetime.datetime'"
     ]
    }
   ],
   "source": [
    "yesterday % now"
   ]
  },
  {
   "cell_type": "code",
   "execution_count": 61,
   "metadata": {},
   "outputs": [
    {
     "ename": "TypeError",
     "evalue": "unsupported operand type(s) for *: 'datetime.datetime' and 'datetime.timedelta'",
     "output_type": "error",
     "traceback": [
      "\u001b[0;31m---------------------------------------------------------------------------\u001b[0m",
      "\u001b[0;31mTypeError\u001b[0m                                 Traceback (most recent call last)",
      "\u001b[0;32m<ipython-input-61-b6ce881b5690>\u001b[0m in \u001b[0;36m<module>\u001b[0;34m()\u001b[0m\n\u001b[0;32m----> 1\u001b[0;31m \u001b[0myesterday\u001b[0m \u001b[0;34m*\u001b[0m \u001b[0mdelta\u001b[0m\u001b[0;34m\u001b[0m\u001b[0m\n\u001b[0m",
      "\u001b[0;31mTypeError\u001b[0m: unsupported operand type(s) for *: 'datetime.datetime' and 'datetime.timedelta'"
     ]
    }
   ],
   "source": [
    "yesterday * delta"
   ]
  },
  {
   "cell_type": "code",
   "execution_count": 62,
   "metadata": {},
   "outputs": [
    {
     "name": "stdout",
     "output_type": "stream",
     "text": [
      "Help on class timedelta in module datetime:\n",
      "\n",
      "class timedelta(builtins.object)\n",
      " |  Difference between two datetime values.\n",
      " |  \n",
      " |  Methods defined here:\n",
      " |  \n",
      " |  __abs__(self, /)\n",
      " |      abs(self)\n",
      " |  \n",
      " |  __add__(self, value, /)\n",
      " |      Return self+value.\n",
      " |  \n",
      " |  __bool__(self, /)\n",
      " |      self != 0\n",
      " |  \n",
      " |  __divmod__(self, value, /)\n",
      " |      Return divmod(self, value).\n",
      " |  \n",
      " |  __eq__(self, value, /)\n",
      " |      Return self==value.\n",
      " |  \n",
      " |  __floordiv__(self, value, /)\n",
      " |      Return self//value.\n",
      " |  \n",
      " |  __ge__(self, value, /)\n",
      " |      Return self>=value.\n",
      " |  \n",
      " |  __getattribute__(self, name, /)\n",
      " |      Return getattr(self, name).\n",
      " |  \n",
      " |  __gt__(self, value, /)\n",
      " |      Return self>value.\n",
      " |  \n",
      " |  __hash__(self, /)\n",
      " |      Return hash(self).\n",
      " |  \n",
      " |  __le__(self, value, /)\n",
      " |      Return self<=value.\n",
      " |  \n",
      " |  __lt__(self, value, /)\n",
      " |      Return self<value.\n",
      " |  \n",
      " |  __mod__(self, value, /)\n",
      " |      Return self%value.\n",
      " |  \n",
      " |  __mul__(self, value, /)\n",
      " |      Return self*value.\n",
      " |  \n",
      " |  __ne__(self, value, /)\n",
      " |      Return self!=value.\n",
      " |  \n",
      " |  __neg__(self, /)\n",
      " |      -self\n",
      " |  \n",
      " |  __new__(*args, **kwargs) from builtins.type\n",
      " |      Create and return a new object.  See help(type) for accurate signature.\n",
      " |  \n",
      " |  __pos__(self, /)\n",
      " |      +self\n",
      " |  \n",
      " |  __radd__(self, value, /)\n",
      " |      Return value+self.\n",
      " |  \n",
      " |  __rdivmod__(self, value, /)\n",
      " |      Return divmod(value, self).\n",
      " |  \n",
      " |  __reduce__(...)\n",
      " |      __reduce__() -> (cls, state)\n",
      " |  \n",
      " |  __repr__(self, /)\n",
      " |      Return repr(self).\n",
      " |  \n",
      " |  __rfloordiv__(self, value, /)\n",
      " |      Return value//self.\n",
      " |  \n",
      " |  __rmod__(self, value, /)\n",
      " |      Return value%self.\n",
      " |  \n",
      " |  __rmul__(self, value, /)\n",
      " |      Return value*self.\n",
      " |  \n",
      " |  __rsub__(self, value, /)\n",
      " |      Return value-self.\n",
      " |  \n",
      " |  __rtruediv__(self, value, /)\n",
      " |      Return value/self.\n",
      " |  \n",
      " |  __str__(self, /)\n",
      " |      Return str(self).\n",
      " |  \n",
      " |  __sub__(self, value, /)\n",
      " |      Return self-value.\n",
      " |  \n",
      " |  __truediv__(self, value, /)\n",
      " |      Return self/value.\n",
      " |  \n",
      " |  total_seconds(...)\n",
      " |      Total seconds in the duration.\n",
      " |  \n",
      " |  ----------------------------------------------------------------------\n",
      " |  Data descriptors defined here:\n",
      " |  \n",
      " |  days\n",
      " |      Number of days.\n",
      " |  \n",
      " |  microseconds\n",
      " |      Number of microseconds (>= 0 and less than 1 second).\n",
      " |  \n",
      " |  seconds\n",
      " |      Number of seconds (>= 0 and less than 1 day).\n",
      " |  \n",
      " |  ----------------------------------------------------------------------\n",
      " |  Data and other attributes defined here:\n",
      " |  \n",
      " |  max = datetime.timedelta(999999999, 86399, 999999)\n",
      " |  \n",
      " |  min = datetime.timedelta(-999999999)\n",
      " |  \n",
      " |  resolution = datetime.timedelta(0, 0, 1)\n",
      "\n"
     ]
    }
   ],
   "source": [
    "help(datetime.timedelta)"
   ]
  },
  {
   "cell_type": "code",
   "execution_count": null,
   "metadata": {
    "collapsed": true
   },
   "outputs": [],
   "source": []
  },
  {
   "cell_type": "code",
   "execution_count": 63,
   "metadata": {},
   "outputs": [
    {
     "name": "stdout",
     "output_type": "stream",
     "text": [
      "Help on class datetime in module datetime:\n",
      "\n",
      "class datetime(date)\n",
      " |  datetime(year, month, day[, hour[, minute[, second[, microsecond[,tzinfo]]]]])\n",
      " |  \n",
      " |  The year, month and day arguments are required. tzinfo may be None, or an\n",
      " |  instance of a tzinfo subclass. The remaining arguments may be ints.\n",
      " |  \n",
      " |  Method resolution order:\n",
      " |      datetime\n",
      " |      date\n",
      " |      builtins.object\n",
      " |  \n",
      " |  Methods defined here:\n",
      " |  \n",
      " |  __add__(self, value, /)\n",
      " |      Return self+value.\n",
      " |  \n",
      " |  __eq__(self, value, /)\n",
      " |      Return self==value.\n",
      " |  \n",
      " |  __ge__(self, value, /)\n",
      " |      Return self>=value.\n",
      " |  \n",
      " |  __getattribute__(self, name, /)\n",
      " |      Return getattr(self, name).\n",
      " |  \n",
      " |  __gt__(self, value, /)\n",
      " |      Return self>value.\n",
      " |  \n",
      " |  __hash__(self, /)\n",
      " |      Return hash(self).\n",
      " |  \n",
      " |  __le__(self, value, /)\n",
      " |      Return self<=value.\n",
      " |  \n",
      " |  __lt__(self, value, /)\n",
      " |      Return self<value.\n",
      " |  \n",
      " |  __ne__(self, value, /)\n",
      " |      Return self!=value.\n",
      " |  \n",
      " |  __new__(*args, **kwargs) from builtins.type\n",
      " |      Create and return a new object.  See help(type) for accurate signature.\n",
      " |  \n",
      " |  __radd__(self, value, /)\n",
      " |      Return value+self.\n",
      " |  \n",
      " |  __reduce__(...)\n",
      " |      __reduce__() -> (cls, state)\n",
      " |  \n",
      " |  __repr__(self, /)\n",
      " |      Return repr(self).\n",
      " |  \n",
      " |  __rsub__(self, value, /)\n",
      " |      Return value-self.\n",
      " |  \n",
      " |  __str__(self, /)\n",
      " |      Return str(self).\n",
      " |  \n",
      " |  __sub__(self, value, /)\n",
      " |      Return self-value.\n",
      " |  \n",
      " |  astimezone(...)\n",
      " |      tz -> convert to local time in new timezone tz\n",
      " |  \n",
      " |  combine(...) from builtins.type\n",
      " |      date, time -> datetime with same date and time fields\n",
      " |  \n",
      " |  ctime(...)\n",
      " |      Return ctime() style string.\n",
      " |  \n",
      " |  date(...)\n",
      " |      Return date object with same year, month and day.\n",
      " |  \n",
      " |  dst(...)\n",
      " |      Return self.tzinfo.dst(self).\n",
      " |  \n",
      " |  fromtimestamp(...) from builtins.type\n",
      " |      timestamp[, tz] -> tz's local time from POSIX timestamp.\n",
      " |  \n",
      " |  isoformat(...)\n",
      " |      [sep] -> string in ISO 8601 format, YYYY-MM-DDTHH:MM:SS[.mmmmmm][+HH:MM].\n",
      " |      \n",
      " |      sep is used to separate the year from the time, and defaults to 'T'.\n",
      " |  \n",
      " |  now(tz=None) from builtins.type\n",
      " |      Returns new datetime object representing current time local to tz.\n",
      " |      \n",
      " |        tz\n",
      " |          Timezone object.\n",
      " |      \n",
      " |      If no tz is specified, uses local timezone.\n",
      " |  \n",
      " |  replace(...)\n",
      " |      Return datetime with new specified fields.\n",
      " |  \n",
      " |  strptime(...) from builtins.type\n",
      " |      string, format -> new datetime parsed from a string (like time.strptime()).\n",
      " |  \n",
      " |  time(...)\n",
      " |      Return time object with same time but with tzinfo=None.\n",
      " |  \n",
      " |  timestamp(...)\n",
      " |      Return POSIX timestamp as float.\n",
      " |  \n",
      " |  timetuple(...)\n",
      " |      Return time tuple, compatible with time.localtime().\n",
      " |  \n",
      " |  timetz(...)\n",
      " |      Return time object with same time and tzinfo.\n",
      " |  \n",
      " |  tzname(...)\n",
      " |      Return self.tzinfo.tzname(self).\n",
      " |  \n",
      " |  utcfromtimestamp(...) from builtins.type\n",
      " |      Construct a naive UTC datetime from a POSIX timestamp.\n",
      " |  \n",
      " |  utcnow(...) from builtins.type\n",
      " |      Return a new datetime representing UTC day and time.\n",
      " |  \n",
      " |  utcoffset(...)\n",
      " |      Return self.tzinfo.utcoffset(self).\n",
      " |  \n",
      " |  utctimetuple(...)\n",
      " |      Return UTC time tuple, compatible with time.localtime().\n",
      " |  \n",
      " |  ----------------------------------------------------------------------\n",
      " |  Data descriptors defined here:\n",
      " |  \n",
      " |  hour\n",
      " |  \n",
      " |  microsecond\n",
      " |  \n",
      " |  minute\n",
      " |  \n",
      " |  second\n",
      " |  \n",
      " |  tzinfo\n",
      " |  \n",
      " |  ----------------------------------------------------------------------\n",
      " |  Data and other attributes defined here:\n",
      " |  \n",
      " |  max = datetime.datetime(9999, 12, 31, 23, 59, 59, 999999)\n",
      " |  \n",
      " |  min = datetime.datetime(1, 1, 1, 0, 0)\n",
      " |  \n",
      " |  resolution = datetime.timedelta(0, 0, 1)\n",
      " |  \n",
      " |  ----------------------------------------------------------------------\n",
      " |  Methods inherited from date:\n",
      " |  \n",
      " |  __format__(...)\n",
      " |      Formats self with strftime.\n",
      " |  \n",
      " |  fromordinal(...) from builtins.type\n",
      " |      int -> date corresponding to a proleptic Gregorian ordinal.\n",
      " |  \n",
      " |  isocalendar(...)\n",
      " |      Return a 3-tuple containing ISO year, week number, and weekday.\n",
      " |  \n",
      " |  isoweekday(...)\n",
      " |      Return the day of the week represented by the date.\n",
      " |      Monday == 1 ... Sunday == 7\n",
      " |  \n",
      " |  strftime(...)\n",
      " |      format -> strftime() style string.\n",
      " |  \n",
      " |  today(...) from builtins.type\n",
      " |      Current date or datetime:  same as self.__class__.fromtimestamp(time.time()).\n",
      " |  \n",
      " |  toordinal(...)\n",
      " |      Return proleptic Gregorian ordinal.  January 1 of year 1 is day 1.\n",
      " |  \n",
      " |  weekday(...)\n",
      " |      Return the day of the week represented by the date.\n",
      " |      Monday == 0 ... Sunday == 6\n",
      " |  \n",
      " |  ----------------------------------------------------------------------\n",
      " |  Data descriptors inherited from date:\n",
      " |  \n",
      " |  day\n",
      " |  \n",
      " |  month\n",
      " |  \n",
      " |  year\n",
      "\n"
     ]
    }
   ],
   "source": [
    "help(datetime.datetime)"
   ]
  },
  {
   "cell_type": "code",
   "execution_count": null,
   "metadata": {
    "collapsed": true
   },
   "outputs": [],
   "source": []
  },
  {
   "cell_type": "code",
   "execution_count": 64,
   "metadata": {},
   "outputs": [
    {
     "data": {
      "text/plain": [
       "<datetime.tzinfo at 0x7f19432af370>"
      ]
     },
     "execution_count": 64,
     "metadata": {},
     "output_type": "execute_result"
    }
   ],
   "source": [
    "datetime.tzinfo('+530')"
   ]
  },
  {
   "cell_type": "code",
   "execution_count": 65,
   "metadata": {},
   "outputs": [
    {
     "data": {
      "text/plain": [
       "datetime.datetime(2016, 10, 20, 0, 0, tzinfo=<datetime.tzinfo object at 0x7f19432af380>)"
      ]
     },
     "execution_count": 65,
     "metadata": {},
     "output_type": "execute_result"
    }
   ],
   "source": [
    "datetime.datetime(2016, 10, 20, tzinfo=datetime.tzinfo('+530'))"
   ]
  },
  {
   "cell_type": "code",
   "execution_count": 66,
   "metadata": {
    "collapsed": true
   },
   "outputs": [],
   "source": [
    "now.tzinfo"
   ]
  },
  {
   "cell_type": "code",
   "execution_count": 67,
   "metadata": {},
   "outputs": [
    {
     "data": {
      "text/plain": [
       "datetime.datetime(2016, 10, 25, 9, 5, 29, 173218)"
      ]
     },
     "execution_count": 67,
     "metadata": {},
     "output_type": "execute_result"
    }
   ],
   "source": [
    "datetime.datetime.now()"
   ]
  },
  {
   "cell_type": "code",
   "execution_count": 68,
   "metadata": {},
   "outputs": [
    {
     "data": {
      "text/plain": [
       "datetime.datetime(2016, 10, 25, 3, 20, 37, 342742)"
      ]
     },
     "execution_count": 68,
     "metadata": {},
     "output_type": "execute_result"
    }
   ],
   "source": [
    "datetime.datetime.utcnow()"
   ]
  },
  {
   "cell_type": "code",
   "execution_count": null,
   "metadata": {
    "collapsed": true
   },
   "outputs": [],
   "source": []
  },
  {
   "cell_type": "code",
   "execution_count": null,
   "metadata": {
    "collapsed": true
   },
   "outputs": [],
   "source": []
  },
  {
   "cell_type": "markdown",
   "metadata": {},
   "source": [
    "## Files and Directories"
   ]
  },
  {
   "cell_type": "code",
   "execution_count": 69,
   "metadata": {
    "collapsed": true
   },
   "outputs": [],
   "source": [
    "f = open('hello.py')"
   ]
  },
  {
   "cell_type": "code",
   "execution_count": 70,
   "metadata": {},
   "outputs": [
    {
     "ename": "FileNotFoundError",
     "evalue": "[Errno 2] No such file or directory: 'non existing file'",
     "output_type": "error",
     "traceback": [
      "\u001b[0;31m---------------------------------------------------------------------------\u001b[0m",
      "\u001b[0;31mFileNotFoundError\u001b[0m                         Traceback (most recent call last)",
      "\u001b[0;32m<ipython-input-70-a28baaa15850>\u001b[0m in \u001b[0;36m<module>\u001b[0;34m()\u001b[0m\n\u001b[0;32m----> 1\u001b[0;31m \u001b[0mopen\u001b[0m\u001b[0;34m(\u001b[0m\u001b[0;34m'non existing file'\u001b[0m\u001b[0;34m)\u001b[0m\u001b[0;34m\u001b[0m\u001b[0m\n\u001b[0m",
      "\u001b[0;31mFileNotFoundError\u001b[0m: [Errno 2] No such file or directory: 'non existing file'"
     ]
    }
   ],
   "source": [
    "open('non existing file')"
   ]
  },
  {
   "cell_type": "code",
   "execution_count": 71,
   "metadata": {},
   "outputs": [
    {
     "data": {
      "text/plain": [
       "'\"\"\"\\nthis is simple module named hello\\n\"\"\"\\n\\ndef hello():\\n    print(\"Hello from separate file\")\\n'"
      ]
     },
     "execution_count": 71,
     "metadata": {},
     "output_type": "execute_result"
    }
   ],
   "source": [
    "f.read()"
   ]
  },
  {
   "cell_type": "code",
   "execution_count": 72,
   "metadata": {},
   "outputs": [
    {
     "data": {
      "text/plain": [
       "''"
      ]
     },
     "execution_count": 72,
     "metadata": {},
     "output_type": "execute_result"
    }
   ],
   "source": [
    "f.read()"
   ]
  },
  {
   "cell_type": "code",
   "execution_count": 73,
   "metadata": {},
   "outputs": [
    {
     "data": {
      "text/plain": [
       "0"
      ]
     },
     "execution_count": 73,
     "metadata": {},
     "output_type": "execute_result"
    }
   ],
   "source": [
    "f.seek(0)"
   ]
  },
  {
   "cell_type": "code",
   "execution_count": 74,
   "metadata": {},
   "outputs": [
    {
     "data": {
      "text/plain": [
       "'\"\"\"\\nthis is simple module named hello\\n\"\"\"\\n\\ndef hello():\\n    print(\"Hello from separate file\")\\n'"
      ]
     },
     "execution_count": 74,
     "metadata": {},
     "output_type": "execute_result"
    }
   ],
   "source": [
    "f.read()"
   ]
  },
  {
   "cell_type": "code",
   "execution_count": 75,
   "metadata": {},
   "outputs": [
    {
     "data": {
      "text/plain": [
       "0"
      ]
     },
     "execution_count": 75,
     "metadata": {},
     "output_type": "execute_result"
    }
   ],
   "source": [
    "f.seek(0)"
   ]
  },
  {
   "cell_type": "code",
   "execution_count": 76,
   "metadata": {},
   "outputs": [
    {
     "data": {
      "text/plain": [
       "['\"\"\"\\n',\n",
       " 'this is simple module named hello\\n',\n",
       " '\"\"\"\\n',\n",
       " '\\n',\n",
       " 'def hello():\\n',\n",
       " '    print(\"Hello from separate file\")\\n']"
      ]
     },
     "execution_count": 76,
     "metadata": {},
     "output_type": "execute_result"
    }
   ],
   "source": [
    "f.readlines()"
   ]
  },
  {
   "cell_type": "code",
   "execution_count": 77,
   "metadata": {},
   "outputs": [
    {
     "data": {
      "text/plain": [
       "0"
      ]
     },
     "execution_count": 77,
     "metadata": {},
     "output_type": "execute_result"
    }
   ],
   "source": [
    "f.seek(0)"
   ]
  },
  {
   "cell_type": "code",
   "execution_count": 78,
   "metadata": {},
   "outputs": [
    {
     "data": {
      "text/plain": [
       "'\"\"\"\\n'"
      ]
     },
     "execution_count": 78,
     "metadata": {},
     "output_type": "execute_result"
    }
   ],
   "source": [
    "f.readline()"
   ]
  },
  {
   "cell_type": "code",
   "execution_count": 79,
   "metadata": {},
   "outputs": [
    {
     "data": {
      "text/plain": [
       "'this is simple module named hello\\n'"
      ]
     },
     "execution_count": 79,
     "metadata": {},
     "output_type": "execute_result"
    }
   ],
   "source": [
    "f.readline()"
   ]
  },
  {
   "cell_type": "code",
   "execution_count": 80,
   "metadata": {},
   "outputs": [
    {
     "data": {
      "text/plain": [
       "'\"\"\"\\n'"
      ]
     },
     "execution_count": 80,
     "metadata": {},
     "output_type": "execute_result"
    }
   ],
   "source": [
    "f.readline()"
   ]
  },
  {
   "cell_type": "code",
   "execution_count": 81,
   "metadata": {
    "collapsed": true
   },
   "outputs": [],
   "source": [
    "f.close()"
   ]
  },
  {
   "cell_type": "code",
   "execution_count": 82,
   "metadata": {},
   "outputs": [
    {
     "name": "stdout",
     "output_type": "stream",
     "text": [
      "\"\"\"\n",
      "\n",
      "this is simple module named hello\n",
      "\n",
      "\"\"\"\n",
      "\n",
      "\n",
      "\n",
      "def hello():\n",
      "\n",
      "    print(\"Hello from separate file\")\n",
      "\n"
     ]
    }
   ],
   "source": [
    "with open('hello.py') as _file:\n",
    "    for line in _file.readlines():\n",
    "        print(line)"
   ]
  },
  {
   "cell_type": "code",
   "execution_count": null,
   "metadata": {
    "collapsed": true
   },
   "outputs": [],
   "source": []
  },
  {
   "cell_type": "markdown",
   "metadata": {},
   "source": [
    "**os**"
   ]
  },
  {
   "cell_type": "code",
   "execution_count": 83,
   "metadata": {
    "collapsed": true
   },
   "outputs": [],
   "source": [
    "import os"
   ]
  },
  {
   "cell_type": "code",
   "execution_count": 84,
   "metadata": {},
   "outputs": [
    {
     "data": {
      "text/plain": [
       "'/home/idwaker/Notebooks/pysessions/Python/Intermediate/hello.py'"
      ]
     },
     "execution_count": 84,
     "metadata": {},
     "output_type": "execute_result"
    }
   ],
   "source": [
    "os.path.abspath('hello.py')"
   ]
  },
  {
   "cell_type": "code",
   "execution_count": 85,
   "metadata": {},
   "outputs": [
    {
     "data": {
      "text/plain": [
       "'/home/idwaker/Notebooks/pysessions/Python/Intermediate'"
      ]
     },
     "execution_count": 85,
     "metadata": {},
     "output_type": "execute_result"
    }
   ],
   "source": [
    "os.path.dirname(os.path.abspath('hello.py'))"
   ]
  },
  {
   "cell_type": "code",
   "execution_count": 86,
   "metadata": {},
   "outputs": [
    {
     "data": {
      "text/plain": [
       "'/home/idwaker/Notebooks/pysessions/Python/Intermediate/another.py'"
      ]
     },
     "execution_count": 86,
     "metadata": {},
     "output_type": "execute_result"
    }
   ],
   "source": [
    "os.path.join(os.path.dirname(os.path.abspath('hello.py')), \n",
    "             'another.py')"
   ]
  },
  {
   "cell_type": "code",
   "execution_count": null,
   "metadata": {
    "collapsed": true
   },
   "outputs": [],
   "source": []
  },
  {
   "cell_type": "code",
   "execution_count": 87,
   "metadata": {
    "collapsed": true
   },
   "outputs": [],
   "source": [
    "import glob"
   ]
  },
  {
   "cell_type": "code",
   "execution_count": 88,
   "metadata": {},
   "outputs": [
    {
     "data": {
      "text/plain": [
       "['run.py', 'hello.py']"
      ]
     },
     "execution_count": 88,
     "metadata": {},
     "output_type": "execute_result"
    }
   ],
   "source": [
    "glob.glob('*.py')"
   ]
  },
  {
   "cell_type": "code",
   "execution_count": 89,
   "metadata": {},
   "outputs": [
    {
     "data": {
      "text/plain": [
       "['run.py',\n",
       " 'hello_package',\n",
       " 'week-02-unit-01-exceptions.ipynb',\n",
       " 'hello.py',\n",
       " 'week-01-unit-02-classes.ipynb',\n",
       " '__pycache__',\n",
       " 'week-01-unit-01-standard_library.ipynb',\n",
       " 'week-02-unit-02-decorators.ipynb',\n",
       " 'week-01-unit-03-comprehensions.ipynb',\n",
       " 'run.py~']"
      ]
     },
     "execution_count": 89,
     "metadata": {},
     "output_type": "execute_result"
    }
   ],
   "source": [
    "glob.glob('*')"
   ]
  },
  {
   "cell_type": "code",
   "execution_count": null,
   "metadata": {
    "collapsed": true
   },
   "outputs": [],
   "source": []
  },
  {
   "cell_type": "code",
   "execution_count": null,
   "metadata": {
    "collapsed": true
   },
   "outputs": [],
   "source": []
  },
  {
   "cell_type": "markdown",
   "metadata": {
    "collapsed": true
   },
   "source": [
    "idwaker@gmail.com"
   ]
  },
  {
   "cell_type": "markdown",
   "metadata": {},
   "source": [
    "## CSV files"
   ]
  },
  {
   "cell_type": "code",
   "execution_count": 90,
   "metadata": {
    "collapsed": true
   },
   "outputs": [],
   "source": [
    "import csv"
   ]
  },
  {
   "cell_type": "code",
   "execution_count": 91,
   "metadata": {},
   "outputs": [
    {
     "name": "stdout",
     "output_type": "stream",
     "text": [
      "['Name', 'Code']\n",
      "['Afghanistan', 'AF']\n",
      "['Åland Islands', 'AX']\n",
      "['Albania', 'AL']\n",
      "['Algeria', 'DZ']\n",
      "['American Samoa', 'AS']\n",
      "['Andorra', 'AD']\n",
      "['Angola', 'AO']\n",
      "['Anguilla', 'AI']\n",
      "['Antarctica', 'AQ']\n",
      "['Antigua and Barbuda', 'AG']\n",
      "['Argentina', 'AR']\n",
      "['Armenia', 'AM']\n",
      "['Aruba', 'AW']\n",
      "['Australia', 'AU']\n",
      "['Austria', 'AT']\n",
      "['Azerbaijan', 'AZ']\n",
      "['Bahamas', 'BS']\n",
      "['Bahrain', 'BH']\n",
      "['Bangladesh', 'BD']\n",
      "['Barbados', 'BB']\n",
      "['Belarus', 'BY']\n",
      "['Belgium', 'BE']\n",
      "['Belize', 'BZ']\n",
      "['Benin', 'BJ']\n",
      "['Bermuda', 'BM']\n",
      "['Bhutan', 'BT']\n",
      "['Bolivia, Plurinational State of', 'BO']\n",
      "['Bonaire, Sint Eustatius and Saba', 'BQ']\n",
      "['Bosnia and Herzegovina', 'BA']\n",
      "['Botswana', 'BW']\n",
      "['Bouvet Island', 'BV']\n",
      "['Brazil', 'BR']\n",
      "['British Indian Ocean Territory', 'IO']\n",
      "['Brunei Darussalam', 'BN']\n",
      "['Bulgaria', 'BG']\n",
      "['Burkina Faso', 'BF']\n",
      "['Burundi', 'BI']\n",
      "['Cambodia', 'KH']\n",
      "['Cameroon', 'CM']\n",
      "['Canada', 'CA']\n",
      "['Cape Verde', 'CV']\n",
      "['Cayman Islands', 'KY']\n",
      "['Central African Republic', 'CF']\n",
      "['Chad', 'TD']\n",
      "['Chile', 'CL']\n",
      "['China', 'CN']\n",
      "['Christmas Island', 'CX']\n",
      "['Cocos (Keeling) Islands', 'CC']\n",
      "['Colombia', 'CO']\n",
      "['Comoros', 'KM']\n",
      "['Congo', 'CG']\n",
      "['Congo, the Democratic Republic of the', 'CD']\n",
      "['Cook Islands', 'CK']\n",
      "['Costa Rica', 'CR']\n",
      "[\"Côte d'Ivoire\", 'CI']\n",
      "['Croatia', 'HR']\n",
      "['Cuba', 'CU']\n",
      "['Curaçao', 'CW']\n",
      "['Cyprus', 'CY']\n",
      "['Czech Republic', 'CZ']\n",
      "['Denmark', 'DK']\n",
      "['Djibouti', 'DJ']\n",
      "['Dominica', 'DM']\n",
      "['Dominican Republic', 'DO']\n",
      "['Ecuador', 'EC']\n",
      "['Egypt', 'EG']\n",
      "['El Salvador', 'SV']\n",
      "['Equatorial Guinea', 'GQ']\n",
      "['Eritrea', 'ER']\n",
      "['Estonia', 'EE']\n",
      "['Ethiopia', 'ET']\n",
      "['Falkland Islands (Malvinas)', 'FK']\n",
      "['Faroe Islands', 'FO']\n",
      "['Fiji', 'FJ']\n",
      "['Finland', 'FI']\n",
      "['France', 'FR']\n",
      "['French Guiana', 'GF']\n",
      "['French Polynesia', 'PF']\n",
      "['French Southern Territories', 'TF']\n",
      "['Gabon', 'GA']\n",
      "['Gambia', 'GM']\n",
      "['Georgia', 'GE']\n",
      "['Germany', 'DE']\n",
      "['Ghana', 'GH']\n",
      "['Gibraltar', 'GI']\n",
      "['Greece', 'GR']\n",
      "['Greenland', 'GL']\n",
      "['Grenada', 'GD']\n",
      "['Guadeloupe', 'GP']\n",
      "['Guam', 'GU']\n",
      "['Guatemala', 'GT']\n",
      "['Guernsey', 'GG']\n",
      "['Guinea', 'GN']\n",
      "['Guinea-Bissau', 'GW']\n",
      "['Guyana', 'GY']\n",
      "['Haiti', 'HT']\n",
      "['Heard Island and McDonald Islands', 'HM']\n",
      "['Holy See (Vatican City State)', 'VA']\n",
      "['Honduras', 'HN']\n",
      "['Hong Kong', 'HK']\n",
      "['Hungary', 'HU']\n",
      "['Iceland', 'IS']\n",
      "['India', 'IN']\n",
      "['Indonesia', 'ID']\n",
      "['Iran, Islamic Republic of', 'IR']\n",
      "['Iraq', 'IQ']\n",
      "['Ireland', 'IE']\n",
      "['Isle of Man', 'IM']\n",
      "['Israel', 'IL']\n",
      "['Italy', 'IT']\n",
      "['Jamaica', 'JM']\n",
      "['Japan', 'JP']\n",
      "['Jersey', 'JE']\n",
      "['Jordan', 'JO']\n",
      "['Kazakhstan', 'KZ']\n",
      "['Kenya', 'KE']\n",
      "['Kiribati', 'KI']\n",
      "[\"Korea, Democratic People's Republic of\", 'KP']\n",
      "['Korea, Republic of', 'KR']\n",
      "['Kuwait', 'KW']\n",
      "['Kyrgyzstan', 'KG']\n",
      "[\"Lao People's Democratic Republic\", 'LA']\n",
      "['Latvia', 'LV']\n",
      "['Lebanon', 'LB']\n",
      "['Lesotho', 'LS']\n",
      "['Liberia', 'LR']\n",
      "['Libya', 'LY']\n",
      "['Liechtenstein', 'LI']\n",
      "['Lithuania', 'LT']\n",
      "['Luxembourg', 'LU']\n",
      "['Macao', 'MO']\n",
      "['Macedonia, the Former Yugoslav Republic of', 'MK']\n",
      "['Madagascar', 'MG']\n",
      "['Malawi', 'MW']\n",
      "['Malaysia', 'MY']\n",
      "['Maldives', 'MV']\n",
      "['Mali', 'ML']\n",
      "['Malta', 'MT']\n",
      "['Marshall Islands', 'MH']\n",
      "['Martinique', 'MQ']\n",
      "['Mauritania', 'MR']\n",
      "['Mauritius', 'MU']\n",
      "['Mayotte', 'YT']\n",
      "['Mexico', 'MX']\n",
      "['Micronesia, Federated States of', 'FM']\n",
      "['Moldova, Republic of', 'MD']\n",
      "['Monaco', 'MC']\n",
      "['Mongolia', 'MN']\n",
      "['Montenegro', 'ME']\n",
      "['Montserrat', 'MS']\n",
      "['Morocco', 'MA']\n",
      "['Mozambique', 'MZ']\n",
      "['Myanmar', 'MM']\n",
      "['Namibia', 'NA']\n",
      "['Nauru', 'NR']\n",
      "['Nepal', 'NP']\n",
      "['Netherlands', 'NL']\n",
      "['New Caledonia', 'NC']\n",
      "['New Zealand', 'NZ']\n",
      "['Nicaragua', 'NI']\n",
      "['Niger', 'NE']\n",
      "['Nigeria', 'NG']\n",
      "['Niue', 'NU']\n",
      "['Norfolk Island', 'NF']\n",
      "['Northern Mariana Islands', 'MP']\n",
      "['Norway', 'NO']\n",
      "['Oman', 'OM']\n",
      "['Pakistan', 'PK']\n",
      "['Palau', 'PW']\n",
      "['Palestine, State of', 'PS']\n",
      "['Panama', 'PA']\n",
      "['Papua New Guinea', 'PG']\n",
      "['Paraguay', 'PY']\n",
      "['Peru', 'PE']\n",
      "['Philippines', 'PH']\n",
      "['Pitcairn', 'PN']\n",
      "['Poland', 'PL']\n",
      "['Portugal', 'PT']\n",
      "['Puerto Rico', 'PR']\n",
      "['Qatar', 'QA']\n",
      "['Réunion', 'RE']\n",
      "['Romania', 'RO']\n",
      "['Russian Federation', 'RU']\n",
      "['Rwanda', 'RW']\n",
      "['Saint Barthélemy', 'BL']\n",
      "['Saint Helena, Ascension and Tristan da Cunha', 'SH']\n",
      "['Saint Kitts and Nevis', 'KN']\n",
      "['Saint Lucia', 'LC']\n",
      "['Saint Martin (French part)', 'MF']\n",
      "['Saint Pierre and Miquelon', 'PM']\n",
      "['Saint Vincent and the Grenadines', 'VC']\n",
      "['Samoa', 'WS']\n",
      "['San Marino', 'SM']\n",
      "['Sao Tome and Principe', 'ST']\n",
      "['Saudi Arabia', 'SA']\n",
      "['Senegal', 'SN']\n",
      "['Serbia', 'RS']\n",
      "['Seychelles', 'SC']\n",
      "['Sierra Leone', 'SL']\n",
      "['Singapore', 'SG']\n",
      "['Sint Maarten (Dutch part)', 'SX']\n",
      "['Slovakia', 'SK']\n",
      "['Slovenia', 'SI']\n",
      "['Solomon Islands', 'SB']\n",
      "['Somalia', 'SO']\n",
      "['South Africa', 'ZA']\n",
      "['South Georgia and the South Sandwich Islands', 'GS']\n",
      "['South Sudan', 'SS']\n",
      "['Spain', 'ES']\n",
      "['Sri Lanka', 'LK']\n",
      "['Sudan', 'SD']\n",
      "['Suriname', 'SR']\n",
      "['Svalbard and Jan Mayen', 'SJ']\n",
      "['Swaziland', 'SZ']\n",
      "['Sweden', 'SE']\n",
      "['Switzerland', 'CH']\n",
      "['Syrian Arab Republic', 'SY']\n",
      "['Taiwan, Province of China', 'TW']\n",
      "['Tajikistan', 'TJ']\n",
      "['Tanzania, United Republic of', 'TZ']\n",
      "['Thailand', 'TH']\n",
      "['Timor-Leste', 'TL']\n",
      "['Togo', 'TG']\n",
      "['Tokelau', 'TK']\n",
      "['Tonga', 'TO']\n",
      "['Trinidad and Tobago', 'TT']\n",
      "['Tunisia', 'TN']\n",
      "['Turkey', 'TR']\n",
      "['Turkmenistan', 'TM']\n",
      "['Turks and Caicos Islands', 'TC']\n",
      "['Tuvalu', 'TV']\n",
      "['Uganda', 'UG']\n",
      "['Ukraine', 'UA']\n",
      "['United Arab Emirates', 'AE']\n",
      "['United Kingdom', 'GB']\n",
      "['United States', 'US']\n",
      "['United States Minor Outlying Islands', 'UM']\n",
      "['Uruguay', 'UY']\n",
      "['Uzbekistan', 'UZ']\n",
      "['Vanuatu', 'VU']\n",
      "['Venezuela, Bolivarian Republic of', 'VE']\n",
      "['Viet Nam', 'VN']\n",
      "['Virgin Islands, British', 'VG']\n",
      "['Virgin Islands, U.S.', 'VI']\n",
      "['Wallis and Futuna', 'WF']\n",
      "['Western Sahara', 'EH']\n",
      "['Yemen', 'YE']\n",
      "['Zambia', 'ZM']\n",
      "['Zimbabwe', 'ZW']\n"
     ]
    }
   ],
   "source": [
    "with open('../../data/countries.csv') as csvfile:\n",
    "    reader = csv.reader(csvfile)\n",
    "    for line in reader:\n",
    "        print(line)"
   ]
  },
  {
   "cell_type": "code",
   "execution_count": 94,
   "metadata": {},
   "outputs": [
    {
     "name": "stdout",
     "output_type": "stream",
     "text": [
      "{'name': 'Name', 'code': 'Code'}\n",
      "{'name': 'Afghanistan', 'code': 'AF'}\n",
      "{'name': 'Åland Islands', 'code': 'AX'}\n",
      "{'name': 'Albania', 'code': 'AL'}\n",
      "{'name': 'Algeria', 'code': 'DZ'}\n",
      "{'name': 'American Samoa', 'code': 'AS'}\n",
      "{'name': 'Andorra', 'code': 'AD'}\n",
      "{'name': 'Angola', 'code': 'AO'}\n",
      "{'name': 'Anguilla', 'code': 'AI'}\n",
      "{'name': 'Antarctica', 'code': 'AQ'}\n",
      "{'name': 'Antigua and Barbuda', 'code': 'AG'}\n",
      "{'name': 'Argentina', 'code': 'AR'}\n",
      "{'name': 'Armenia', 'code': 'AM'}\n",
      "{'name': 'Aruba', 'code': 'AW'}\n",
      "{'name': 'Australia', 'code': 'AU'}\n",
      "{'name': 'Austria', 'code': 'AT'}\n",
      "{'name': 'Azerbaijan', 'code': 'AZ'}\n",
      "{'name': 'Bahamas', 'code': 'BS'}\n",
      "{'name': 'Bahrain', 'code': 'BH'}\n",
      "{'name': 'Bangladesh', 'code': 'BD'}\n",
      "{'name': 'Barbados', 'code': 'BB'}\n",
      "{'name': 'Belarus', 'code': 'BY'}\n",
      "{'name': 'Belgium', 'code': 'BE'}\n",
      "{'name': 'Belize', 'code': 'BZ'}\n",
      "{'name': 'Benin', 'code': 'BJ'}\n",
      "{'name': 'Bermuda', 'code': 'BM'}\n",
      "{'name': 'Bhutan', 'code': 'BT'}\n",
      "{'name': 'Bolivia, Plurinational State of', 'code': 'BO'}\n",
      "{'name': 'Bonaire, Sint Eustatius and Saba', 'code': 'BQ'}\n",
      "{'name': 'Bosnia and Herzegovina', 'code': 'BA'}\n",
      "{'name': 'Botswana', 'code': 'BW'}\n",
      "{'name': 'Bouvet Island', 'code': 'BV'}\n",
      "{'name': 'Brazil', 'code': 'BR'}\n",
      "{'name': 'British Indian Ocean Territory', 'code': 'IO'}\n",
      "{'name': 'Brunei Darussalam', 'code': 'BN'}\n",
      "{'name': 'Bulgaria', 'code': 'BG'}\n",
      "{'name': 'Burkina Faso', 'code': 'BF'}\n",
      "{'name': 'Burundi', 'code': 'BI'}\n",
      "{'name': 'Cambodia', 'code': 'KH'}\n",
      "{'name': 'Cameroon', 'code': 'CM'}\n",
      "{'name': 'Canada', 'code': 'CA'}\n",
      "{'name': 'Cape Verde', 'code': 'CV'}\n",
      "{'name': 'Cayman Islands', 'code': 'KY'}\n",
      "{'name': 'Central African Republic', 'code': 'CF'}\n",
      "{'name': 'Chad', 'code': 'TD'}\n",
      "{'name': 'Chile', 'code': 'CL'}\n",
      "{'name': 'China', 'code': 'CN'}\n",
      "{'name': 'Christmas Island', 'code': 'CX'}\n",
      "{'name': 'Cocos (Keeling) Islands', 'code': 'CC'}\n",
      "{'name': 'Colombia', 'code': 'CO'}\n",
      "{'name': 'Comoros', 'code': 'KM'}\n",
      "{'name': 'Congo', 'code': 'CG'}\n",
      "{'name': 'Congo, the Democratic Republic of the', 'code': 'CD'}\n",
      "{'name': 'Cook Islands', 'code': 'CK'}\n",
      "{'name': 'Costa Rica', 'code': 'CR'}\n",
      "{'name': \"Côte d'Ivoire\", 'code': 'CI'}\n",
      "{'name': 'Croatia', 'code': 'HR'}\n",
      "{'name': 'Cuba', 'code': 'CU'}\n",
      "{'name': 'Curaçao', 'code': 'CW'}\n",
      "{'name': 'Cyprus', 'code': 'CY'}\n",
      "{'name': 'Czech Republic', 'code': 'CZ'}\n",
      "{'name': 'Denmark', 'code': 'DK'}\n",
      "{'name': 'Djibouti', 'code': 'DJ'}\n",
      "{'name': 'Dominica', 'code': 'DM'}\n",
      "{'name': 'Dominican Republic', 'code': 'DO'}\n",
      "{'name': 'Ecuador', 'code': 'EC'}\n",
      "{'name': 'Egypt', 'code': 'EG'}\n",
      "{'name': 'El Salvador', 'code': 'SV'}\n",
      "{'name': 'Equatorial Guinea', 'code': 'GQ'}\n",
      "{'name': 'Eritrea', 'code': 'ER'}\n",
      "{'name': 'Estonia', 'code': 'EE'}\n",
      "{'name': 'Ethiopia', 'code': 'ET'}\n",
      "{'name': 'Falkland Islands (Malvinas)', 'code': 'FK'}\n",
      "{'name': 'Faroe Islands', 'code': 'FO'}\n",
      "{'name': 'Fiji', 'code': 'FJ'}\n",
      "{'name': 'Finland', 'code': 'FI'}\n",
      "{'name': 'France', 'code': 'FR'}\n",
      "{'name': 'French Guiana', 'code': 'GF'}\n",
      "{'name': 'French Polynesia', 'code': 'PF'}\n",
      "{'name': 'French Southern Territories', 'code': 'TF'}\n",
      "{'name': 'Gabon', 'code': 'GA'}\n",
      "{'name': 'Gambia', 'code': 'GM'}\n",
      "{'name': 'Georgia', 'code': 'GE'}\n",
      "{'name': 'Germany', 'code': 'DE'}\n",
      "{'name': 'Ghana', 'code': 'GH'}\n",
      "{'name': 'Gibraltar', 'code': 'GI'}\n",
      "{'name': 'Greece', 'code': 'GR'}\n",
      "{'name': 'Greenland', 'code': 'GL'}\n",
      "{'name': 'Grenada', 'code': 'GD'}\n",
      "{'name': 'Guadeloupe', 'code': 'GP'}\n",
      "{'name': 'Guam', 'code': 'GU'}\n",
      "{'name': 'Guatemala', 'code': 'GT'}\n",
      "{'name': 'Guernsey', 'code': 'GG'}\n",
      "{'name': 'Guinea', 'code': 'GN'}\n",
      "{'name': 'Guinea-Bissau', 'code': 'GW'}\n",
      "{'name': 'Guyana', 'code': 'GY'}\n",
      "{'name': 'Haiti', 'code': 'HT'}\n",
      "{'name': 'Heard Island and McDonald Islands', 'code': 'HM'}\n",
      "{'name': 'Holy See (Vatican City State)', 'code': 'VA'}\n",
      "{'name': 'Honduras', 'code': 'HN'}\n",
      "{'name': 'Hong Kong', 'code': 'HK'}\n",
      "{'name': 'Hungary', 'code': 'HU'}\n",
      "{'name': 'Iceland', 'code': 'IS'}\n",
      "{'name': 'India', 'code': 'IN'}\n",
      "{'name': 'Indonesia', 'code': 'ID'}\n",
      "{'name': 'Iran, Islamic Republic of', 'code': 'IR'}\n",
      "{'name': 'Iraq', 'code': 'IQ'}\n",
      "{'name': 'Ireland', 'code': 'IE'}\n",
      "{'name': 'Isle of Man', 'code': 'IM'}\n",
      "{'name': 'Israel', 'code': 'IL'}\n",
      "{'name': 'Italy', 'code': 'IT'}\n",
      "{'name': 'Jamaica', 'code': 'JM'}\n",
      "{'name': 'Japan', 'code': 'JP'}\n",
      "{'name': 'Jersey', 'code': 'JE'}\n",
      "{'name': 'Jordan', 'code': 'JO'}\n",
      "{'name': 'Kazakhstan', 'code': 'KZ'}\n",
      "{'name': 'Kenya', 'code': 'KE'}\n",
      "{'name': 'Kiribati', 'code': 'KI'}\n",
      "{'name': \"Korea, Democratic People's Republic of\", 'code': 'KP'}\n",
      "{'name': 'Korea, Republic of', 'code': 'KR'}\n",
      "{'name': 'Kuwait', 'code': 'KW'}\n",
      "{'name': 'Kyrgyzstan', 'code': 'KG'}\n",
      "{'name': \"Lao People's Democratic Republic\", 'code': 'LA'}\n",
      "{'name': 'Latvia', 'code': 'LV'}\n",
      "{'name': 'Lebanon', 'code': 'LB'}\n",
      "{'name': 'Lesotho', 'code': 'LS'}\n",
      "{'name': 'Liberia', 'code': 'LR'}\n",
      "{'name': 'Libya', 'code': 'LY'}\n",
      "{'name': 'Liechtenstein', 'code': 'LI'}\n",
      "{'name': 'Lithuania', 'code': 'LT'}\n",
      "{'name': 'Luxembourg', 'code': 'LU'}\n",
      "{'name': 'Macao', 'code': 'MO'}\n",
      "{'name': 'Macedonia, the Former Yugoslav Republic of', 'code': 'MK'}\n",
      "{'name': 'Madagascar', 'code': 'MG'}\n",
      "{'name': 'Malawi', 'code': 'MW'}\n",
      "{'name': 'Malaysia', 'code': 'MY'}\n",
      "{'name': 'Maldives', 'code': 'MV'}\n",
      "{'name': 'Mali', 'code': 'ML'}\n",
      "{'name': 'Malta', 'code': 'MT'}\n",
      "{'name': 'Marshall Islands', 'code': 'MH'}\n",
      "{'name': 'Martinique', 'code': 'MQ'}\n",
      "{'name': 'Mauritania', 'code': 'MR'}\n",
      "{'name': 'Mauritius', 'code': 'MU'}\n",
      "{'name': 'Mayotte', 'code': 'YT'}\n",
      "{'name': 'Mexico', 'code': 'MX'}\n",
      "{'name': 'Micronesia, Federated States of', 'code': 'FM'}\n",
      "{'name': 'Moldova, Republic of', 'code': 'MD'}\n",
      "{'name': 'Monaco', 'code': 'MC'}\n",
      "{'name': 'Mongolia', 'code': 'MN'}\n",
      "{'name': 'Montenegro', 'code': 'ME'}\n",
      "{'name': 'Montserrat', 'code': 'MS'}\n",
      "{'name': 'Morocco', 'code': 'MA'}\n",
      "{'name': 'Mozambique', 'code': 'MZ'}\n",
      "{'name': 'Myanmar', 'code': 'MM'}\n",
      "{'name': 'Namibia', 'code': 'NA'}\n",
      "{'name': 'Nauru', 'code': 'NR'}\n",
      "{'name': 'Nepal', 'code': 'NP'}\n",
      "{'name': 'Netherlands', 'code': 'NL'}\n",
      "{'name': 'New Caledonia', 'code': 'NC'}\n",
      "{'name': 'New Zealand', 'code': 'NZ'}\n",
      "{'name': 'Nicaragua', 'code': 'NI'}\n",
      "{'name': 'Niger', 'code': 'NE'}\n",
      "{'name': 'Nigeria', 'code': 'NG'}\n",
      "{'name': 'Niue', 'code': 'NU'}\n",
      "{'name': 'Norfolk Island', 'code': 'NF'}\n",
      "{'name': 'Northern Mariana Islands', 'code': 'MP'}\n",
      "{'name': 'Norway', 'code': 'NO'}\n",
      "{'name': 'Oman', 'code': 'OM'}\n",
      "{'name': 'Pakistan', 'code': 'PK'}\n",
      "{'name': 'Palau', 'code': 'PW'}\n",
      "{'name': 'Palestine, State of', 'code': 'PS'}\n",
      "{'name': 'Panama', 'code': 'PA'}\n",
      "{'name': 'Papua New Guinea', 'code': 'PG'}\n",
      "{'name': 'Paraguay', 'code': 'PY'}\n",
      "{'name': 'Peru', 'code': 'PE'}\n",
      "{'name': 'Philippines', 'code': 'PH'}\n",
      "{'name': 'Pitcairn', 'code': 'PN'}\n",
      "{'name': 'Poland', 'code': 'PL'}\n",
      "{'name': 'Portugal', 'code': 'PT'}\n",
      "{'name': 'Puerto Rico', 'code': 'PR'}\n",
      "{'name': 'Qatar', 'code': 'QA'}\n",
      "{'name': 'Réunion', 'code': 'RE'}\n",
      "{'name': 'Romania', 'code': 'RO'}\n",
      "{'name': 'Russian Federation', 'code': 'RU'}\n",
      "{'name': 'Rwanda', 'code': 'RW'}\n",
      "{'name': 'Saint Barthélemy', 'code': 'BL'}\n",
      "{'name': 'Saint Helena, Ascension and Tristan da Cunha', 'code': 'SH'}\n",
      "{'name': 'Saint Kitts and Nevis', 'code': 'KN'}\n",
      "{'name': 'Saint Lucia', 'code': 'LC'}\n",
      "{'name': 'Saint Martin (French part)', 'code': 'MF'}\n",
      "{'name': 'Saint Pierre and Miquelon', 'code': 'PM'}\n",
      "{'name': 'Saint Vincent and the Grenadines', 'code': 'VC'}\n",
      "{'name': 'Samoa', 'code': 'WS'}\n",
      "{'name': 'San Marino', 'code': 'SM'}\n",
      "{'name': 'Sao Tome and Principe', 'code': 'ST'}\n",
      "{'name': 'Saudi Arabia', 'code': 'SA'}\n",
      "{'name': 'Senegal', 'code': 'SN'}\n",
      "{'name': 'Serbia', 'code': 'RS'}\n",
      "{'name': 'Seychelles', 'code': 'SC'}\n",
      "{'name': 'Sierra Leone', 'code': 'SL'}\n",
      "{'name': 'Singapore', 'code': 'SG'}\n",
      "{'name': 'Sint Maarten (Dutch part)', 'code': 'SX'}\n",
      "{'name': 'Slovakia', 'code': 'SK'}\n",
      "{'name': 'Slovenia', 'code': 'SI'}\n",
      "{'name': 'Solomon Islands', 'code': 'SB'}\n",
      "{'name': 'Somalia', 'code': 'SO'}\n",
      "{'name': 'South Africa', 'code': 'ZA'}\n",
      "{'name': 'South Georgia and the South Sandwich Islands', 'code': 'GS'}\n",
      "{'name': 'South Sudan', 'code': 'SS'}\n",
      "{'name': 'Spain', 'code': 'ES'}\n",
      "{'name': 'Sri Lanka', 'code': 'LK'}\n",
      "{'name': 'Sudan', 'code': 'SD'}\n",
      "{'name': 'Suriname', 'code': 'SR'}\n",
      "{'name': 'Svalbard and Jan Mayen', 'code': 'SJ'}\n",
      "{'name': 'Swaziland', 'code': 'SZ'}\n",
      "{'name': 'Sweden', 'code': 'SE'}\n",
      "{'name': 'Switzerland', 'code': 'CH'}\n",
      "{'name': 'Syrian Arab Republic', 'code': 'SY'}\n",
      "{'name': 'Taiwan, Province of China', 'code': 'TW'}\n",
      "{'name': 'Tajikistan', 'code': 'TJ'}\n",
      "{'name': 'Tanzania, United Republic of', 'code': 'TZ'}\n",
      "{'name': 'Thailand', 'code': 'TH'}\n",
      "{'name': 'Timor-Leste', 'code': 'TL'}\n",
      "{'name': 'Togo', 'code': 'TG'}\n",
      "{'name': 'Tokelau', 'code': 'TK'}\n",
      "{'name': 'Tonga', 'code': 'TO'}\n",
      "{'name': 'Trinidad and Tobago', 'code': 'TT'}\n",
      "{'name': 'Tunisia', 'code': 'TN'}\n",
      "{'name': 'Turkey', 'code': 'TR'}\n",
      "{'name': 'Turkmenistan', 'code': 'TM'}\n",
      "{'name': 'Turks and Caicos Islands', 'code': 'TC'}\n",
      "{'name': 'Tuvalu', 'code': 'TV'}\n",
      "{'name': 'Uganda', 'code': 'UG'}\n",
      "{'name': 'Ukraine', 'code': 'UA'}\n",
      "{'name': 'United Arab Emirates', 'code': 'AE'}\n",
      "{'name': 'United Kingdom', 'code': 'GB'}\n",
      "{'name': 'United States', 'code': 'US'}\n",
      "{'name': 'United States Minor Outlying Islands', 'code': 'UM'}\n",
      "{'name': 'Uruguay', 'code': 'UY'}\n",
      "{'name': 'Uzbekistan', 'code': 'UZ'}\n",
      "{'name': 'Vanuatu', 'code': 'VU'}\n",
      "{'name': 'Venezuela, Bolivarian Republic of', 'code': 'VE'}\n",
      "{'name': 'Viet Nam', 'code': 'VN'}\n",
      "{'name': 'Virgin Islands, British', 'code': 'VG'}\n",
      "{'name': 'Virgin Islands, U.S.', 'code': 'VI'}\n",
      "{'name': 'Wallis and Futuna', 'code': 'WF'}\n",
      "{'name': 'Western Sahara', 'code': 'EH'}\n",
      "{'name': 'Yemen', 'code': 'YE'}\n",
      "{'name': 'Zambia', 'code': 'ZM'}\n",
      "{'name': 'Zimbabwe', 'code': 'ZW'}\n"
     ]
    }
   ],
   "source": [
    "with open('../../data/countries.csv') as csvfile:\n",
    "    reader = csv.DictReader(csvfile, fieldnames=['name', 'code'])\n",
    "    for line in reader:\n",
    "        print(line)"
   ]
  },
  {
   "cell_type": "code",
   "execution_count": null,
   "metadata": {},
   "outputs": [],
   "source": []
  },
  {
   "cell_type": "code",
   "execution_count": 95,
   "metadata": {
    "collapsed": true
   },
   "outputs": [],
   "source": [
    "data = [\n",
    "{'continent': 'asia', 'name': 'nepal'},\n",
    "{'continent': 'asia', 'name': 'india'},\n",
    "{'continent': 'asia', 'name': 'japan'},\n",
    "{'continent': 'africa', 'name': 'chad'},\n",
    "{'continent': 'africa', 'name': 'nigeria'},\n",
    "{'continent': 'europe', 'name': 'greece'},\n",
    "{'continent': 'europe', 'name': 'norway'},\n",
    "{'continent': 'north america', 'name': 'canada'},\n",
    "{'continent': 'north america', 'name': 'mexico'},\n",
    "{'continent': 'south america', 'name': 'brazil'},\n",
    "{'continent': 'south america', 'name': 'chile'}\n",
    "]"
   ]
  },
  {
   "cell_type": "code",
   "execution_count": 96,
   "metadata": {
    "collapsed": true
   },
   "outputs": [],
   "source": [
    "# r == read\n",
    "# w == write [ erase the file first ]\n",
    "# a == apend\n",
    "with open('countries.csv', 'w') as csvfile:\n",
    "    writer = csv.DictWriter(csvfile, \n",
    "                            fieldnames=['name', 'continent'])\n",
    "    writer.writeheader()\n",
    "    writer.writerows(data)"
   ]
  },
  {
   "cell_type": "code",
   "execution_count": 97,
   "metadata": {
    "collapsed": true
   },
   "outputs": [],
   "source": [
    "# r == read\n",
    "# w == write [ erase the file first ]\n",
    "# a == apend\n",
    "with open('countries.csv', 'a') as csvfile:\n",
    "    writer = csv.DictWriter(csvfile, \n",
    "                            fieldnames=['name', 'continent'])\n",
    "    writer.writerow({'name': 'pakistan', 'continent': 'asia'})"
   ]
  },
  {
   "cell_type": "code",
   "execution_count": null,
   "metadata": {
    "collapsed": true
   },
   "outputs": [],
   "source": []
  },
  {
   "cell_type": "code",
   "execution_count": null,
   "metadata": {
    "collapsed": true
   },
   "outputs": [],
   "source": []
  },
  {
   "cell_type": "markdown",
   "metadata": {},
   "source": [
    "## Fractions"
   ]
  },
  {
   "cell_type": "code",
   "execution_count": 98,
   "metadata": {
    "collapsed": true
   },
   "outputs": [],
   "source": [
    "import fractions"
   ]
  },
  {
   "cell_type": "code",
   "execution_count": 99,
   "metadata": {},
   "outputs": [
    {
     "data": {
      "text/plain": [
       "Fraction(3, 5)"
      ]
     },
     "execution_count": 99,
     "metadata": {},
     "output_type": "execute_result"
    }
   ],
   "source": [
    "fractions.Fraction(3, 5)"
   ]
  },
  {
   "cell_type": "code",
   "execution_count": 100,
   "metadata": {
    "collapsed": true
   },
   "outputs": [],
   "source": [
    "from fractions import Fraction"
   ]
  },
  {
   "cell_type": "code",
   "execution_count": 101,
   "metadata": {},
   "outputs": [
    {
     "data": {
      "text/plain": [
       "Fraction(2, 3)"
      ]
     },
     "execution_count": 101,
     "metadata": {},
     "output_type": "execute_result"
    }
   ],
   "source": [
    "Fraction(2, 3)"
   ]
  },
  {
   "cell_type": "code",
   "execution_count": 102,
   "metadata": {},
   "outputs": [
    {
     "data": {
      "text/plain": [
       "Fraction(2, 3)"
      ]
     },
     "execution_count": 102,
     "metadata": {},
     "output_type": "execute_result"
    }
   ],
   "source": [
    "Fraction(1, 3) + Fraction(1, 3)"
   ]
  },
  {
   "cell_type": "code",
   "execution_count": 104,
   "metadata": {},
   "outputs": [
    {
     "data": {
      "text/plain": [
       "0.6666666666666666"
      ]
     },
     "execution_count": 104,
     "metadata": {},
     "output_type": "execute_result"
    }
   ],
   "source": [
    "(1/3) + (1/3)"
   ]
  },
  {
   "cell_type": "code",
   "execution_count": 105,
   "metadata": {},
   "outputs": [
    {
     "data": {
      "text/plain": [
       "0.47619047619047616"
      ]
     },
     "execution_count": 105,
     "metadata": {},
     "output_type": "execute_result"
    }
   ],
   "source": [
    "10/21"
   ]
  },
  {
   "cell_type": "markdown",
   "metadata": {},
   "source": [
    "## Named Tuples"
   ]
  },
  {
   "cell_type": "code",
   "execution_count": 106,
   "metadata": {
    "collapsed": true
   },
   "outputs": [],
   "source": [
    "from collections import namedtuple"
   ]
  },
  {
   "cell_type": "code",
   "execution_count": 107,
   "metadata": {
    "collapsed": true
   },
   "outputs": [],
   "source": [
    "Color = namedtuple('Color', ['red', 'green', 'blue'])"
   ]
  },
  {
   "cell_type": "code",
   "execution_count": 108,
   "metadata": {
    "collapsed": true
   },
   "outputs": [],
   "source": [
    "button_color = Color(231, 211, 201)"
   ]
  },
  {
   "cell_type": "code",
   "execution_count": 109,
   "metadata": {},
   "outputs": [
    {
     "data": {
      "text/plain": [
       "231"
      ]
     },
     "execution_count": 109,
     "metadata": {},
     "output_type": "execute_result"
    }
   ],
   "source": [
    "button_color.red"
   ]
  },
  {
   "cell_type": "code",
   "execution_count": 110,
   "metadata": {},
   "outputs": [
    {
     "data": {
      "text/plain": [
       "231"
      ]
     },
     "execution_count": 110,
     "metadata": {},
     "output_type": "execute_result"
    }
   ],
   "source": [
    "button_color[0]"
   ]
  },
  {
   "cell_type": "code",
   "execution_count": 111,
   "metadata": {},
   "outputs": [
    {
     "data": {
      "text/plain": [
       "'This picture has Red:231 Green:211 and Blue:201'"
      ]
     },
     "execution_count": 111,
     "metadata": {},
     "output_type": "execute_result"
    }
   ],
   "source": [
    "'This picture has Red:{0.red} Green:{0.green} and Blue:{0.blue}'.format(button_color)"
   ]
  },
  {
   "cell_type": "code",
   "execution_count": null,
   "metadata": {
    "collapsed": true
   },
   "outputs": [],
   "source": []
  },
  {
   "cell_type": "markdown",
   "metadata": {},
   "source": [
    "## Builtin Methods"
   ]
  },
  {
   "cell_type": "markdown",
   "metadata": {},
   "source": [
    "- all()\n",
    "- any()\n",
    "- chr()\n",
    "- dict()\n",
    "- dir()\n",
    "- help()\n",
    "- id()\n",
    "- input()\n",
    "- list()\n",
    "- len()\n",
    "- map()\n",
    "- open()\n",
    "- print()\n",
    "- range()\n",
    "- reversed()\n",
    "- set()\n",
    "- sorted()\n",
    "- tuple()\n",
    "- zip()"
   ]
  },
  {
   "cell_type": "code",
   "execution_count": null,
   "metadata": {},
   "outputs": [],
   "source": [
    "all([1, 0, 4])"
   ]
  },
  {
   "cell_type": "code",
   "execution_count": null,
   "metadata": {},
   "outputs": [],
   "source": [
    "all([1, 3, 4])"
   ]
  },
  {
   "cell_type": "code",
   "execution_count": null,
   "metadata": {},
   "outputs": [],
   "source": [
    "any([1, 0])"
   ]
  },
  {
   "cell_type": "code",
   "execution_count": null,
   "metadata": {},
   "outputs": [],
   "source": [
    "any([0, 0])"
   ]
  },
  {
   "cell_type": "code",
   "execution_count": null,
   "metadata": {},
   "outputs": [],
   "source": [
    "chr(64)"
   ]
  },
  {
   "cell_type": "code",
   "execution_count": null,
   "metadata": {},
   "outputs": [],
   "source": [
    "chr(121)"
   ]
  },
  {
   "cell_type": "code",
   "execution_count": null,
   "metadata": {},
   "outputs": [],
   "source": [
    "ord('6')"
   ]
  },
  {
   "cell_type": "code",
   "execution_count": null,
   "metadata": {},
   "outputs": [],
   "source": [
    "ord('*')"
   ]
  },
  {
   "cell_type": "code",
   "execution_count": null,
   "metadata": {},
   "outputs": [],
   "source": [
    "dict(name='kathmandu', country='nepal')"
   ]
  },
  {
   "cell_type": "code",
   "execution_count": null,
   "metadata": {},
   "outputs": [],
   "source": [
    "dir('')"
   ]
  },
  {
   "cell_type": "code",
   "execution_count": null,
   "metadata": {},
   "outputs": [],
   "source": [
    "help(''.title)"
   ]
  },
  {
   "cell_type": "code",
   "execution_count": null,
   "metadata": {},
   "outputs": [],
   "source": [
    "id('')"
   ]
  },
  {
   "cell_type": "code",
   "execution_count": null,
   "metadata": {},
   "outputs": [],
   "source": [
    "id(1)"
   ]
  },
  {
   "cell_type": "code",
   "execution_count": null,
   "metadata": {},
   "outputs": [],
   "source": [
    "input(\"Enter your number\")"
   ]
  },
  {
   "cell_type": "code",
   "execution_count": null,
   "metadata": {},
   "outputs": [],
   "source": [
    "list((1, 3, 5))"
   ]
  },
  {
   "cell_type": "code",
   "execution_count": null,
   "metadata": {},
   "outputs": [],
   "source": [
    "list('hello')"
   ]
  },
  {
   "cell_type": "code",
   "execution_count": null,
   "metadata": {},
   "outputs": [],
   "source": [
    "len('hello')"
   ]
  },
  {
   "cell_type": "code",
   "execution_count": null,
   "metadata": {},
   "outputs": [],
   "source": [
    "len([1, 4, 5])"
   ]
  },
  {
   "cell_type": "code",
   "execution_count": null,
   "metadata": {
    "collapsed": true
   },
   "outputs": [],
   "source": [
    "# open()\n",
    "# see: above"
   ]
  },
  {
   "cell_type": "code",
   "execution_count": null,
   "metadata": {},
   "outputs": [],
   "source": [
    "print(\"test\")"
   ]
  },
  {
   "cell_type": "code",
   "execution_count": null,
   "metadata": {},
   "outputs": [],
   "source": [
    "range(0, 9)"
   ]
  },
  {
   "cell_type": "code",
   "execution_count": null,
   "metadata": {},
   "outputs": [],
   "source": [
    "range(0, 99, 3)"
   ]
  },
  {
   "cell_type": "code",
   "execution_count": null,
   "metadata": {},
   "outputs": [],
   "source": [
    "list(range(0, 9))"
   ]
  },
  {
   "cell_type": "code",
   "execution_count": null,
   "metadata": {},
   "outputs": [],
   "source": [
    "reversed(list(range(0, 9)))"
   ]
  },
  {
   "cell_type": "code",
   "execution_count": null,
   "metadata": {},
   "outputs": [],
   "source": [
    "list(reversed(list(range(0, 9))))"
   ]
  },
  {
   "cell_type": "code",
   "execution_count": null,
   "metadata": {},
   "outputs": [],
   "source": [
    "''.join(reversed('hello'))"
   ]
  },
  {
   "cell_type": "code",
   "execution_count": null,
   "metadata": {},
   "outputs": [],
   "source": [
    "set([1, 5, 6, 7, 8, 7, 1])"
   ]
  },
  {
   "cell_type": "code",
   "execution_count": null,
   "metadata": {},
   "outputs": [],
   "source": [
    "tuple([1, 5, 2, 7, 3, 9])"
   ]
  },
  {
   "cell_type": "code",
   "execution_count": null,
   "metadata": {},
   "outputs": [],
   "source": [
    "sorted([1, 5, 2, 7, 3, 9])"
   ]
  },
  {
   "cell_type": "code",
   "execution_count": null,
   "metadata": {},
   "outputs": [],
   "source": [
    "sorted([1, 5, 2, 7, 3, 9], reverse=True)"
   ]
  },
  {
   "cell_type": "code",
   "execution_count": null,
   "metadata": {},
   "outputs": [],
   "source": [
    "data = [{'continent': 'asia', 'name': 'nepal', 'id':0},\n",
    " {'continent': 'asia', 'name': 'india', 'id':5},\n",
    " {'continent': 'asia', 'name': 'japan', 'id':8},\n",
    " {'continent': 'africa', 'name': 'chad', 'id':2},\n",
    " {'continent': 'africa', 'name': 'nigeria', 'id':7},\n",
    " {'continent': 'europe', 'name': 'greece', 'id':1},\n",
    " {'continent': 'europe', 'name': 'norway', 'id':6},\n",
    " {'continent': 'north america', 'name': 'canada', 'id':3},\n",
    " {'continent': 'north america', 'name': 'mexico', 'id':5},\n",
    " {'continent': 'south america', 'name': 'brazil', 'id':4},\n",
    " {'continent': 'south america', 'name': 'chile', 'id':7}]"
   ]
  },
  {
   "cell_type": "code",
   "execution_count": null,
   "metadata": {},
   "outputs": [],
   "source": [
    "def sort_by_name(first):\n",
    "    return first['name'] < first['continent']"
   ]
  },
  {
   "cell_type": "code",
   "execution_count": null,
   "metadata": {},
   "outputs": [],
   "source": [
    "sorted(data, key=sort_by_name)"
   ]
  },
  {
   "cell_type": "code",
   "execution_count": null,
   "metadata": {},
   "outputs": [],
   "source": [
    "list(zip([1, 2, 3], [2, 3, 4]))"
   ]
  },
  {
   "cell_type": "markdown",
   "metadata": {},
   "source": [
    "**Lambda operations**"
   ]
  },
  {
   "cell_type": "code",
   "execution_count": null,
   "metadata": {},
   "outputs": [],
   "source": [
    "map(lambda x: x * 2, [1, 2, 3, 4])"
   ]
  },
  {
   "cell_type": "code",
   "execution_count": null,
   "metadata": {},
   "outputs": [],
   "source": [
    "list(map(lambda x: x * 2, [1, 2, 3, 4]))"
   ]
  },
  {
   "cell_type": "code",
   "execution_count": null,
   "metadata": {},
   "outputs": [],
   "source": [
    "lambda x: x + 4"
   ]
  },
  {
   "cell_type": "code",
   "execution_count": null,
   "metadata": {
    "collapsed": true
   },
   "outputs": [],
   "source": [
    "def power2(x):\n",
    "    return x * 2"
   ]
  },
  {
   "cell_type": "code",
   "execution_count": null,
   "metadata": {},
   "outputs": [],
   "source": [
    "list(map(power2, [1, 2, 3, 4]))"
   ]
  },
  {
   "cell_type": "markdown",
   "metadata": {},
   "source": [
    "*reduce is available in python2 only*"
   ]
  },
  {
   "cell_type": "code",
   "execution_count": null,
   "metadata": {},
   "outputs": [],
   "source": [
    "list(reduce(lambda x: x, [1, 4, 5, 6, 9]))"
   ]
  },
  {
   "cell_type": "markdown",
   "metadata": {},
   "source": [
    "*for python 3*"
   ]
  },
  {
   "cell_type": "code",
   "execution_count": null,
   "metadata": {
    "collapsed": true
   },
   "outputs": [],
   "source": [
    "from functools import reduce"
   ]
  },
  {
   "cell_type": "code",
   "execution_count": null,
   "metadata": {},
   "outputs": [],
   "source": [
    "reduce(lambda x, y: x + y, [1, 4, 5, 7, 8])"
   ]
  },
  {
   "cell_type": "markdown",
   "metadata": {},
   "source": [
    "*filter*"
   ]
  },
  {
   "cell_type": "code",
   "execution_count": null,
   "metadata": {},
   "outputs": [],
   "source": [
    "list(filter(lambda x: x < 3, [1, 3, 5, 2, 8]))"
   ]
  }
 ],
 "metadata": {
  "anaconda-cloud": {},
  "kernelspec": {
   "display_name": "Python 3",
   "language": "python",
   "name": "python3"
  },
  "language_info": {
   "codemirror_mode": {
    "name": "ipython",
    "version": 3
   },
   "file_extension": ".py",
   "mimetype": "text/x-python",
   "name": "python",
   "nbconvert_exporter": "python",
   "pygments_lexer": "ipython3",
   "version": "3.6.2"
  }
 },
 "nbformat": 4,
 "nbformat_minor": 1
}
