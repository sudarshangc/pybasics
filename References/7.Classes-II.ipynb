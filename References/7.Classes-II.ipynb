{
 "cells": [
  {
   "cell_type": "markdown",
   "metadata": {},
   "source": [
    "# Classes ( contd... )\n",
    "---"
   ]
  },
  {
   "cell_type": "markdown",
   "metadata": {
    "collapsed": true
   },
   "source": [
    "- magic methods starts with \\_\\_ and ends with \\_\\_"
   ]
  },
  {
   "cell_type": "markdown",
   "metadata": {},
   "source": [
    "*Note: tripple quotes represents docstrings for class and methods*"
   ]
  },
  {
   "cell_type": "markdown",
   "metadata": {},
   "source": [
    "### Overloading operators"
   ]
  },
  {
   "cell_type": "code",
   "execution_count": 1,
   "metadata": {
    "collapsed": true
   },
   "outputs": [],
   "source": [
    "class Temperature:\n",
    "    \"\"\"\n",
    "    Holds temperature data and processes with it\n",
    "    \"\"\"\n",
    "    \n",
    "    def __init__(self, initial):\n",
    "        \"\"\"\n",
    "        initialization\n",
    "        \"\"\"\n",
    "        self.initial = initial"
   ]
  },
  {
   "cell_type": "code",
   "execution_count": 2,
   "metadata": {},
   "outputs": [
    {
     "name": "stdout",
     "output_type": "stream",
     "text": [
      "Help on class Temperature in module __main__:\n",
      "\n",
      "class Temperature(builtins.object)\n",
      " |  Holds temperature data and processes with it\n",
      " |  \n",
      " |  Methods defined here:\n",
      " |  \n",
      " |  __init__(self, initial)\n",
      " |      initialization\n",
      " |  \n",
      " |  ----------------------------------------------------------------------\n",
      " |  Data descriptors defined here:\n",
      " |  \n",
      " |  __dict__\n",
      " |      dictionary for instance variables (if defined)\n",
      " |  \n",
      " |  __weakref__\n",
      " |      list of weak references to the object (if defined)\n",
      "\n"
     ]
    }
   ],
   "source": [
    "help(Temperature)"
   ]
  },
  {
   "cell_type": "markdown",
   "metadata": {},
   "source": [
    "*Create a temperature instance*"
   ]
  },
  {
   "cell_type": "code",
   "execution_count": 3,
   "metadata": {},
   "outputs": [],
   "source": [
    "t1 = Temperature(20)"
   ]
  },
  {
   "cell_type": "code",
   "execution_count": 4,
   "metadata": {},
   "outputs": [
    {
     "data": {
      "text/plain": [
       "20"
      ]
     },
     "execution_count": 4,
     "metadata": {},
     "output_type": "execute_result"
    }
   ],
   "source": [
    "t1.initial"
   ]
  },
  {
   "cell_type": "markdown",
   "metadata": {},
   "source": [
    "*Create another temperature instance*"
   ]
  },
  {
   "cell_type": "code",
   "execution_count": 5,
   "metadata": {},
   "outputs": [],
   "source": [
    "t2 = Temperature(30)"
   ]
  },
  {
   "cell_type": "code",
   "execution_count": 6,
   "metadata": {},
   "outputs": [
    {
     "data": {
      "text/plain": [
       "30"
      ]
     },
     "execution_count": 6,
     "metadata": {},
     "output_type": "execute_result"
    }
   ],
   "source": [
    "t2.initial"
   ]
  },
  {
   "cell_type": "markdown",
   "metadata": {},
   "source": [
    "*Now Add two temperature instances*"
   ]
  },
  {
   "cell_type": "code",
   "execution_count": 7,
   "metadata": {},
   "outputs": [
    {
     "ename": "TypeError",
     "evalue": "unsupported operand type(s) for +: 'Temperature' and 'Temperature'",
     "output_type": "error",
     "traceback": [
      "\u001b[0;31m---------------------------------------------------------------------------\u001b[0m",
      "\u001b[0;31mTypeError\u001b[0m                                 Traceback (most recent call last)",
      "\u001b[0;32m<ipython-input-7-ffc6e9c97bf9>\u001b[0m in \u001b[0;36m<module>\u001b[0;34m()\u001b[0m\n\u001b[0;32m----> 1\u001b[0;31m \u001b[0mt1\u001b[0m \u001b[0;34m+\u001b[0m \u001b[0mt2\u001b[0m\u001b[0;34m\u001b[0m\u001b[0m\n\u001b[0m",
      "\u001b[0;31mTypeError\u001b[0m: unsupported operand type(s) for +: 'Temperature' and 'Temperature'"
     ]
    }
   ],
   "source": [
    "t1 + t2"
   ]
  },
  {
   "cell_type": "code",
   "execution_count": 8,
   "metadata": {
    "collapsed": true
   },
   "outputs": [],
   "source": [
    "class Temperature:\n",
    "    \"\"\"\n",
    "    Holds temperature data and processes with it\n",
    "    \"\"\"\n",
    "    \n",
    "    def __init__(self, initial):\n",
    "        \"\"\"\n",
    "        initialization\n",
    "        \"\"\"\n",
    "        self.initial = initial\n",
    "    \n",
    "    def __add__(self, other):\n",
    "        \"\"\"\n",
    "        adds two temperature instances\n",
    "        \"\"\"\n",
    "        return self.initial + other.initial"
   ]
  },
  {
   "cell_type": "code",
   "execution_count": 9,
   "metadata": {},
   "outputs": [
    {
     "data": {
      "text/plain": [
       "50"
      ]
     },
     "execution_count": 9,
     "metadata": {},
     "output_type": "execute_result"
    }
   ],
   "source": [
    "t1 = Temperature(20)\n",
    "t2 = Temperature(30)\n",
    "t1 + t2"
   ]
  },
  {
   "cell_type": "markdown",
   "metadata": {},
   "source": [
    "**What actually happened above**\n",
    "\n",
    "```python\n",
    "\n",
    "# When we call something like this\n",
    "\n",
    "t1 + t1\n",
    "\n",
    "# it looks for\n",
    "\n",
    "t1.__add__(t2)\n",
    "\n",
    "# if it is not able to find that method it throws exception\n",
    "# otherwise just proceed the method as defined\n",
    "\n",
    "# in our case, t1 is `self` and t2 is `other`\n",
    "# so it returns t1.initial + t2.initial\n",
    "```"
   ]
  },
  {
   "cell_type": "markdown",
   "metadata": {},
   "source": [
    "*What happens if we try to substract two instances*"
   ]
  },
  {
   "cell_type": "code",
   "execution_count": 10,
   "metadata": {},
   "outputs": [
    {
     "ename": "TypeError",
     "evalue": "unsupported operand type(s) for -: 'Temperature' and 'Temperature'",
     "output_type": "error",
     "traceback": [
      "\u001b[0;31m---------------------------------------------------------------------------\u001b[0m",
      "\u001b[0;31mTypeError\u001b[0m                                 Traceback (most recent call last)",
      "\u001b[0;32m<ipython-input-10-027db66c795a>\u001b[0m in \u001b[0;36m<module>\u001b[0;34m()\u001b[0m\n\u001b[0;32m----> 1\u001b[0;31m \u001b[0mt1\u001b[0m \u001b[0;34m-\u001b[0m \u001b[0mt2\u001b[0m\u001b[0;34m\u001b[0m\u001b[0m\n\u001b[0m",
      "\u001b[0;31mTypeError\u001b[0m: unsupported operand type(s) for -: 'Temperature' and 'Temperature'"
     ]
    }
   ],
   "source": [
    "t1 - t2"
   ]
  },
  {
   "cell_type": "markdown",
   "metadata": {},
   "source": [
    "*This is because we have not defined \\_\\_sub\\_\\_ method above, which is for minus (-)*"
   ]
  },
  {
   "cell_type": "markdown",
   "metadata": {},
   "source": [
    "*Not only + or -, other operators can be overloaded too such as*\n",
    "\n",
    "```python\n",
    "\n",
    "def __mul__(self, other):\n",
    "    \"\"\"\n",
    "    multiplication operator ( * )\n",
    "    \"\"\"\n",
    "    pass\n",
    "\n",
    "def __truediv__(self, other):\n",
    "    \"\"\"\n",
    "    true division ( float ) operator ( / )\n",
    "    \"\"\"\n",
    "    pass\n",
    "\n",
    "def __floordiv__(self, other):\n",
    "    \"\"\"\n",
    "    floor division ( int ) operator ( // )\n",
    "    \"\"\"\n",
    "    pass\n",
    "\n",
    "def __mod__(self, other):\n",
    "    \"\"\"\n",
    "    modulus operator ( % )\n",
    "    \"\"\"\n",
    "    pass\n",
    "\n",
    "def __iadd__(self, other):\n",
    "    \"\"\"\n",
    "    inplace addition operator ( += )\n",
    "    \"\"\"\n",
    "    pass\n",
    "\n",
    "def __isub__(self, other):\n",
    "    \"\"\"\n",
    "    inplace substraction operator ( -= )\n",
    "    \"\"\"\n",
    "    pass\n",
    "```\n",
    "\n",
    "checkout http://www.diveintopython3.net/special-method-names.html for complete list"
   ]
  },
  {
   "cell_type": "code",
   "execution_count": 11,
   "metadata": {},
   "outputs": [
    {
     "data": {
      "text/plain": [
       "['__add__',\n",
       " '__class__',\n",
       " '__delattr__',\n",
       " '__dict__',\n",
       " '__dir__',\n",
       " '__doc__',\n",
       " '__eq__',\n",
       " '__format__',\n",
       " '__ge__',\n",
       " '__getattribute__',\n",
       " '__gt__',\n",
       " '__hash__',\n",
       " '__init__',\n",
       " '__le__',\n",
       " '__lt__',\n",
       " '__module__',\n",
       " '__ne__',\n",
       " '__new__',\n",
       " '__reduce__',\n",
       " '__reduce_ex__',\n",
       " '__repr__',\n",
       " '__setattr__',\n",
       " '__sizeof__',\n",
       " '__str__',\n",
       " '__subclasshook__',\n",
       " '__weakref__']"
      ]
     },
     "execution_count": 11,
     "metadata": {},
     "output_type": "execute_result"
    }
   ],
   "source": [
    "dir(Temperature)"
   ]
  },
  {
   "cell_type": "code",
   "execution_count": 12,
   "metadata": {},
   "outputs": [
    {
     "data": {
      "text/plain": [
       "'\\n    Holds temperature data and processes with it\\n    '"
      ]
     },
     "execution_count": 12,
     "metadata": {},
     "output_type": "execute_result"
    }
   ],
   "source": [
    "Temperature.__doc__"
   ]
  },
  {
   "cell_type": "code",
   "execution_count": 13,
   "metadata": {},
   "outputs": [
    {
     "data": {
      "text/plain": [
       "mappingproxy({'__add__': <function __main__.Temperature.__add__>,\n",
       "              '__dict__': <attribute '__dict__' of 'Temperature' objects>,\n",
       "              '__doc__': '\\n    Holds temperature data and processes with it\\n    ',\n",
       "              '__init__': <function __main__.Temperature.__init__>,\n",
       "              '__module__': '__main__',\n",
       "              '__weakref__': <attribute '__weakref__' of 'Temperature' objects>})"
      ]
     },
     "execution_count": 13,
     "metadata": {},
     "output_type": "execute_result"
    }
   ],
   "source": [
    "Temperature.__dict__"
   ]
  },
  {
   "cell_type": "code",
   "execution_count": 14,
   "metadata": {},
   "outputs": [
    {
     "data": {
      "text/plain": [
       "<__main__.Temperature at 0x7fc99e7cf828>"
      ]
     },
     "execution_count": 14,
     "metadata": {},
     "output_type": "execute_result"
    }
   ],
   "source": [
    "t1"
   ]
  },
  {
   "cell_type": "code",
   "execution_count": 15,
   "metadata": {
    "collapsed": true
   },
   "outputs": [],
   "source": [
    "class Temperature:\n",
    "    \"\"\"\n",
    "    Holds temperature data and processes with it\n",
    "    \"\"\"\n",
    "    \n",
    "    def __init__(self, initial):\n",
    "        \"\"\"\n",
    "        initialization\n",
    "        \"\"\"\n",
    "        self.initial = initial\n",
    "    \n",
    "    def __add__(self, other):\n",
    "        \"\"\"\n",
    "        adds two temperature instances\n",
    "        \"\"\"\n",
    "        return self.initial + other.initial\n",
    "    \n",
    "    def __repr__(self):\n",
    "        return 'Initial Temperature is {}'.format(self.initial)"
   ]
  },
  {
   "cell_type": "code",
   "execution_count": 16,
   "metadata": {},
   "outputs": [
    {
     "data": {
      "text/plain": [
       "Initial Temperature is 40"
      ]
     },
     "execution_count": 16,
     "metadata": {},
     "output_type": "execute_result"
    }
   ],
   "source": [
    "t3 = Temperature(40)\n",
    "t3"
   ]
  },
  {
   "cell_type": "markdown",
   "metadata": {},
   "source": [
    "## Inheritence"
   ]
  },
  {
   "cell_type": "markdown",
   "metadata": {
    "collapsed": true
   },
   "source": [
    ">In object-oriented programming, inheritance is when an object or class is based on another object (prototypal inheritance) or class (class-based inheritance), using the same implementation (inheriting from an object or class) specifying implementation to maintain the same behavior    - Wikipedia"
   ]
  },
  {
   "cell_type": "markdown",
   "metadata": {},
   "source": [
    "*In other words, Inheritence is a way of sharing common features or attributes between different classes.*"
   ]
  },
  {
   "cell_type": "code",
   "execution_count": 17,
   "metadata": {
    "collapsed": true
   },
   "outputs": [],
   "source": [
    "class Rectangle:\n",
    "    \"\"\"\n",
    "    This is the parent class\n",
    "    \"\"\"\n",
    "    width = None\n",
    "    height = None\n",
    "    \n",
    "    def __init__(self, width, height):\n",
    "        self.width = width\n",
    "        self.height = height\n",
    "    \n",
    "    def area(self):\n",
    "        \"\"\"\n",
    "        All class that inherites from this class will inherit \n",
    "        area method automatically\n",
    "        \"\"\"\n",
    "        return self.width * self.height"
   ]
  },
  {
   "cell_type": "code",
   "execution_count": 18,
   "metadata": {
    "collapsed": true
   },
   "outputs": [],
   "source": [
    "class Square(Rectangle):\n",
    "    \"\"\"\n",
    "    This is child class\n",
    "    \"\"\"\n",
    "    \n",
    "    def __init__(self, side):\n",
    "        \"\"\"\n",
    "        Square is special rectangle with equal sides.\n",
    "        so our height and width will be same\n",
    "        \"\"\"\n",
    "        # we are calling __init__ of parent/super class using super()\n",
    "        super().__init__(side, side)"
   ]
  },
  {
   "cell_type": "markdown",
   "metadata": {},
   "source": [
    "*let's create a rectangle*"
   ]
  },
  {
   "cell_type": "code",
   "execution_count": 19,
   "metadata": {},
   "outputs": [],
   "source": [
    "rec = Rectangle(3, 4)"
   ]
  },
  {
   "cell_type": "code",
   "execution_count": 20,
   "metadata": {},
   "outputs": [
    {
     "data": {
      "text/plain": [
       "12"
      ]
     },
     "execution_count": 20,
     "metadata": {},
     "output_type": "execute_result"
    }
   ],
   "source": [
    "rec.area()"
   ]
  },
  {
   "cell_type": "markdown",
   "metadata": {},
   "source": [
    "*let's create a square*"
   ]
  },
  {
   "cell_type": "code",
   "execution_count": 21,
   "metadata": {
    "collapsed": true
   },
   "outputs": [],
   "source": [
    "sq = Square(4)"
   ]
  },
  {
   "cell_type": "code",
   "execution_count": 22,
   "metadata": {},
   "outputs": [
    {
     "data": {
      "text/plain": [
       "16"
      ]
     },
     "execution_count": 22,
     "metadata": {},
     "output_type": "execute_result"
    }
   ],
   "source": [
    "sq.area()"
   ]
  },
  {
   "cell_type": "markdown",
   "metadata": {},
   "source": [
    "*Note: Remember the area is defined in Rectangle class, but instance of Square is using it, because it is child of Rectangle and inherits all methods defined in Rectangle automatically.*"
   ]
  },
  {
   "cell_type": "code",
   "execution_count": null,
   "metadata": {
    "collapsed": true
   },
   "outputs": [],
   "source": []
  },
  {
   "cell_type": "markdown",
   "metadata": {},
   "source": [
    "**Overriding or altering parent methods**"
   ]
  },
  {
   "cell_type": "code",
   "execution_count": 23,
   "metadata": {
    "collapsed": true
   },
   "outputs": [],
   "source": [
    "class Shape:\n",
    "    name = None\n",
    "    color = 'white'\n",
    "    \n",
    "    def shape_type(self):\n",
    "        return self.name\n",
    "    \n",
    "    def area(self):\n",
    "        return 0\n",
    "    \n",
    "    def shape_color(self):\n",
    "        print(\"The color of Shape is {}\".format(self.color))\n",
    "\n",
    "\n",
    "class Circle(Shape):\n",
    "    radius = None\n",
    "\n",
    "    def __init__(self, radius):\n",
    "        self.radius = radius\n",
    "        self.name = 'Circle'\n",
    "    \n",
    "    def area(self):\n",
    "        \"\"\"\n",
    "        We override area method for circle\n",
    "        \"\"\"\n",
    "        return 2 * 3.14 * (self.radius ** 2)\n",
    "    \n",
    "    def shape_color(self):\n",
    "        \"\"\"\n",
    "        We add few extra information for color\n",
    "        \"\"\"\n",
    "        super().shape_color()\n",
    "        print(\"The color of Circle is {}\".format(self.color))\n",
    "\n",
    "\n",
    "class Square(Shape):\n",
    "    side = None\n",
    "\n",
    "    def __init__(self, side):\n",
    "        self.side = side\n",
    "        self.name = 'Square'\n",
    "    \n",
    "    def area(self):\n",
    "        \"\"\"\n",
    "        We override area method for square\n",
    "        \"\"\"\n",
    "        return self.side * self.side\n",
    "    \n",
    "    def shape_color(self):\n",
    "        \"\"\"\n",
    "        We add few extra information for color\n",
    "        \"\"\"\n",
    "        super().shape_color()\n",
    "        self.color = 'Red'\n",
    "        print(\"The color of Square is {}\".format(self.color))"
   ]
  },
  {
   "cell_type": "code",
   "execution_count": 24,
   "metadata": {
    "collapsed": true
   },
   "outputs": [],
   "source": [
    "circle = Circle(2)"
   ]
  },
  {
   "cell_type": "code",
   "execution_count": 25,
   "metadata": {},
   "outputs": [
    {
     "data": {
      "text/plain": [
       "'Circle'"
      ]
     },
     "execution_count": 25,
     "metadata": {},
     "output_type": "execute_result"
    }
   ],
   "source": [
    "circle.shape_type()"
   ]
  },
  {
   "cell_type": "code",
   "execution_count": 26,
   "metadata": {},
   "outputs": [
    {
     "data": {
      "text/plain": [
       "25.12"
      ]
     },
     "execution_count": 26,
     "metadata": {},
     "output_type": "execute_result"
    }
   ],
   "source": [
    "circle.area()"
   ]
  },
  {
   "cell_type": "code",
   "execution_count": 27,
   "metadata": {},
   "outputs": [
    {
     "name": "stdout",
     "output_type": "stream",
     "text": [
      "The color of Shape is white\n",
      "The color of Circle is white\n"
     ]
    }
   ],
   "source": [
    "circle.shape_color()"
   ]
  },
  {
   "cell_type": "code",
   "execution_count": 28,
   "metadata": {
    "collapsed": true
   },
   "outputs": [],
   "source": [
    "square = Square(4)"
   ]
  },
  {
   "cell_type": "code",
   "execution_count": 29,
   "metadata": {},
   "outputs": [
    {
     "data": {
      "text/plain": [
       "'Square'"
      ]
     },
     "execution_count": 29,
     "metadata": {},
     "output_type": "execute_result"
    }
   ],
   "source": [
    "square.shape_type()"
   ]
  },
  {
   "cell_type": "code",
   "execution_count": 30,
   "metadata": {},
   "outputs": [
    {
     "name": "stdout",
     "output_type": "stream",
     "text": [
      "The color of Shape is white\n",
      "The color of Square is Red\n"
     ]
    }
   ],
   "source": [
    "square.shape_color()"
   ]
  },
  {
   "cell_type": "code",
   "execution_count": 31,
   "metadata": {},
   "outputs": [
    {
     "data": {
      "text/plain": [
       "16"
      ]
     },
     "execution_count": 31,
     "metadata": {},
     "output_type": "execute_result"
    }
   ],
   "source": [
    "square.area()"
   ]
  },
  {
   "cell_type": "markdown",
   "metadata": {},
   "source": [
    "*In above example*\n",
    "\n",
    "- we completely changed the behavior of method __area__\n",
    "- we didn't do anything with method __shape_type__\n",
    "- And we used both parent and Child methods in __shape_color__"
   ]
  },
  {
   "cell_type": "code",
   "execution_count": null,
   "metadata": {
    "collapsed": true
   },
   "outputs": [],
   "source": []
  },
  {
   "cell_type": "markdown",
   "metadata": {},
   "source": [
    "### Inheriting from builtin classes"
   ]
  },
  {
   "cell_type": "markdown",
   "metadata": {},
   "source": [
    "*We will create our own dictionary class*"
   ]
  },
  {
   "cell_type": "code",
   "execution_count": 32,
   "metadata": {
    "collapsed": true
   },
   "outputs": [],
   "source": [
    "class FunDict(dict):\n",
    "    \"\"\"\n",
    "    we will inherit our class from builtin dict method\n",
    "    \"\"\"\n",
    "    \n",
    "    def __init__(self, *args, **kwargs):\n",
    "        \"\"\"\n",
    "        we will create a dictionary from passed arguments\n",
    "        \"\"\"\n",
    "        print(\"Sending to press.\")\n",
    "        super().__init__(*args, **kwargs)\n",
    "        print(\"Your dictionary is commissioned, use it wisely :)\")\n",
    "    \n",
    "    def __getitem__(self, key):\n",
    "        \"\"\"\n",
    "        this method is called when we want to obtain item from dictionary\n",
    "        \"\"\"\n",
    "        print(\"Reading pages...\")\n",
    "        return super().__getitem__(key)\n",
    "    \n",
    "    def __setitem__(self, key, value):\n",
    "        \"\"\"\n",
    "        this method is called when we want to create a new item\n",
    "        \"\"\"\n",
    "        print(\"Searching for blank page to write...\")\n",
    "        ret = super().__setitem__(key, value)\n",
    "        print(\"done\")\n",
    "        return ret"
   ]
  },
  {
   "cell_type": "code",
   "execution_count": 33,
   "metadata": {},
   "outputs": [
    {
     "name": "stdout",
     "output_type": "stream",
     "text": [
      "Sending to press.\n",
      "Your dictionary is commissioned, use it wisely :)\n"
     ]
    }
   ],
   "source": [
    "my_dict = FunDict(name='Hari', age=29)"
   ]
  },
  {
   "cell_type": "code",
   "execution_count": 34,
   "metadata": {},
   "outputs": [
    {
     "name": "stdout",
     "output_type": "stream",
     "text": [
      "Reading pages...\n",
      "Reading pages...\n"
     ]
    },
    {
     "data": {
      "text/plain": [
       "{'age': 29, 'name': 'Hari'}"
      ]
     },
     "execution_count": 34,
     "metadata": {},
     "output_type": "execute_result"
    }
   ],
   "source": [
    "my_dict"
   ]
  },
  {
   "cell_type": "code",
   "execution_count": 35,
   "metadata": {},
   "outputs": [
    {
     "name": "stdout",
     "output_type": "stream",
     "text": [
      "Searching for blank page to write...\n",
      "done\n"
     ]
    }
   ],
   "source": [
    "my_dict['address'] = 'kathmandu'"
   ]
  },
  {
   "cell_type": "code",
   "execution_count": 36,
   "metadata": {},
   "outputs": [
    {
     "name": "stdout",
     "output_type": "stream",
     "text": [
      "Reading pages...\n",
      "Reading pages...\n",
      "Reading pages...\n"
     ]
    },
    {
     "data": {
      "text/plain": [
       "{'address': 'kathmandu', 'age': 29, 'name': 'Hari'}"
      ]
     },
     "execution_count": 36,
     "metadata": {},
     "output_type": "execute_result"
    }
   ],
   "source": [
    "my_dict"
   ]
  },
  {
   "cell_type": "code",
   "execution_count": 37,
   "metadata": {},
   "outputs": [
    {
     "name": "stdout",
     "output_type": "stream",
     "text": [
      "Reading pages...\n"
     ]
    },
    {
     "data": {
      "text/plain": [
       "29"
      ]
     },
     "execution_count": 37,
     "metadata": {},
     "output_type": "execute_result"
    }
   ],
   "source": [
    "my_dict['age']"
   ]
  },
  {
   "cell_type": "code",
   "execution_count": 38,
   "metadata": {},
   "outputs": [
    {
     "name": "stdout",
     "output_type": "stream",
     "text": [
      "Reading pages...\n"
     ]
    },
    {
     "data": {
      "text/plain": [
       "'kathmandu'"
      ]
     },
     "execution_count": 38,
     "metadata": {},
     "output_type": "execute_result"
    }
   ],
   "source": [
    "my_dict['address']"
   ]
  },
  {
   "cell_type": "code",
   "execution_count": null,
   "metadata": {
    "collapsed": true
   },
   "outputs": [],
   "source": []
  }
 ],
 "metadata": {
  "anaconda-cloud": {},
  "kernelspec": {
   "display_name": "Python 3",
   "language": "python",
   "name": "python3"
  },
  "language_info": {
   "codemirror_mode": {
    "name": "ipython",
    "version": 3
   },
   "file_extension": ".py",
   "mimetype": "text/x-python",
   "name": "python",
   "nbconvert_exporter": "python",
   "pygments_lexer": "ipython3",
   "version": "3.6.2"
  }
 },
 "nbformat": 4,
 "nbformat_minor": 1
}
