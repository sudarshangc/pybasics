{
 "cells": [
  {
   "cell_type": "markdown",
   "metadata": {},
   "source": [
    "# 4. Loops and Conditionals\n",
    "---"
   ]
  },
  {
   "cell_type": "markdown",
   "metadata": {},
   "source": [
    "## Loop\n",
    "\n",
    "*Loops repeats __block of code__ until the condition is true.*\n",
    "\n",
    "### For"
   ]
  },
  {
   "cell_type": "code",
   "execution_count": 1,
   "metadata": {},
   "outputs": [
    {
     "name": "stdout",
     "output_type": "stream",
     "text": [
      "0\n",
      "1\n",
      "2\n"
     ]
    }
   ],
   "source": [
    "for i in range(0, 3):\n",
    "    print(i)"
   ]
  },
  {
   "cell_type": "markdown",
   "metadata": {},
   "source": [
    "*Above is example of __for__-loop, Here __print(i)__ is __block of code__*\n",
    "\n",
    "#### Q. What is block of code?\n",
    "\n",
    "*A __block of code__ is identified by __empty region__, (i.e 4 spaces) at the starting of line (or lines), as well as the line before that block, ends with a __:__ (colon)*\n",
    "\n",
    "*A __:__ (colon) is mandatory for block level statements.*\n",
    "\n",
    "*__for__ is block level statement.*\n",
    "\n",
    "#### Q. What is true condition for above code?\n",
    "\n",
    "*What range gives us, 0, 1, 2 (but not 3). So above __for__ loop will continue until it will run out of numbers, ie after __2__.*\n",
    "\n",
    "*__in__ will select each number from __range(0, 3)__ and store it in variable __i__.*"
   ]
  },
  {
   "cell_type": "code",
   "execution_count": null,
   "metadata": {
    "collapsed": true
   },
   "outputs": [],
   "source": []
  }
 ],
 "metadata": {
  "kernelspec": {
   "display_name": "Python 3",
   "language": "python",
   "name": "python3"
  },
  "language_info": {
   "codemirror_mode": {
    "name": "ipython",
    "version": 3
   },
   "file_extension": ".py",
   "mimetype": "text/x-python",
   "name": "python",
   "nbconvert_exporter": "python",
   "pygments_lexer": "ipython3",
   "version": "3.6.2"
  }
 },
 "nbformat": 4,
 "nbformat_minor": 2
}
