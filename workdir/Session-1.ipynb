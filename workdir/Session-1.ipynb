{
 "cells": [
  {
   "cell_type": "markdown",
   "metadata": {},
   "source": [
    "# Session 1\n",
    "---\n",
    "\n",
    "[Reference](http://nbviewer.jupyter.org/github/lfapython/pybasics/blob/master/Python/Beginner/unit-01-datatypes-reference.ipynb)"
   ]
  },
  {
   "cell_type": "markdown",
   "metadata": {},
   "source": [
    "## Problem \n",
    "## calculate mean of these numbers\n",
    "5, 16 18, 32, 12, 3, 8, 17, 14, 13"
   ]
  },
  {
   "cell_type": "code",
   "execution_count": 1,
   "metadata": {},
   "outputs": [
    {
     "name": "stdout",
     "output_type": "stream",
     "text": [
      "mean is 13.8\n"
     ]
    }
   ],
   "source": [
    "mean=(5+16+18+32+12+3+8+17+14+13)/10\n",
    "print(\"mean is\",mean)"
   ]
  },
  {
   "cell_type": "markdown",
   "metadata": {},
   "source": [
    "### which of the above numbers are factors of 738\n"
   ]
  },
  {
   "cell_type": "code",
   "execution_count": 2,
   "metadata": {},
   "outputs": [
    {
     "data": {
      "text/plain": [
       "3"
      ]
     },
     "execution_count": 2,
     "metadata": {},
     "output_type": "execute_result"
    }
   ],
   "source": [
    "#use modulus to find this\n",
    "738%5"
   ]
  },
  {
   "cell_type": "code",
   "execution_count": 3,
   "metadata": {},
   "outputs": [
    {
     "data": {
      "text/plain": [
       "2"
      ]
     },
     "execution_count": 3,
     "metadata": {},
     "output_type": "execute_result"
    }
   ],
   "source": [
    "738%16"
   ]
  },
  {
   "cell_type": "code",
   "execution_count": 4,
   "metadata": {},
   "outputs": [
    {
     "data": {
      "text/plain": [
       "0"
      ]
     },
     "execution_count": 4,
     "metadata": {},
     "output_type": "execute_result"
    }
   ],
   "source": [
    "738%18"
   ]
  },
  {
   "cell_type": "code",
   "execution_count": 5,
   "metadata": {},
   "outputs": [
    {
     "data": {
      "text/plain": [
       "2"
      ]
     },
     "execution_count": 5,
     "metadata": {},
     "output_type": "execute_result"
    }
   ],
   "source": [
    "738%32"
   ]
  },
  {
   "cell_type": "markdown",
   "metadata": {},
   "source": [
    "### Find percentage of 738 given by above numbers\n"
   ]
  },
  {
   "cell_type": "code",
   "execution_count": 7,
   "metadata": {},
   "outputs": [
    {
     "data": {
      "text/plain": [
       "36.9"
      ]
     },
     "execution_count": 7,
     "metadata": {},
     "output_type": "execute_result"
    }
   ],
   "source": [
    "(5*738)/100"
   ]
  },
  {
   "cell_type": "code",
   "execution_count": 8,
   "metadata": {},
   "outputs": [
    {
     "data": {
      "text/plain": [
       "369.0"
      ]
     },
     "execution_count": 8,
     "metadata": {},
     "output_type": "execute_result"
    }
   ],
   "source": [
    "#if using float\n",
    ".5*738"
   ]
  },
  {
   "cell_type": "markdown",
   "metadata": {},
   "source": [
    "- parenthesis\n",
    "- exponential\n",
    "- multiplication and division\n",
    "- addition and substraction\n",
    "        left to right"
   ]
  },
  {
   "cell_type": "code",
   "execution_count": 9,
   "metadata": {},
   "outputs": [
    {
     "data": {
      "text/plain": [
       "125.46000000000001"
      ]
     },
     "execution_count": 9,
     "metadata": {},
     "output_type": "execute_result"
    }
   ],
   "source": [
    "17/100*738\n"
   ]
  },
  {
   "cell_type": "code",
   "execution_count": 10,
   "metadata": {},
   "outputs": [
    {
     "data": {
      "text/plain": [
       "125.46"
      ]
     },
     "execution_count": 10,
     "metadata": {},
     "output_type": "execute_result"
    }
   ],
   "source": [
    "17*738/100"
   ]
  },
  {
   "cell_type": "code",
   "execution_count": null,
   "metadata": {
    "collapsed": true
   },
   "outputs": [],
   "source": [
    " "
   ]
  },
  {
   "cell_type": "code",
   "execution_count": null,
   "metadata": {
    "collapsed": true
   },
   "outputs": [],
   "source": []
  },
  {
   "cell_type": "code",
   "execution_count": null,
   "metadata": {
    "collapsed": true
   },
   "outputs": [],
   "source": []
  },
  {
   "cell_type": "markdown",
   "metadata": {},
   "source": [
    "### Problem 1: Smallest divisor\n",
    "\n",
    "write a program to find smallest divisor of a given number."
   ]
  },
  {
   "cell_type": "code",
   "execution_count": 5,
   "metadata": {
    "collapsed": true
   },
   "outputs": [],
   "source": [
    "number1 = 18"
   ]
  },
  {
   "cell_type": "code",
   "execution_count": 6,
   "metadata": {},
   "outputs": [
    {
     "data": {
      "text/plain": [
       "0"
      ]
     },
     "execution_count": 6,
     "metadata": {},
     "output_type": "execute_result"
    }
   ],
   "source": [
    "number1 % 2"
   ]
  },
  {
   "cell_type": "code",
   "execution_count": 7,
   "metadata": {},
   "outputs": [
    {
     "data": {
      "text/plain": [
       "0"
      ]
     },
     "execution_count": 7,
     "metadata": {},
     "output_type": "execute_result"
    }
   ],
   "source": [
    "number1 % 3"
   ]
  },
  {
   "cell_type": "code",
   "execution_count": 8,
   "metadata": {},
   "outputs": [
    {
     "data": {
      "text/plain": [
       "2"
      ]
     },
     "execution_count": 8,
     "metadata": {},
     "output_type": "execute_result"
    }
   ],
   "source": [
    "number1 % 4"
   ]
  },
  {
   "cell_type": "markdown",
   "metadata": {},
   "source": [
    "**%** is remainder operator, above number **18** is perfectly divisible by **2** and **3** while not by **4**"
   ]
  },
  {
   "cell_type": "code",
   "execution_count": 9,
   "metadata": {},
   "outputs": [
    {
     "name": "stdout",
     "output_type": "stream",
     "text": [
      "Enter a number12\n"
     ]
    }
   ],
   "source": [
    "num = input(\"Enter a number\")"
   ]
  },
  {
   "cell_type": "markdown",
   "metadata": {},
   "source": [
    "*Much like __print__, __input__ is also a function, but it does exactly opposite of __print__. It get's some data from us*\n",
    "\n",
    "*What we enter inside the box, is stored in variable __num__*"
   ]
  },
  {
   "cell_type": "code",
   "execution_count": 10,
   "metadata": {},
   "outputs": [
    {
     "data": {
      "text/plain": [
       "'12'"
      ]
     },
     "execution_count": 10,
     "metadata": {},
     "output_type": "execute_result"
    }
   ],
   "source": [
    "num"
   ]
  },
  {
   "cell_type": "markdown",
   "metadata": {},
   "source": [
    "*The stored data is always string*\n",
    "\n",
    "What happens if we tried to divide num by 2 ?"
   ]
  },
  {
   "cell_type": "code",
   "execution_count": 11,
   "metadata": {},
   "outputs": [
    {
     "ename": "TypeError",
     "evalue": "unsupported operand type(s) for /: 'str' and 'int'",
     "output_type": "error",
     "traceback": [
      "\u001b[0;31m---------------------------------------------------------------------------\u001b[0m",
      "\u001b[0;31mTypeError\u001b[0m                                 Traceback (most recent call last)",
      "\u001b[0;32m<ipython-input-11-fcb65a6591fc>\u001b[0m in \u001b[0;36m<module>\u001b[0;34m()\u001b[0m\n\u001b[0;32m----> 1\u001b[0;31m \u001b[0mnum\u001b[0m \u001b[0;34m/\u001b[0m \u001b[0;36m2\u001b[0m\u001b[0;34m\u001b[0m\u001b[0m\n\u001b[0m",
      "\u001b[0;31mTypeError\u001b[0m: unsupported operand type(s) for /: 'str' and 'int'"
     ]
    }
   ],
   "source": [
    "num / 2"
   ]
  },
  {
   "cell_type": "markdown",
   "metadata": {},
   "source": [
    "Here is what happens:\n",
    "\n",
    "1. __/__ is a division operator, ie we are trying to divide num by __2__\n",
    "2. It gave us __TypeError__, it means we are trying to do something _stupid_.\n",
    "    - Like in this case trying to divide a string, remember __'25'__ above in quotes.\n",
    "\n",
    "Trying to do **num / 2** is same as **'25' / 2** like below,"
   ]
  },
  {
   "cell_type": "code",
   "execution_count": 12,
   "metadata": {},
   "outputs": [
    {
     "ename": "TypeError",
     "evalue": "unsupported operand type(s) for /: 'str' and 'int'",
     "output_type": "error",
     "traceback": [
      "\u001b[0;31m---------------------------------------------------------------------------\u001b[0m",
      "\u001b[0;31mTypeError\u001b[0m                                 Traceback (most recent call last)",
      "\u001b[0;32m<ipython-input-12-53231fd12409>\u001b[0m in \u001b[0;36m<module>\u001b[0;34m()\u001b[0m\n\u001b[0;32m----> 1\u001b[0;31m \u001b[0;34m'25'\u001b[0m \u001b[0;34m/\u001b[0m \u001b[0;36m2\u001b[0m\u001b[0;34m\u001b[0m\u001b[0m\n\u001b[0m",
      "\u001b[0;31mTypeError\u001b[0m: unsupported operand type(s) for /: 'str' and 'int'"
     ]
    }
   ],
   "source": [
    "'25' / 2"
   ]
  },
  {
   "cell_type": "markdown",
   "metadata": {},
   "source": [
    "So what to do ?\n",
    "\n",
    "1. First we need to convert that string to a number\n",
    "2. Then divide the number by 2"
   ]
  },
  {
   "cell_type": "code",
   "execution_count": 13,
   "metadata": {},
   "outputs": [
    {
     "data": {
      "text/plain": [
       "25"
      ]
     },
     "execution_count": 13,
     "metadata": {},
     "output_type": "execute_result"
    }
   ],
   "source": [
    "int('25')"
   ]
  },
  {
   "cell_type": "code",
   "execution_count": 14,
   "metadata": {},
   "outputs": [
    {
     "data": {
      "text/plain": [
       "12.5"
      ]
     },
     "execution_count": 14,
     "metadata": {},
     "output_type": "execute_result"
    }
   ],
   "source": [
    "int('25') / 2"
   ]
  },
  {
   "cell_type": "markdown",
   "metadata": {},
   "source": [
    "*__int__ converts a string to a integer*"
   ]
  },
  {
   "cell_type": "code",
   "execution_count": 15,
   "metadata": {},
   "outputs": [
    {
     "data": {
      "text/plain": [
       "25.0"
      ]
     },
     "execution_count": 15,
     "metadata": {},
     "output_type": "execute_result"
    }
   ],
   "source": [
    "float('25')"
   ]
  },
  {
   "cell_type": "markdown",
   "metadata": {},
   "source": [
    "*or in this case, __float__ converts a string to a float*\n",
    "\n",
    "**But...**"
   ]
  },
  {
   "cell_type": "code",
   "execution_count": 16,
   "metadata": {},
   "outputs": [
    {
     "ename": "ValueError",
     "evalue": "invalid literal for int() with base 10: 'a'",
     "output_type": "error",
     "traceback": [
      "\u001b[0;31m---------------------------------------------------------------------------\u001b[0m",
      "\u001b[0;31mValueError\u001b[0m                                Traceback (most recent call last)",
      "\u001b[0;32m<ipython-input-16-b3c3f4515dd4>\u001b[0m in \u001b[0;36m<module>\u001b[0;34m()\u001b[0m\n\u001b[0;32m----> 1\u001b[0;31m \u001b[0mint\u001b[0m\u001b[0;34m(\u001b[0m\u001b[0;34m'a'\u001b[0m\u001b[0;34m)\u001b[0m\u001b[0;34m\u001b[0m\u001b[0m\n\u001b[0m",
      "\u001b[0;31mValueError\u001b[0m: invalid literal for int() with base 10: 'a'"
     ]
    }
   ],
   "source": [
    "int('a')"
   ]
  },
  {
   "cell_type": "markdown",
   "metadata": {},
   "source": [
    "*You cannot convert a \"alphabets\" to a number this way,*\n",
    "\n",
    "*Every thing inside __\"__ or __'__ is a string.*"
   ]
  },
  {
   "cell_type": "markdown",
   "metadata": {},
   "source": [
    "*Let's get to our problem now*\n",
    "\n",
    "we have a number stored in __num__"
   ]
  },
  {
   "cell_type": "code",
   "execution_count": 17,
   "metadata": {},
   "outputs": [
    {
     "data": {
      "text/plain": [
       "'12'"
      ]
     },
     "execution_count": 17,
     "metadata": {},
     "output_type": "execute_result"
    }
   ],
   "source": [
    "num"
   ]
  },
  {
   "cell_type": "code",
   "execution_count": 18,
   "metadata": {
    "collapsed": true
   },
   "outputs": [],
   "source": [
    "num = int(num)"
   ]
  },
  {
   "cell_type": "markdown",
   "metadata": {},
   "source": [
    "*We convert given string of number into a integer now, and stored that in same name ie __num__*\n",
    "\n",
    "*We can reuse a name/variable, *\n",
    "\n",
    "Let's finish our problem"
   ]
  },
  {
   "cell_type": "code",
   "execution_count": 19,
   "metadata": {},
   "outputs": [
    {
     "data": {
      "text/plain": [
       "0"
      ]
     },
     "execution_count": 19,
     "metadata": {},
     "output_type": "execute_result"
    }
   ],
   "source": [
    "num % 2"
   ]
  },
  {
   "cell_type": "code",
   "execution_count": 20,
   "metadata": {},
   "outputs": [
    {
     "data": {
      "text/plain": [
       "0"
      ]
     },
     "execution_count": 20,
     "metadata": {},
     "output_type": "execute_result"
    }
   ],
   "source": [
    "num % 3"
   ]
  },
  {
   "cell_type": "code",
   "execution_count": 21,
   "metadata": {},
   "outputs": [
    {
     "data": {
      "text/plain": [
       "0"
      ]
     },
     "execution_count": 21,
     "metadata": {},
     "output_type": "execute_result"
    }
   ],
   "source": [
    "num % 4"
   ]
  },
  {
   "cell_type": "code",
   "execution_count": null,
   "metadata": {
    "collapsed": true
   },
   "outputs": [],
   "source": []
  },
  {
   "cell_type": "code",
   "execution_count": 22,
   "metadata": {},
   "outputs": [
    {
     "data": {
      "text/plain": [
       "2"
      ]
     },
     "execution_count": 22,
     "metadata": {},
     "output_type": "execute_result"
    }
   ],
   "source": [
    "num % 5"
   ]
  },
  {
   "cell_type": "markdown",
   "metadata": {},
   "source": [
    "*So our smallest divisor for number __25__ is __5__*"
   ]
  },
  {
   "cell_type": "markdown",
   "metadata": {},
   "source": []
  },
  {
   "cell_type": "markdown",
   "metadata": {},
   "source": [
    "# String\n"
   ]
  },
  {
   "cell_type": "code",
   "execution_count": 12,
   "metadata": {},
   "outputs": [],
   "source": [
    "name= \"kathmandu\""
   ]
  },
  {
   "cell_type": "code",
   "execution_count": null,
   "metadata": {
    "collapsed": true
   },
   "outputs": [],
   "source": []
  },
  {
   "cell_type": "code",
   "execution_count": 13,
   "metadata": {},
   "outputs": [
    {
     "data": {
      "text/plain": [
       "'k'"
      ]
     },
     "execution_count": 13,
     "metadata": {},
     "output_type": "execute_result"
    }
   ],
   "source": [
    "name[0]"
   ]
  },
  {
   "cell_type": "code",
   "execution_count": 14,
   "metadata": {
    "collapsed": true
   },
   "outputs": [],
   "source": [
    "name=\"sud shan\""
   ]
  },
  {
   "cell_type": "code",
   "execution_count": 15,
   "metadata": {},
   "outputs": [
    {
     "data": {
      "text/plain": [
       "3"
      ]
     },
     "execution_count": 15,
     "metadata": {},
     "output_type": "execute_result"
    }
   ],
   "source": [
    "name.index(\" \")"
   ]
  },
  {
   "cell_type": "code",
   "execution_count": 16,
   "metadata": {},
   "outputs": [
    {
     "data": {
      "text/plain": [
       "'SUD SHAN'"
      ]
     },
     "execution_count": 16,
     "metadata": {},
     "output_type": "execute_result"
    }
   ],
   "source": [
    "name.upper()"
   ]
  },
  {
   "cell_type": "code",
   "execution_count": 17,
   "metadata": {
    "collapsed": true
   },
   "outputs": [],
   "source": [
    "name=name.upper()"
   ]
  },
  {
   "cell_type": "markdown",
   "metadata": {},
   "source": [
    "### Solve: Problem 1(cypher)\n",
    "\n",
    "If the Roman alpabet has 26 letters, ordered as an alphabet **ABCDEFGHIJKLMNOPQSTUVWXYZ**, then an arbitrary word can be translated by rotating every letter by **13=26/2** places. Thus, **A** becomes **N**, **B** becomes **O** etc. Finally, letter **Z** is translated to **M**."
   ]
  },
  {
   "cell_type": "code",
   "execution_count": 23,
   "metadata": {},
   "outputs": [
    {
     "name": "stdout",
     "output_type": "stream",
     "text": [
      "Enter a alphabet: a\n"
     ]
    },
    {
     "data": {
      "text/plain": [
       "'N'"
      ]
     },
     "execution_count": 23,
     "metadata": {},
     "output_type": "execute_result"
    }
   ],
   "source": [
    "alphabets = 'ABCDEFGHIJKLMNOPQRSTUVWXYZ'\n",
    "given = input(\"Enter a alphabet: \")\n",
    "given = given.upper()\n",
    "current = alphabets.index(given)\n",
    "result = current + 13\n",
    "alphabets[result]"
   ]
  },
  {
   "cell_type": "markdown",
   "metadata": {},
   "source": [
    "*Review line by line*\n",
    "\n",
    "```python\n",
    "1. alphabets = 'ABCDEFGHIJKLMNOPQRSTUVWXYZ'\n",
    "2. given = input(\"Enter a alphabet: \")\n",
    "3. given = given.upper()\n",
    "4. current = alphabets.index(given)\n",
    "5. result = current + 13\n",
    "6. alphabets[result]\n",
    "```\n",
    "\n",
    "1. we are storing all uppercase characters in a string named __alphabets__\n",
    "2. we are getting any letter from user\n",
    "3. if user enters lowercase letter we convert it to uppercase\n",
    "4. we find assigned number of that letter\n",
    "    - in every string a number is assigned to characters in an incremental order\n",
    "    - i.e _A_ is assigned _0_, _B_ _1_ ... _Z_ = _25_\n",
    "    - those numbers are called index\n",
    "5. we added _13_ to that _index_ as required.\n",
    "6. we access the letter in the calculated index _result_\n",
    "    - i.e in case of _b_ it is _1 + 13_ = _14_\n",
    "    - _alphabets[14]_ means give us the letter/character whose index is _14_ "
   ]
  },
  {
   "cell_type": "markdown",
   "metadata": {
    "collapsed": true
   },
   "source": [
    "*It gave use result for B, C, D and so on but what will it give if we passed Z ?*"
   ]
  },
  {
   "cell_type": "code",
   "execution_count": 24,
   "metadata": {},
   "outputs": [
    {
     "name": "stdout",
     "output_type": "stream",
     "text": [
      "Enter a alphabet: p\n"
     ]
    },
    {
     "ename": "IndexError",
     "evalue": "string index out of range",
     "output_type": "error",
     "traceback": [
      "\u001b[0;31m---------------------------------------------------------------------------\u001b[0m",
      "\u001b[0;31mIndexError\u001b[0m                                Traceback (most recent call last)",
      "\u001b[0;32m<ipython-input-24-65c71dca2653>\u001b[0m in \u001b[0;36m<module>\u001b[0;34m()\u001b[0m\n\u001b[1;32m      4\u001b[0m \u001b[0mcurrent\u001b[0m \u001b[0;34m=\u001b[0m \u001b[0malphabets\u001b[0m\u001b[0;34m.\u001b[0m\u001b[0mindex\u001b[0m\u001b[0;34m(\u001b[0m\u001b[0mgiven\u001b[0m\u001b[0;34m)\u001b[0m\u001b[0;34m\u001b[0m\u001b[0m\n\u001b[1;32m      5\u001b[0m \u001b[0mresult\u001b[0m \u001b[0;34m=\u001b[0m \u001b[0mcurrent\u001b[0m \u001b[0;34m+\u001b[0m \u001b[0;36m13\u001b[0m\u001b[0;34m\u001b[0m\u001b[0m\n\u001b[0;32m----> 6\u001b[0;31m \u001b[0malphabets\u001b[0m\u001b[0;34m[\u001b[0m\u001b[0mresult\u001b[0m\u001b[0;34m]\u001b[0m\u001b[0;34m\u001b[0m\u001b[0m\n\u001b[0m",
      "\u001b[0;31mIndexError\u001b[0m: string index out of range"
     ]
    }
   ],
   "source": [
    "alphabets = 'ABCDEFGHIJKLMNOPQRSTUVWXYZ'\n",
    "given = input(\"Enter a alphabet: \")\n",
    "given = given.upper()\n",
    "current = alphabets.index(given)\n",
    "result = current + 13\n",
    "alphabets[result]"
   ]
  },
  {
   "cell_type": "markdown",
   "metadata": {},
   "source": [
    "*So what happened here, in case of __Z__*\n",
    "\n",
    "4. index of _Z_ is _25_\n",
    "5. we added _25 + 13_ = _38_\n",
    "6. we tried to access _alphabets[38]_\n",
    "    - but _alphabets_ has index only from _0_ to _25_\n",
    "\n",
    "*This means we need \"0\" if result is \"26\" \"1\" for \"27\"*"
   ]
  },
  {
   "cell_type": "code",
   "execution_count": 25,
   "metadata": {},
   "outputs": [
    {
     "name": "stdout",
     "output_type": "stream",
     "text": [
      "Enter a alphabet: z\n"
     ]
    },
    {
     "data": {
      "text/plain": [
       "'M'"
      ]
     },
     "execution_count": 25,
     "metadata": {},
     "output_type": "execute_result"
    }
   ],
   "source": [
    "alphabets = 'ABCDEFGHIJKLMNOPQRSTUVWXYZ'\n",
    "given = input(\"Enter a alphabet: \")\n",
    "given = given.upper()\n",
    "current = alphabets.index(given)\n",
    "result = (current + 13) - (current // 13) * 26\n",
    "alphabets[result]"
   ]
  },
  {
   "cell_type": "markdown",
   "metadata": {},
   "source": [
    "*What did we changed*\n",
    "\n",
    "1. we substract _26_ from _result_ if _current_ is more than _12_ ie _result_ will be more than _25_.\n",
    "    - we divided _current_ with _13_ which will result in either _0_ or _1_ since it is integer division and maximum index is _25_.\n",
    "    - if _current_ value is _13_ or more _current // 13_ will be _1_ and _1 * 26_ will be 26.\n",
    "    - if _current_ value is _12_ or less _current // 13_ will be _0_ and _0 * 26_ will be _0_ and result will be _current + 13_.\n",
    "    \n",
    "We will output result in nice way"
   ]
  },
  {
   "cell_type": "code",
   "execution_count": 26,
   "metadata": {},
   "outputs": [
    {
     "name": "stdout",
     "output_type": "stream",
     "text": [
      "Enter a alphabet: g\n",
      "You have given \"G\" for which result is \"T\".\n"
     ]
    }
   ],
   "source": [
    "alphabets = 'ABCDEFGHIJKLMNOPQRSTUVWXYZ'\n",
    "given = input(\"Enter a alphabet: \")\n",
    "given = given.upper()\n",
    "current = alphabets.index(given)\n",
    "result = (current + 13) - (current // 13) * 26\n",
    "print('You have given \"' + given + '\" for which result is \"' + alphabets[result] + '\".')"
   ]
  },
  {
   "cell_type": "markdown",
   "metadata": {},
   "source": [
    "Above we have created a longer string by adding multiple small string together with addition__( + )__ operator.\n",
    "\n",
    "*Joining multiple string to form single string is called __concatenation__.*"
   ]
  },
  {
   "cell_type": "code",
   "execution_count": null,
   "metadata": {
    "collapsed": true
   },
   "outputs": [],
   "source": []
  },
  {
   "cell_type": "markdown",
   "metadata": {},
   "source": [
    "## Simple Problems\n",
    "\n",
    "- [http://codingbat.com/prob/p182144](http://codingbat.com/prob/p182144)"
   ]
  },
  {
   "cell_type": "code",
   "execution_count": 27,
   "metadata": {},
   "outputs": [
    {
     "name": "stdout",
     "output_type": "stream",
     "text": [
      "HiByeByeHi\n"
     ]
    }
   ],
   "source": [
    "# Hi, Bye -> HiByeByeHi\n",
    "\n",
    "# we are defining names for each words\n",
    "first_word = 'Hi'\n",
    "second_word = 'Bye'\n",
    "\n",
    "final_word = first_word + second_word * 2 + first_word\n",
    "print(final_word)"
   ]
  },
  {
   "cell_type": "markdown",
   "metadata": {},
   "source": [
    "_when **\\*** is used with string, it repeates the given string __times__ the given number._"
   ]
  },
  {
   "cell_type": "code",
   "execution_count": 28,
   "metadata": {},
   "outputs": [
    {
     "name": "stdout",
     "output_type": "stream",
     "text": [
      "Result is 'HiByeByeHi'\n"
     ]
    }
   ],
   "source": [
    "print(\"Result is '{}'\".format(final_word))"
   ]
  },
  {
   "cell_type": "markdown",
   "metadata": {},
   "source": [
    "*See. reference on [string formatting]().*"
   ]
  },
  {
   "cell_type": "markdown",
   "metadata": {},
   "source": [
    "### Show all characters of the word"
   ]
  },
  {
   "cell_type": "code",
   "execution_count": 29,
   "metadata": {},
   "outputs": [
    {
     "name": "stdout",
     "output_type": "stream",
     "text": [
      "Enter a word: hello you\n"
     ]
    }
   ],
   "source": [
    "word = input(\"Enter a word: \")"
   ]
  },
  {
   "cell_type": "code",
   "execution_count": 30,
   "metadata": {},
   "outputs": [
    {
     "name": "stdout",
     "output_type": "stream",
     "text": [
      "The 0th character of word is: h\n",
      "The 1th character of word is: e\n",
      "The 2th character of word is: l\n",
      "The 2th character of word is: l\n",
      "The 4th character of word is: o\n",
      "The 5th character of word is:  \n",
      "The 6th character of word is: y\n",
      "The 4th character of word is: o\n",
      "The 8th character of word is: u\n"
     ]
    }
   ],
   "source": [
    "for char in word:\n",
    "    print(\"The {}th character of word is: {}\".format(word.index(char), char))"
   ]
  },
  {
   "cell_type": "markdown",
   "metadata": {},
   "source": [
    "__for__ means go through each character one by one, and put each character to name __char__.\n",
    "\n",
    "*This technique of cycling through using __for__ is called looping*\n",
    "\n",
    "*Note: Don't forget to put \"__:__\" at the end of __for__ line, and remember to start __print__ below, 4 spaces from left.*"
   ]
  },
  {
   "cell_type": "code",
   "execution_count": null,
   "metadata": {
    "collapsed": true
   },
   "outputs": [],
   "source": []
  },
  {
   "cell_type": "markdown",
   "metadata": {
    "collapsed": true
   },
   "source": [
    "### How many words are there in a paragraph ?"
   ]
  },
  {
   "cell_type": "code",
   "execution_count": 31,
   "metadata": {
    "collapsed": true
   },
   "outputs": [],
   "source": [
    "paragraph = '''\n",
    "My country Nepal is surrounding by two countries. China lies in the east side and west, north and south is cover by India. \n",
    "It is in the northern hemisphere. It has three geographical zones. Himalayan, Mountainous and tarai. \n",
    "We have monsoon climate. It is very cold and dry in winter and hot, stormy and rainy in summer. \n",
    "It is rich in natural beauty and resources. It has long and wide rivers like koshi, Gandaki, and Karnali. \n",
    "We have large lakes like Rupa, Begnas, and Rara etc. like-wise we have green valleys, lovely water falls etc.  \n",
    "It is rich in religious and historical heritages. Lumbini, Gorkha, Janakpur, Kathmandu are the famous examples.\n",
    "'''"
   ]
  },
  {
   "cell_type": "code",
   "execution_count": 32,
   "metadata": {},
   "outputs": [
    {
     "name": "stdout",
     "output_type": "stream",
     "text": [
      "Total number of words = 111\n"
     ]
    }
   ],
   "source": [
    "words_count = 0\n",
    "for _ in paragraph.split():\n",
    "    words_count += 1\n",
    "print(\"Total number of words = {}\".format(words_count))"
   ]
  },
  {
   "cell_type": "markdown",
   "metadata": {},
   "source": [
    "*Let's review line by line*\n",
    "\n",
    "1. We assign a long paragraph to name/variable __paragraph__\n",
    "2. Now we split the paragraph.\n",
    "    - _split()_ is a string method. ( the function which comes attached to any string. )\n",
    "    - what _split_ does is splits paragraph by _space_ ie _\"Hello World\"_ becomes _\"Hello\"_ and _\"World\"_.\n",
    "3. we loop through the words ( in this case not character like above ) and assign each word to **\\_**.\n",
    "    - now when we have one word, we increment **words\\_count** variable by one, and another and so on."
   ]
  },
  {
   "cell_type": "code",
   "execution_count": null,
   "metadata": {
    "collapsed": true
   },
   "outputs": [],
   "source": []
  }
 ],
 "metadata": {
  "anaconda-cloud": {},
  "kernelspec": {
   "display_name": "Python 3",
   "language": "python",
   "name": "python3"
  },
  "language_info": {
   "codemirror_mode": {
    "name": "ipython",
    "version": 3
   },
   "file_extension": ".py",
   "mimetype": "text/x-python",
   "name": "python",
   "nbconvert_exporter": "python",
   "pygments_lexer": "ipython3",
   "version": "3.6.1"
  }
 },
 "nbformat": 4,
 "nbformat_minor": 1
}
