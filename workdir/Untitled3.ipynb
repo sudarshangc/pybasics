{
 "cells": [
  {
   "cell_type": "code",
   "execution_count": 1,
   "metadata": {
    "collapsed": true
   },
   "outputs": [],
   "source": [
    "def read_multiple_naadsmsc(filename, outfile, initial):\n",
    "    hdf=h5py.File(outfile, \"w\")\n",
    "    hdf.create_group(\"/trajectory\")\n",
    "    allowed=set()\n",
    "    for events in naadsm_flow(filename, initial):\n",
    "        save_h5(hdf, events)\n",
    "        for e in events:\n",
    "            allowed.add(e[0])\n",
    "    return allowed"
   ]
  },
  {
   "cell_type": "code",
   "execution_count": 5,
   "metadata": {},
   "outputs": [],
   "source": [
    "def read_multiple_naadsmsc(filename, outfile, initial):\n",
    "    hdf=h5py.File(outfile, \"w\")\n",
    "    hdf.create_group(\"/trajectory\")\n",
    "    allowed=set()\n",
    "    for events in naadsm_flow(filename, initial):\n",
    "        save_h5(hdf, events)\n",
    "        for e in events:\n",
    "            allowed.add(e[0])\n",
    "    print (allowed)\n"
   ]
  },
  {
   "cell_type": "code",
   "execution_count": null,
   "metadata": {
    "collapsed": true
   },
   "outputs": [],
   "source": []
  },
  {
   "cell_type": "code",
   "execution_count": null,
   "metadata": {
    "collapsed": true
   },
   "outputs": [],
   "source": []
  }
 ],
 "metadata": {
  "kernelspec": {
   "display_name": "Python 3",
   "language": "python",
   "name": "python3"
  },
  "language_info": {
   "codemirror_mode": {
    "name": "ipython",
    "version": 3
   },
   "file_extension": ".py",
   "mimetype": "text/x-python",
   "name": "python",
   "nbconvert_exporter": "python",
   "pygments_lexer": "ipython3",
   "version": "3.6.1"
  }
 },
 "nbformat": 4,
 "nbformat_minor": 2
}
