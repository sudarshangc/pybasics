{
 "cells": [
  {
   "cell_type": "markdown",
   "metadata": {},
   "source": [
    "# Collections and for loop\n",
    "---"
   ]
  },
  {
   "cell_type": "markdown",
   "metadata": {},
   "source": [
    "- String\n",
    "- List\n",
    "- Dictionary\n",
    "- Tuple\n",
    "- Set"
   ]
  },
  {
   "cell_type": "code",
   "execution_count": 1,
   "metadata": {
    "collapsed": true
   },
   "outputs": [],
   "source": [
    "paragraph = \"\"\"\n",
    "I had seen little of Holmes lately. My marriage had drifted us\n",
    "away from each other. My own complete happiness, and the\n",
    "home-centred interests which rise up around the man who first\n",
    "finds himself master of his own establishment, were sufficient to\n",
    "absorb all my attention, while Holmes, who loathed every form of\n",
    "society with his whole Bohemian soul, remained in our lodgings in\n",
    "Baker Street, buried among his old books, and alternating from\n",
    "week to week between cocaine and ambition, the drowsiness of the\n",
    "drug, and the fierce energy of his own keen nature. He was still,\n",
    "as ever, deeply attracted by the study of crime, and occupied his\n",
    "immense faculties and extraordinary powers of observation in\n",
    "following out those clues, and clearing up those mysteries which\n",
    "had been abandoned as hopeless by the official police. From time\n",
    "to time I heard some vague account of his doings: of his summons\n",
    "to Odessa in the case of the Trepoff murder, of his clearing up\n",
    "of the singular tragedy of the Atkinson brothers at Trincomalee,\n",
    "and finally of the mission which he had accomplished so\n",
    "delicately and successfully for the reigning family of Holland.\n",
    "Beyond these signs of his activity, however, which I merely\n",
    "shared with all the readers of the daily press, I knew little of\n",
    "my former friend and companion.\n",
    "\"\"\""
   ]
  },
  {
   "cell_type": "markdown",
   "metadata": {},
   "source": [
    "### Calculate word frequency from above paragraph"
   ]
  },
  {
   "cell_type": "code",
   "execution_count": 3,
   "metadata": {},
   "outputs": [
    {
     "data": {
      "text/plain": [
       "['I',\n",
       " 'had',\n",
       " 'seen',\n",
       " 'little',\n",
       " 'of',\n",
       " 'Holmes',\n",
       " 'lately.',\n",
       " 'My',\n",
       " 'marriage',\n",
       " 'had',\n",
       " 'drifted',\n",
       " 'us',\n",
       " 'away',\n",
       " 'from',\n",
       " 'each',\n",
       " 'other.',\n",
       " 'My',\n",
       " 'own',\n",
       " 'complete',\n",
       " 'happiness,',\n",
       " 'and',\n",
       " 'the',\n",
       " 'home-centred',\n",
       " 'interests',\n",
       " 'which',\n",
       " 'rise',\n",
       " 'up',\n",
       " 'around',\n",
       " 'the',\n",
       " 'man',\n",
       " 'who',\n",
       " 'first',\n",
       " 'finds',\n",
       " 'himself',\n",
       " 'master',\n",
       " 'of',\n",
       " 'his',\n",
       " 'own',\n",
       " 'establishment,',\n",
       " 'were',\n",
       " 'sufficient',\n",
       " 'to',\n",
       " 'absorb',\n",
       " 'all',\n",
       " 'my',\n",
       " 'attention,',\n",
       " 'while',\n",
       " 'Holmes,',\n",
       " 'who',\n",
       " 'loathed',\n",
       " 'every',\n",
       " 'form',\n",
       " 'of',\n",
       " 'society',\n",
       " 'with',\n",
       " 'his',\n",
       " 'whole',\n",
       " 'Bohemian',\n",
       " 'soul,',\n",
       " 'remained',\n",
       " 'in',\n",
       " 'our',\n",
       " 'lodgings',\n",
       " 'in',\n",
       " 'Baker',\n",
       " 'Street,',\n",
       " 'buried',\n",
       " 'among',\n",
       " 'his',\n",
       " 'old',\n",
       " 'books,',\n",
       " 'and',\n",
       " 'alternating',\n",
       " 'from',\n",
       " 'week',\n",
       " 'to',\n",
       " 'week',\n",
       " 'between',\n",
       " 'cocaine',\n",
       " 'and',\n",
       " 'ambition,',\n",
       " 'the',\n",
       " 'drowsiness',\n",
       " 'of',\n",
       " 'the',\n",
       " 'drug,',\n",
       " 'and',\n",
       " 'the',\n",
       " 'fierce',\n",
       " 'energy',\n",
       " 'of',\n",
       " 'his',\n",
       " 'own',\n",
       " 'keen',\n",
       " 'nature.',\n",
       " 'He',\n",
       " 'was',\n",
       " 'still,',\n",
       " 'as',\n",
       " 'ever,',\n",
       " 'deeply',\n",
       " 'attracted',\n",
       " 'by',\n",
       " 'the',\n",
       " 'study',\n",
       " 'of',\n",
       " 'crime,',\n",
       " 'and',\n",
       " 'occupied',\n",
       " 'his',\n",
       " 'immense',\n",
       " 'faculties',\n",
       " 'and',\n",
       " 'extraordinary',\n",
       " 'powers',\n",
       " 'of',\n",
       " 'observation',\n",
       " 'in',\n",
       " 'following',\n",
       " 'out',\n",
       " 'those',\n",
       " 'clues,',\n",
       " 'and',\n",
       " 'clearing',\n",
       " 'up',\n",
       " 'those',\n",
       " 'mysteries',\n",
       " 'which',\n",
       " 'had',\n",
       " 'been',\n",
       " 'abandoned',\n",
       " 'as',\n",
       " 'hopeless',\n",
       " 'by',\n",
       " 'the',\n",
       " 'official',\n",
       " 'police.',\n",
       " 'From',\n",
       " 'time',\n",
       " 'to',\n",
       " 'time',\n",
       " 'I',\n",
       " 'heard',\n",
       " 'some',\n",
       " 'vague',\n",
       " 'account',\n",
       " 'of',\n",
       " 'his',\n",
       " 'doings:',\n",
       " 'of',\n",
       " 'his',\n",
       " 'summons',\n",
       " 'to',\n",
       " 'Odessa',\n",
       " 'in',\n",
       " 'the',\n",
       " 'case',\n",
       " 'of',\n",
       " 'the',\n",
       " 'Trepoff',\n",
       " 'murder,',\n",
       " 'of',\n",
       " 'his',\n",
       " 'clearing',\n",
       " 'up',\n",
       " 'of',\n",
       " 'the',\n",
       " 'singular',\n",
       " 'tragedy',\n",
       " 'of',\n",
       " 'the',\n",
       " 'Atkinson',\n",
       " 'brothers',\n",
       " 'at',\n",
       " 'Trincomalee,',\n",
       " 'and',\n",
       " 'finally',\n",
       " 'of',\n",
       " 'the',\n",
       " 'mission',\n",
       " 'which',\n",
       " 'he',\n",
       " 'had',\n",
       " 'accomplished',\n",
       " 'so',\n",
       " 'delicately',\n",
       " 'and',\n",
       " 'successfully',\n",
       " 'for',\n",
       " 'the',\n",
       " 'reigning',\n",
       " 'family',\n",
       " 'of',\n",
       " 'Holland.',\n",
       " 'Beyond',\n",
       " 'these',\n",
       " 'signs',\n",
       " 'of',\n",
       " 'his',\n",
       " 'activity,',\n",
       " 'however,',\n",
       " 'which',\n",
       " 'I',\n",
       " 'merely',\n",
       " 'shared',\n",
       " 'with',\n",
       " 'all',\n",
       " 'the',\n",
       " 'readers',\n",
       " 'of',\n",
       " 'the',\n",
       " 'daily',\n",
       " 'press,',\n",
       " 'I',\n",
       " 'knew',\n",
       " 'little',\n",
       " 'of',\n",
       " 'my',\n",
       " 'former',\n",
       " 'friend',\n",
       " 'and',\n",
       " 'companion.']"
      ]
     },
     "execution_count": 3,
     "metadata": {},
     "output_type": "execute_result"
    }
   ],
   "source": [
    "paragraph.split()"
   ]
  },
  {
   "cell_type": "markdown",
   "metadata": {},
   "source": [
    "## List"
   ]
  },
  {
   "cell_type": "code",
   "execution_count": 4,
   "metadata": {
    "collapsed": true
   },
   "outputs": [],
   "source": [
    "names = ['Harry', 'Bob', 'Robbin']"
   ]
  },
  {
   "cell_type": "code",
   "execution_count": 5,
   "metadata": {
    "collapsed": true
   },
   "outputs": [],
   "source": [
    "info = ['Jim', 28, 78.5]"
   ]
  },
  {
   "cell_type": "code",
   "execution_count": 6,
   "metadata": {},
   "outputs": [
    {
     "data": {
      "text/plain": [
       "'Jim'"
      ]
     },
     "execution_count": 6,
     "metadata": {},
     "output_type": "execute_result"
    }
   ],
   "source": [
    "info[0]"
   ]
  },
  {
   "cell_type": "code",
   "execution_count": 7,
   "metadata": {},
   "outputs": [
    {
     "data": {
      "text/plain": [
       "'Bob'"
      ]
     },
     "execution_count": 7,
     "metadata": {},
     "output_type": "execute_result"
    }
   ],
   "source": [
    "names[1]"
   ]
  },
  {
   "cell_type": "code",
   "execution_count": 8,
   "metadata": {},
   "outputs": [
    {
     "data": {
      "text/plain": [
       "'Robbin'"
      ]
     },
     "execution_count": 8,
     "metadata": {},
     "output_type": "execute_result"
    }
   ],
   "source": [
    "names[-1]"
   ]
  },
  {
   "cell_type": "code",
   "execution_count": 9,
   "metadata": {},
   "outputs": [
    {
     "data": {
      "text/plain": [
       "['Jim', 28]"
      ]
     },
     "execution_count": 9,
     "metadata": {},
     "output_type": "execute_result"
    }
   ],
   "source": [
    "info[:2]"
   ]
  },
  {
   "cell_type": "markdown",
   "metadata": {},
   "source": [
    "**Continue with problem**"
   ]
  },
  {
   "cell_type": "markdown",
   "metadata": {},
   "source": [
    "- *Select each word*"
   ]
  },
  {
   "cell_type": "code",
   "execution_count": 11,
   "metadata": {},
   "outputs": [
    {
     "name": "stdout",
     "output_type": "stream",
     "text": [
      "I\n"
     ]
    }
   ],
   "source": [
    "for word in paragraph.split():\n",
    "    print(word)\n",
    "    break"
   ]
  },
  {
   "cell_type": "markdown",
   "metadata": {},
   "source": [
    "__Q__: *How does above loop is working?*"
   ]
  },
  {
   "cell_type": "code",
   "execution_count": 12,
   "metadata": {},
   "outputs": [
    {
     "data": {
      "text/plain": [
       "['Harry', 'Bob', 'Robbin']"
      ]
     },
     "execution_count": 12,
     "metadata": {},
     "output_type": "execute_result"
    }
   ],
   "source": [
    "names"
   ]
  },
  {
   "cell_type": "code",
   "execution_count": 14,
   "metadata": {},
   "outputs": [
    {
     "name": "stdout",
     "output_type": "stream",
     "text": [
      "Harry ------------\n",
      "Bob ------------\n",
      "Robbin ------------\n"
     ]
    }
   ],
   "source": [
    "for name in names:\n",
    "    print(name, '------------')"
   ]
  },
  {
   "cell_type": "code",
   "execution_count": 15,
   "metadata": {},
   "outputs": [
    {
     "ename": "IndexError",
     "evalue": "list index out of range",
     "output_type": "error",
     "traceback": [
      "\u001b[0;31m---------------------------------------------------------------------------\u001b[0m",
      "\u001b[0;31mIndexError\u001b[0m                                Traceback (most recent call last)",
      "\u001b[0;32m<ipython-input-15-1aae87bc9db2>\u001b[0m in \u001b[0;36m<module>\u001b[0;34m()\u001b[0m\n\u001b[0;32m----> 1\u001b[0;31m \u001b[0mnames\u001b[0m\u001b[0;34m[\u001b[0m\u001b[0;36m3\u001b[0m\u001b[0;34m]\u001b[0m\u001b[0;34m\u001b[0m\u001b[0m\n\u001b[0m",
      "\u001b[0;31mIndexError\u001b[0m: list index out of range"
     ]
    }
   ],
   "source": [
    "names[3]"
   ]
  },
  {
   "cell_type": "markdown",
   "metadata": {},
   "source": [
    "```python\n",
    "for name in names:\n",
    "    print(name)\n",
    "\n",
    "# REMEMBER, THIS IS JUST PSUEDOCODE, THIS IS NOT PYTHON CODE\n",
    "name = names[0] if not IndexError\n",
    "print(name)\n",
    "name = names[1] if not IndexError\n",
    "print(name)\n",
    "name = names[2] if not IndexError\n",
    "print(name)\n",
    "name = names[3] if not IndexError\n",
    "```"
   ]
  },
  {
   "cell_type": "markdown",
   "metadata": {},
   "source": [
    "- *How we would know if the word is 'the'*"
   ]
  },
  {
   "cell_type": "code",
   "execution_count": 16,
   "metadata": {
    "collapsed": true
   },
   "outputs": [],
   "source": [
    "words = paragraph.split()"
   ]
  },
  {
   "cell_type": "code",
   "execution_count": 19,
   "metadata": {},
   "outputs": [
    {
     "name": "stdout",
     "output_type": "stream",
     "text": [
      "yes\n",
      "yes\n",
      "yes\n",
      "yes\n",
      "yes\n",
      "yes\n",
      "yes\n",
      "yes\n",
      "yes\n",
      "yes\n",
      "yes\n",
      "yes\n",
      "yes\n",
      "yes\n",
      "yes\n"
     ]
    }
   ],
   "source": [
    "for word in words:\n",
    "    if word == 'the':\n",
    "        print('yes')"
   ]
  },
  {
   "cell_type": "code",
   "execution_count": 21,
   "metadata": {},
   "outputs": [
    {
     "name": "stdout",
     "output_type": "stream",
     "text": [
      "yes\n",
      "yes\n",
      "yes\n",
      "yes\n",
      "yes\n",
      "yes\n",
      "yes\n",
      "yes\n",
      "yes\n",
      "yes\n",
      "yes\n",
      "yes\n",
      "yes\n",
      "yes\n",
      "yes\n"
     ]
    }
   ],
   "source": [
    "for word in words:\n",
    "    if word == 'The' or word == 'the':\n",
    "        print('yes')"
   ]
  },
  {
   "cell_type": "code",
   "execution_count": 22,
   "metadata": {},
   "outputs": [
    {
     "name": "stdout",
     "output_type": "stream",
     "text": [
      "yes\n",
      "yes\n",
      "yes\n",
      "yes\n",
      "yes\n",
      "yes\n",
      "yes\n",
      "yes\n",
      "yes\n",
      "yes\n",
      "yes\n",
      "yes\n",
      "yes\n",
      "yes\n",
      "yes\n"
     ]
    }
   ],
   "source": [
    "for word in words:\n",
    "    if word.lower() == 'the':\n",
    "        print('yes')"
   ]
  },
  {
   "cell_type": "code",
   "execution_count": 25,
   "metadata": {},
   "outputs": [
    {
     "name": "stdout",
     "output_type": "stream",
     "text": [
      "15\n"
     ]
    }
   ],
   "source": [
    "count = 0\n",
    "for word in words:\n",
    "    if word.lower() == 'the':\n",
    "        count += 1 # count = count + 1\n",
    "print(count)"
   ]
  },
  {
   "cell_type": "code",
   "execution_count": 26,
   "metadata": {},
   "outputs": [
    {
     "data": {
      "text/plain": [
       "['I',\n",
       " 'had',\n",
       " 'seen',\n",
       " 'little',\n",
       " 'of',\n",
       " 'Holmes',\n",
       " 'lately.',\n",
       " 'My',\n",
       " 'marriage',\n",
       " 'had',\n",
       " 'drifted',\n",
       " 'us',\n",
       " 'away',\n",
       " 'from',\n",
       " 'each',\n",
       " 'other.',\n",
       " 'My',\n",
       " 'own',\n",
       " 'complete',\n",
       " 'happiness,',\n",
       " 'and',\n",
       " 'the',\n",
       " 'home-centred',\n",
       " 'interests',\n",
       " 'which',\n",
       " 'rise',\n",
       " 'up',\n",
       " 'around',\n",
       " 'the',\n",
       " 'man',\n",
       " 'who',\n",
       " 'first',\n",
       " 'finds',\n",
       " 'himself',\n",
       " 'master',\n",
       " 'of',\n",
       " 'his',\n",
       " 'own',\n",
       " 'establishment,',\n",
       " 'were',\n",
       " 'sufficient',\n",
       " 'to',\n",
       " 'absorb',\n",
       " 'all',\n",
       " 'my',\n",
       " 'attention,',\n",
       " 'while',\n",
       " 'Holmes,',\n",
       " 'who',\n",
       " 'loathed',\n",
       " 'every',\n",
       " 'form',\n",
       " 'of',\n",
       " 'society',\n",
       " 'with',\n",
       " 'his',\n",
       " 'whole',\n",
       " 'Bohemian',\n",
       " 'soul,',\n",
       " 'remained',\n",
       " 'in',\n",
       " 'our',\n",
       " 'lodgings',\n",
       " 'in',\n",
       " 'Baker',\n",
       " 'Street,',\n",
       " 'buried',\n",
       " 'among',\n",
       " 'his',\n",
       " 'old',\n",
       " 'books,',\n",
       " 'and',\n",
       " 'alternating',\n",
       " 'from',\n",
       " 'week',\n",
       " 'to',\n",
       " 'week',\n",
       " 'between',\n",
       " 'cocaine',\n",
       " 'and',\n",
       " 'ambition,',\n",
       " 'the',\n",
       " 'drowsiness',\n",
       " 'of',\n",
       " 'the',\n",
       " 'drug,',\n",
       " 'and',\n",
       " 'the',\n",
       " 'fierce',\n",
       " 'energy',\n",
       " 'of',\n",
       " 'his',\n",
       " 'own',\n",
       " 'keen',\n",
       " 'nature.',\n",
       " 'He',\n",
       " 'was',\n",
       " 'still,',\n",
       " 'as',\n",
       " 'ever,',\n",
       " 'deeply',\n",
       " 'attracted',\n",
       " 'by',\n",
       " 'the',\n",
       " 'study',\n",
       " 'of',\n",
       " 'crime,',\n",
       " 'and',\n",
       " 'occupied',\n",
       " 'his',\n",
       " 'immense',\n",
       " 'faculties',\n",
       " 'and',\n",
       " 'extraordinary',\n",
       " 'powers',\n",
       " 'of',\n",
       " 'observation',\n",
       " 'in',\n",
       " 'following',\n",
       " 'out',\n",
       " 'those',\n",
       " 'clues,',\n",
       " 'and',\n",
       " 'clearing',\n",
       " 'up',\n",
       " 'those',\n",
       " 'mysteries',\n",
       " 'which',\n",
       " 'had',\n",
       " 'been',\n",
       " 'abandoned',\n",
       " 'as',\n",
       " 'hopeless',\n",
       " 'by',\n",
       " 'the',\n",
       " 'official',\n",
       " 'police.',\n",
       " 'From',\n",
       " 'time',\n",
       " 'to',\n",
       " 'time',\n",
       " 'I',\n",
       " 'heard',\n",
       " 'some',\n",
       " 'vague',\n",
       " 'account',\n",
       " 'of',\n",
       " 'his',\n",
       " 'doings:',\n",
       " 'of',\n",
       " 'his',\n",
       " 'summons',\n",
       " 'to',\n",
       " 'Odessa',\n",
       " 'in',\n",
       " 'the',\n",
       " 'case',\n",
       " 'of',\n",
       " 'the',\n",
       " 'Trepoff',\n",
       " 'murder,',\n",
       " 'of',\n",
       " 'his',\n",
       " 'clearing',\n",
       " 'up',\n",
       " 'of',\n",
       " 'the',\n",
       " 'singular',\n",
       " 'tragedy',\n",
       " 'of',\n",
       " 'the',\n",
       " 'Atkinson',\n",
       " 'brothers',\n",
       " 'at',\n",
       " 'Trincomalee,',\n",
       " 'and',\n",
       " 'finally',\n",
       " 'of',\n",
       " 'the',\n",
       " 'mission',\n",
       " 'which',\n",
       " 'he',\n",
       " 'had',\n",
       " 'accomplished',\n",
       " 'so',\n",
       " 'delicately',\n",
       " 'and',\n",
       " 'successfully',\n",
       " 'for',\n",
       " 'the',\n",
       " 'reigning',\n",
       " 'family',\n",
       " 'of',\n",
       " 'Holland.',\n",
       " 'Beyond',\n",
       " 'these',\n",
       " 'signs',\n",
       " 'of',\n",
       " 'his',\n",
       " 'activity,',\n",
       " 'however,',\n",
       " 'which',\n",
       " 'I',\n",
       " 'merely',\n",
       " 'shared',\n",
       " 'with',\n",
       " 'all',\n",
       " 'the',\n",
       " 'readers',\n",
       " 'of',\n",
       " 'the',\n",
       " 'daily',\n",
       " 'press,',\n",
       " 'I',\n",
       " 'knew',\n",
       " 'little',\n",
       " 'of',\n",
       " 'my',\n",
       " 'former',\n",
       " 'friend',\n",
       " 'and',\n",
       " 'companion.']"
      ]
     },
     "execution_count": 26,
     "metadata": {},
     "output_type": "execute_result"
    }
   ],
   "source": [
    "words"
   ]
  },
  {
   "cell_type": "code",
   "execution_count": 27,
   "metadata": {},
   "outputs": [
    {
     "data": {
      "text/plain": [
       "'companion'"
      ]
     },
     "execution_count": 27,
     "metadata": {},
     "output_type": "execute_result"
    }
   ],
   "source": [
    "'companion.'.strip('.')"
   ]
  },
  {
   "cell_type": "code",
   "execution_count": 28,
   "metadata": {},
   "outputs": [
    {
     "name": "stdout",
     "output_type": "stream",
     "text": [
      "15\n"
     ]
    }
   ],
   "source": [
    "count = 0\n",
    "for word in words:\n",
    "    word = word.strip(',')\n",
    "    word = word.strip('.')\n",
    "    if word.lower() == 'the':\n",
    "        count += 1 # count = count + 1\n",
    "print(count)"
   ]
  },
  {
   "cell_type": "markdown",
   "metadata": {},
   "source": [
    "**Immutable**"
   ]
  },
  {
   "cell_type": "code",
   "execution_count": 29,
   "metadata": {},
   "outputs": [
    {
     "data": {
      "text/plain": [
       "'Robbin'"
      ]
     },
     "execution_count": 29,
     "metadata": {},
     "output_type": "execute_result"
    }
   ],
   "source": [
    "name"
   ]
  },
  {
   "cell_type": "code",
   "execution_count": 30,
   "metadata": {},
   "outputs": [
    {
     "ename": "TypeError",
     "evalue": "'str' object does not support item assignment",
     "output_type": "error",
     "traceback": [
      "\u001b[0;31m---------------------------------------------------------------------------\u001b[0m",
      "\u001b[0;31mTypeError\u001b[0m                                 Traceback (most recent call last)",
      "\u001b[0;32m<ipython-input-30-fcf7fb3d02e7>\u001b[0m in \u001b[0;36m<module>\u001b[0;34m()\u001b[0m\n\u001b[0;32m----> 1\u001b[0;31m \u001b[0mname\u001b[0m\u001b[0;34m[\u001b[0m\u001b[0;36m0\u001b[0m\u001b[0;34m]\u001b[0m \u001b[0;34m=\u001b[0m \u001b[0;34m'B'\u001b[0m\u001b[0;34m\u001b[0m\u001b[0m\n\u001b[0m",
      "\u001b[0;31mTypeError\u001b[0m: 'str' object does not support item assignment"
     ]
    }
   ],
   "source": [
    "name[0] = 'B'"
   ]
  },
  {
   "cell_type": "code",
   "execution_count": 31,
   "metadata": {},
   "outputs": [
    {
     "data": {
      "text/plain": [
       "'R'"
      ]
     },
     "execution_count": 31,
     "metadata": {},
     "output_type": "execute_result"
    }
   ],
   "source": [
    "name[0]"
   ]
  },
  {
   "cell_type": "code",
   "execution_count": null,
   "metadata": {
    "collapsed": true
   },
   "outputs": [],
   "source": []
  },
  {
   "cell_type": "markdown",
   "metadata": {},
   "source": [
    "## Dictionary"
   ]
  },
  {
   "cell_type": "code",
   "execution_count": 32,
   "metadata": {
    "collapsed": true
   },
   "outputs": [],
   "source": [
    "info_dct = {\n",
    "    'name': 'Jim',\n",
    "    'age': 28,\n",
    "    'weight': 78.5,\n",
    "}"
   ]
  },
  {
   "cell_type": "code",
   "execution_count": 33,
   "metadata": {},
   "outputs": [
    {
     "data": {
      "text/plain": [
       "'Jim'"
      ]
     },
     "execution_count": 33,
     "metadata": {},
     "output_type": "execute_result"
    }
   ],
   "source": [
    "info_dct['name']"
   ]
  },
  {
   "cell_type": "markdown",
   "metadata": {},
   "source": [
    "__Q__: Are list mutable or immutable?"
   ]
  },
  {
   "cell_type": "code",
   "execution_count": 34,
   "metadata": {},
   "outputs": [
    {
     "data": {
      "text/plain": [
       "['Harry', 'Bob', 'Robbin']"
      ]
     },
     "execution_count": 34,
     "metadata": {},
     "output_type": "execute_result"
    }
   ],
   "source": [
    "names"
   ]
  },
  {
   "cell_type": "code",
   "execution_count": 35,
   "metadata": {
    "collapsed": true
   },
   "outputs": [],
   "source": [
    "names[0] = 'Rob'"
   ]
  },
  {
   "cell_type": "code",
   "execution_count": 36,
   "metadata": {},
   "outputs": [
    {
     "data": {
      "text/plain": [
       "['Rob', 'Bob', 'Robbin']"
      ]
     },
     "execution_count": 36,
     "metadata": {},
     "output_type": "execute_result"
    }
   ],
   "source": [
    "names"
   ]
  },
  {
   "cell_type": "markdown",
   "metadata": {},
   "source": [
    "- *so list are mutable*\n",
    "\n",
    "__Q__: can we use list as dictionary key? __NO__, *why?* __dictionary keys should be immutable__"
   ]
  },
  {
   "cell_type": "code",
   "execution_count": 37,
   "metadata": {},
   "outputs": [
    {
     "ename": "KeyError",
     "evalue": "0",
     "output_type": "error",
     "traceback": [
      "\u001b[0;31m---------------------------------------------------------------------------\u001b[0m",
      "\u001b[0;31mKeyError\u001b[0m                                  Traceback (most recent call last)",
      "\u001b[0;32m<ipython-input-37-fb2685df2d0c>\u001b[0m in \u001b[0;36m<module>\u001b[0;34m()\u001b[0m\n\u001b[0;32m----> 1\u001b[0;31m \u001b[0minfo_dct\u001b[0m\u001b[0;34m[\u001b[0m\u001b[0;36m0\u001b[0m\u001b[0;34m]\u001b[0m\u001b[0;34m\u001b[0m\u001b[0m\n\u001b[0m",
      "\u001b[0;31mKeyError\u001b[0m: 0"
     ]
    }
   ],
   "source": [
    "info_dct[0]"
   ]
  },
  {
   "cell_type": "code",
   "execution_count": 38,
   "metadata": {},
   "outputs": [
    {
     "data": {
      "text/plain": [
       "'Jim'"
      ]
     },
     "execution_count": 38,
     "metadata": {},
     "output_type": "execute_result"
    }
   ],
   "source": [
    "info_dct['name']"
   ]
  },
  {
   "cell_type": "code",
   "execution_count": 39,
   "metadata": {},
   "outputs": [
    {
     "data": {
      "text/plain": [
       "{'age': 28, 'name': 'Jim', 'weight': 78.5}"
      ]
     },
     "execution_count": 39,
     "metadata": {},
     "output_type": "execute_result"
    }
   ],
   "source": [
    "info_dct"
   ]
  },
  {
   "cell_type": "code",
   "execution_count": 40,
   "metadata": {
    "collapsed": true
   },
   "outputs": [],
   "source": [
    "info_dct['age'] = 30"
   ]
  },
  {
   "cell_type": "code",
   "execution_count": 41,
   "metadata": {},
   "outputs": [
    {
     "data": {
      "text/plain": [
       "{'age': 30, 'name': 'Jim', 'weight': 78.5}"
      ]
     },
     "execution_count": 41,
     "metadata": {},
     "output_type": "execute_result"
    }
   ],
   "source": [
    "info_dct"
   ]
  },
  {
   "cell_type": "code",
   "execution_count": null,
   "metadata": {
    "collapsed": true
   },
   "outputs": [],
   "source": []
  },
  {
   "cell_type": "markdown",
   "metadata": {},
   "source": [
    "*back to our original problem*"
   ]
  },
  {
   "cell_type": "code",
   "execution_count": 44,
   "metadata": {},
   "outputs": [
    {
     "name": "stdout",
     "output_type": "stream",
     "text": [
      "{'a': 0, 'the': 15, 'of': 0}\n"
     ]
    }
   ],
   "source": [
    "counter = {\n",
    "    'a': 0,\n",
    "    'the': 0,\n",
    "    'of': 0\n",
    "}\n",
    "for word in words:\n",
    "    word = word.strip(',')\n",
    "    word = word.strip('.')\n",
    "    if word.lower() == 'the':\n",
    "        counter['the'] += 1 # counter['the'] = counter['the'] + 1\n",
    "print(counter)"
   ]
  },
  {
   "cell_type": "code",
   "execution_count": 45,
   "metadata": {},
   "outputs": [
    {
     "name": "stdout",
     "output_type": "stream",
     "text": [
      "{'a': 0, 'the': 15, 'of': 18}\n"
     ]
    }
   ],
   "source": [
    "counter = {\n",
    "    'a': 0,\n",
    "    'the': 0,\n",
    "    'of': 0\n",
    "}\n",
    "for word in words:\n",
    "    word = word.strip(',')\n",
    "    word = word.strip('.')\n",
    "    if word.lower() == 'the':\n",
    "        counter['the'] += 1 # counter['the'] = counter['the'] + 1\n",
    "    if word.lower() == 'a':\n",
    "        counter['a'] += 1 # counter['a'] = counter['a'] + 1\n",
    "    if word.lower() == 'of':\n",
    "        counter['of'] += 1 # counter['of'] = counter['of'] + 1\n",
    "print(counter)"
   ]
  },
  {
   "cell_type": "markdown",
   "metadata": {},
   "source": [
    "### Find unique words from given word list"
   ]
  },
  {
   "cell_type": "code",
   "execution_count": 58,
   "metadata": {
    "collapsed": true
   },
   "outputs": [],
   "source": [
    "unique_words = []"
   ]
  },
  {
   "cell_type": "code",
   "execution_count": 59,
   "metadata": {
    "collapsed": true
   },
   "outputs": [],
   "source": [
    "for word in paragraph.lower().split():\n",
    "    pass"
   ]
  },
  {
   "cell_type": "code",
   "execution_count": 60,
   "metadata": {},
   "outputs": [
    {
     "data": {
      "text/plain": [
       "['Rob', 'Bob', 'Robbin']"
      ]
     },
     "execution_count": 60,
     "metadata": {},
     "output_type": "execute_result"
    }
   ],
   "source": [
    "names"
   ]
  },
  {
   "cell_type": "code",
   "execution_count": 61,
   "metadata": {},
   "outputs": [
    {
     "data": {
      "text/plain": [
       "True"
      ]
     },
     "execution_count": 61,
     "metadata": {},
     "output_type": "execute_result"
    }
   ],
   "source": [
    "'Rob' in names"
   ]
  },
  {
   "cell_type": "code",
   "execution_count": 62,
   "metadata": {},
   "outputs": [
    {
     "data": {
      "text/plain": [
       "False"
      ]
     },
     "execution_count": 62,
     "metadata": {},
     "output_type": "execute_result"
    }
   ],
   "source": [
    "'rob' in names"
   ]
  },
  {
   "cell_type": "code",
   "execution_count": 63,
   "metadata": {},
   "outputs": [
    {
     "name": "stdout",
     "output_type": "stream",
     "text": [
      "True\n"
     ]
    }
   ],
   "source": [
    "for name in names:\n",
    "    if 'Rob' == name:\n",
    "        print(True)"
   ]
  },
  {
   "cell_type": "code",
   "execution_count": 64,
   "metadata": {},
   "outputs": [
    {
     "data": {
      "text/plain": [
       "False"
      ]
     },
     "execution_count": 64,
     "metadata": {},
     "output_type": "execute_result"
    }
   ],
   "source": [
    "'the' in unique_words"
   ]
  },
  {
   "cell_type": "code",
   "execution_count": 65,
   "metadata": {
    "collapsed": true
   },
   "outputs": [],
   "source": [
    "for word in paragraph.lower().split():\n",
    "    if word not in unique_words:\n",
    "        unique_words.append(word)"
   ]
  },
  {
   "cell_type": "code",
   "execution_count": 66,
   "metadata": {},
   "outputs": [
    {
     "data": {
      "text/plain": [
       "['i',\n",
       " 'had',\n",
       " 'seen',\n",
       " 'little',\n",
       " 'of',\n",
       " 'holmes',\n",
       " 'lately.',\n",
       " 'my',\n",
       " 'marriage',\n",
       " 'drifted',\n",
       " 'us',\n",
       " 'away',\n",
       " 'from',\n",
       " 'each',\n",
       " 'other.',\n",
       " 'own',\n",
       " 'complete',\n",
       " 'happiness,',\n",
       " 'and',\n",
       " 'the',\n",
       " 'home-centred',\n",
       " 'interests',\n",
       " 'which',\n",
       " 'rise',\n",
       " 'up',\n",
       " 'around',\n",
       " 'man',\n",
       " 'who',\n",
       " 'first',\n",
       " 'finds',\n",
       " 'himself',\n",
       " 'master',\n",
       " 'his',\n",
       " 'establishment,',\n",
       " 'were',\n",
       " 'sufficient',\n",
       " 'to',\n",
       " 'absorb',\n",
       " 'all',\n",
       " 'attention,',\n",
       " 'while',\n",
       " 'holmes,',\n",
       " 'loathed',\n",
       " 'every',\n",
       " 'form',\n",
       " 'society',\n",
       " 'with',\n",
       " 'whole',\n",
       " 'bohemian',\n",
       " 'soul,',\n",
       " 'remained',\n",
       " 'in',\n",
       " 'our',\n",
       " 'lodgings',\n",
       " 'baker',\n",
       " 'street,',\n",
       " 'buried',\n",
       " 'among',\n",
       " 'old',\n",
       " 'books,',\n",
       " 'alternating',\n",
       " 'week',\n",
       " 'between',\n",
       " 'cocaine',\n",
       " 'ambition,',\n",
       " 'drowsiness',\n",
       " 'drug,',\n",
       " 'fierce',\n",
       " 'energy',\n",
       " 'keen',\n",
       " 'nature.',\n",
       " 'he',\n",
       " 'was',\n",
       " 'still,',\n",
       " 'as',\n",
       " 'ever,',\n",
       " 'deeply',\n",
       " 'attracted',\n",
       " 'by',\n",
       " 'study',\n",
       " 'crime,',\n",
       " 'occupied',\n",
       " 'immense',\n",
       " 'faculties',\n",
       " 'extraordinary',\n",
       " 'powers',\n",
       " 'observation',\n",
       " 'following',\n",
       " 'out',\n",
       " 'those',\n",
       " 'clues,',\n",
       " 'clearing',\n",
       " 'mysteries',\n",
       " 'been',\n",
       " 'abandoned',\n",
       " 'hopeless',\n",
       " 'official',\n",
       " 'police.',\n",
       " 'time',\n",
       " 'heard',\n",
       " 'some',\n",
       " 'vague',\n",
       " 'account',\n",
       " 'doings:',\n",
       " 'summons',\n",
       " 'odessa',\n",
       " 'case',\n",
       " 'trepoff',\n",
       " 'murder,',\n",
       " 'singular',\n",
       " 'tragedy',\n",
       " 'atkinson',\n",
       " 'brothers',\n",
       " 'at',\n",
       " 'trincomalee,',\n",
       " 'finally',\n",
       " 'mission',\n",
       " 'accomplished',\n",
       " 'so',\n",
       " 'delicately',\n",
       " 'successfully',\n",
       " 'for',\n",
       " 'reigning',\n",
       " 'family',\n",
       " 'holland.',\n",
       " 'beyond',\n",
       " 'these',\n",
       " 'signs',\n",
       " 'activity,',\n",
       " 'however,',\n",
       " 'merely',\n",
       " 'shared',\n",
       " 'readers',\n",
       " 'daily',\n",
       " 'press,',\n",
       " 'knew',\n",
       " 'former',\n",
       " 'friend',\n",
       " 'companion.']"
      ]
     },
     "execution_count": 66,
     "metadata": {},
     "output_type": "execute_result"
    }
   ],
   "source": [
    "unique_words"
   ]
  },
  {
   "cell_type": "code",
   "execution_count": 67,
   "metadata": {},
   "outputs": [
    {
     "data": {
      "text/plain": [
       "222"
      ]
     },
     "execution_count": 67,
     "metadata": {},
     "output_type": "execute_result"
    }
   ],
   "source": [
    "len(words)"
   ]
  },
  {
   "cell_type": "code",
   "execution_count": 68,
   "metadata": {},
   "outputs": [
    {
     "data": {
      "text/plain": [
       "139"
      ]
     },
     "execution_count": 68,
     "metadata": {},
     "output_type": "execute_result"
    }
   ],
   "source": [
    "len(unique_words)"
   ]
  },
  {
   "cell_type": "markdown",
   "metadata": {},
   "source": [
    "__Q__: *What does append do?*"
   ]
  },
  {
   "cell_type": "code",
   "execution_count": 69,
   "metadata": {},
   "outputs": [
    {
     "data": {
      "text/plain": [
       "['Rob', 'Bob', 'Robbin']"
      ]
     },
     "execution_count": 69,
     "metadata": {},
     "output_type": "execute_result"
    }
   ],
   "source": [
    "names"
   ]
  },
  {
   "cell_type": "code",
   "execution_count": 70,
   "metadata": {
    "collapsed": true
   },
   "outputs": [],
   "source": [
    "names.append('Harry')"
   ]
  },
  {
   "cell_type": "code",
   "execution_count": 71,
   "metadata": {},
   "outputs": [
    {
     "data": {
      "text/plain": [
       "['Rob', 'Bob', 'Robbin', 'Harry']"
      ]
     },
     "execution_count": 71,
     "metadata": {},
     "output_type": "execute_result"
    }
   ],
   "source": [
    "names"
   ]
  },
  {
   "cell_type": "code",
   "execution_count": 72,
   "metadata": {
    "collapsed": true
   },
   "outputs": [],
   "source": [
    "for word in paragraph.lower().split():\n",
    "    word = word.strip('.')\n",
    "    word = word.strip(',')\n",
    "    if word not in unique_words:\n",
    "        unique_words.append(word)"
   ]
  },
  {
   "cell_type": "code",
   "execution_count": 73,
   "metadata": {},
   "outputs": [
    {
     "data": {
      "text/plain": [
       "162"
      ]
     },
     "execution_count": 73,
     "metadata": {},
     "output_type": "execute_result"
    }
   ],
   "source": [
    "len(unique_words)"
   ]
  },
  {
   "cell_type": "code",
   "execution_count": 74,
   "metadata": {
    "collapsed": true
   },
   "outputs": [],
   "source": [
    "unique_words = []\n",
    "for word in paragraph.lower().split():\n",
    "    word = word.strip('.')\n",
    "    word = word.strip(',')\n",
    "    if word not in unique_words:\n",
    "        unique_words.append(word)"
   ]
  },
  {
   "cell_type": "code",
   "execution_count": 75,
   "metadata": {},
   "outputs": [
    {
     "data": {
      "text/plain": [
       "138"
      ]
     },
     "execution_count": 75,
     "metadata": {},
     "output_type": "execute_result"
    }
   ],
   "source": [
    "len(unique_words)"
   ]
  },
  {
   "cell_type": "code",
   "execution_count": null,
   "metadata": {
    "collapsed": true
   },
   "outputs": [],
   "source": []
  },
  {
   "cell_type": "markdown",
   "metadata": {},
   "source": [
    "## Sets"
   ]
  },
  {
   "cell_type": "code",
   "execution_count": 76,
   "metadata": {
    "collapsed": true
   },
   "outputs": [],
   "source": [
    "unique_words = set(paragraph.lower().split())"
   ]
  },
  {
   "cell_type": "code",
   "execution_count": 77,
   "metadata": {},
   "outputs": [
    {
     "data": {
      "text/plain": [
       "139"
      ]
     },
     "execution_count": 77,
     "metadata": {},
     "output_type": "execute_result"
    }
   ],
   "source": [
    "len(unique_words)"
   ]
  },
  {
   "cell_type": "code",
   "execution_count": 78,
   "metadata": {},
   "outputs": [
    {
     "data": {
      "text/plain": [
       "{12, 13, 14, 15, 17, 19, 20}"
      ]
     },
     "execution_count": 78,
     "metadata": {},
     "output_type": "execute_result"
    }
   ],
   "source": [
    "{12, 15, 12, 17, 19, 15, 20, 14, 13, 12}"
   ]
  },
  {
   "cell_type": "code",
   "execution_count": null,
   "metadata": {
    "collapsed": true
   },
   "outputs": [],
   "source": []
  },
  {
   "cell_type": "code",
   "execution_count": 79,
   "metadata": {
    "collapsed": true
   },
   "outputs": [],
   "source": [
    "counter = {}\n",
    "for word in unique_words:\n",
    "    word = word.strip('.')\n",
    "    word = word.strip(',')\n",
    "    counter[word] = 0"
   ]
  },
  {
   "cell_type": "code",
   "execution_count": 80,
   "metadata": {},
   "outputs": [
    {
     "data": {
      "text/plain": [
       "{'abandoned': 0,\n",
       " 'absorb': 0,\n",
       " 'accomplished': 0,\n",
       " 'account': 0,\n",
       " 'activity': 0,\n",
       " 'all': 0,\n",
       " 'alternating': 0,\n",
       " 'ambition': 0,\n",
       " 'among': 0,\n",
       " 'and': 0,\n",
       " 'around': 0,\n",
       " 'as': 0,\n",
       " 'at': 0,\n",
       " 'atkinson': 0,\n",
       " 'attention': 0,\n",
       " 'attracted': 0,\n",
       " 'away': 0,\n",
       " 'baker': 0,\n",
       " 'been': 0,\n",
       " 'between': 0,\n",
       " 'beyond': 0,\n",
       " 'bohemian': 0,\n",
       " 'books': 0,\n",
       " 'brothers': 0,\n",
       " 'buried': 0,\n",
       " 'by': 0,\n",
       " 'case': 0,\n",
       " 'clearing': 0,\n",
       " 'clues': 0,\n",
       " 'cocaine': 0,\n",
       " 'companion': 0,\n",
       " 'complete': 0,\n",
       " 'crime': 0,\n",
       " 'daily': 0,\n",
       " 'deeply': 0,\n",
       " 'delicately': 0,\n",
       " 'doings:': 0,\n",
       " 'drifted': 0,\n",
       " 'drowsiness': 0,\n",
       " 'drug': 0,\n",
       " 'each': 0,\n",
       " 'energy': 0,\n",
       " 'establishment': 0,\n",
       " 'ever': 0,\n",
       " 'every': 0,\n",
       " 'extraordinary': 0,\n",
       " 'faculties': 0,\n",
       " 'family': 0,\n",
       " 'fierce': 0,\n",
       " 'finally': 0,\n",
       " 'finds': 0,\n",
       " 'first': 0,\n",
       " 'following': 0,\n",
       " 'for': 0,\n",
       " 'form': 0,\n",
       " 'former': 0,\n",
       " 'friend': 0,\n",
       " 'from': 0,\n",
       " 'had': 0,\n",
       " 'happiness': 0,\n",
       " 'he': 0,\n",
       " 'heard': 0,\n",
       " 'himself': 0,\n",
       " 'his': 0,\n",
       " 'holland': 0,\n",
       " 'holmes': 0,\n",
       " 'home-centred': 0,\n",
       " 'hopeless': 0,\n",
       " 'however': 0,\n",
       " 'i': 0,\n",
       " 'immense': 0,\n",
       " 'in': 0,\n",
       " 'interests': 0,\n",
       " 'keen': 0,\n",
       " 'knew': 0,\n",
       " 'lately': 0,\n",
       " 'little': 0,\n",
       " 'loathed': 0,\n",
       " 'lodgings': 0,\n",
       " 'man': 0,\n",
       " 'marriage': 0,\n",
       " 'master': 0,\n",
       " 'merely': 0,\n",
       " 'mission': 0,\n",
       " 'murder': 0,\n",
       " 'my': 0,\n",
       " 'mysteries': 0,\n",
       " 'nature': 0,\n",
       " 'observation': 0,\n",
       " 'occupied': 0,\n",
       " 'odessa': 0,\n",
       " 'of': 0,\n",
       " 'official': 0,\n",
       " 'old': 0,\n",
       " 'other': 0,\n",
       " 'our': 0,\n",
       " 'out': 0,\n",
       " 'own': 0,\n",
       " 'police': 0,\n",
       " 'powers': 0,\n",
       " 'press': 0,\n",
       " 'readers': 0,\n",
       " 'reigning': 0,\n",
       " 'remained': 0,\n",
       " 'rise': 0,\n",
       " 'seen': 0,\n",
       " 'shared': 0,\n",
       " 'signs': 0,\n",
       " 'singular': 0,\n",
       " 'so': 0,\n",
       " 'society': 0,\n",
       " 'some': 0,\n",
       " 'soul': 0,\n",
       " 'still': 0,\n",
       " 'street': 0,\n",
       " 'study': 0,\n",
       " 'successfully': 0,\n",
       " 'sufficient': 0,\n",
       " 'summons': 0,\n",
       " 'the': 0,\n",
       " 'these': 0,\n",
       " 'those': 0,\n",
       " 'time': 0,\n",
       " 'to': 0,\n",
       " 'tragedy': 0,\n",
       " 'trepoff': 0,\n",
       " 'trincomalee': 0,\n",
       " 'up': 0,\n",
       " 'us': 0,\n",
       " 'vague': 0,\n",
       " 'was': 0,\n",
       " 'week': 0,\n",
       " 'were': 0,\n",
       " 'which': 0,\n",
       " 'while': 0,\n",
       " 'who': 0,\n",
       " 'whole': 0,\n",
       " 'with': 0}"
      ]
     },
     "execution_count": 80,
     "metadata": {},
     "output_type": "execute_result"
    }
   ],
   "source": [
    "counter"
   ]
  },
  {
   "cell_type": "code",
   "execution_count": 84,
   "metadata": {},
   "outputs": [
    {
     "name": "stdout",
     "output_type": "stream",
     "text": [
      "{'away': 1, 'himself': 1, 'sufficient': 1, 'from': 3, 'while': 1, 'out': 1, 'abandoned': 1, 'seen': 1, 'former': 1, 'friend': 1, 'murder': 1, 'hopeless': 1, 'complete': 1, 'loathed': 1, 'doings:': 1, 'finds': 1, 'our': 1, 'deeply': 1, 'delicately': 1, 'case': 1, 'activity': 1, 'around': 1, 'holmes': 2, 'singular': 1, 'remained': 1, 'us': 1, 'keen': 1, 'as': 2, 'following': 1, 'other': 1, 'beyond': 1, 'own': 3, 'old': 1, 'little': 2, 'every': 1, 'account': 1, 'mission': 1, 'at': 1, 'successfully': 1, 'alternating': 1, 'he': 2, 'readers': 1, 'among': 1, 'summons': 1, 'signs': 1, 'crime': 1, 'were': 1, 'companion': 1, 'finally': 1, 'home-centred': 1, 'shared': 1, 'accomplished': 1, 'press': 1, 'up': 3, 'had': 4, 'interests': 1, 'ever': 1, 'however': 1, 'those': 2, 'with': 2, 'drowsiness': 1, 'immense': 1, 'police': 1, 'trepoff': 1, 'trincomalee': 1, 'books': 1, 'odessa': 1, 'time': 2, 'week': 2, 'atkinson': 1, 'fierce': 1, 'my': 4, 'powers': 1, 'master': 1, 'occupied': 1, 'tragedy': 1, 'buried': 1, 'baker': 1, 'merely': 1, 'form': 1, 'clues': 1, 'whole': 1, 'attracted': 1, 'marriage': 1, 'cocaine': 1, 'these': 1, 'lodgings': 1, 'street': 1, 'reigning': 1, 'drifted': 1, 'mysteries': 1, 'to': 4, 'observation': 1, 'daily': 1, 'nature': 1, 'family': 1, 'lately': 1, 'faculties': 1, 'clearing': 2, 'society': 1, 'was': 1, 'extraordinary': 1, 'attention': 1, 'drug': 1, 'ambition': 1, 'in': 4, 'between': 1, 'and': 10, 'establishment': 1, 'energy': 1, 'i': 4, 'still': 1, 'each': 1, 'holland': 1, 'so': 1, 'official': 1, 'the': 15, 'been': 1, 'brothers': 1, 'knew': 1, 'man': 1, 'bohemian': 1, 'soul': 1, 'of': 18, 'rise': 1, 'absorb': 1, 'heard': 1, 'for': 1, 'his': 9, 'happiness': 1, 'first': 1, 'which': 4, 'some': 1, 'who': 2, 'vague': 1, 'study': 1, 'all': 2, 'by': 2}\n"
     ]
    }
   ],
   "source": [
    "for word in words:\n",
    "    word= word.lower()\n",
    "    word = word.strip(',')\n",
    "    word = word.strip('.')\n",
    "    counter[word] += 1\n",
    "print(counter)"
   ]
  },
  {
   "cell_type": "code",
   "execution_count": 86,
   "metadata": {},
   "outputs": [
    {
     "name": "stdout",
     "output_type": "stream",
     "text": [
      "There are 1, away in paragraph\n",
      "There are 1, himself in paragraph\n",
      "There are 1, sufficient in paragraph\n",
      "There are 3, from in paragraph\n",
      "There are 1, while in paragraph\n",
      "There are 1, out in paragraph\n",
      "There are 1, abandoned in paragraph\n",
      "There are 1, seen in paragraph\n",
      "There are 1, former in paragraph\n",
      "There are 1, friend in paragraph\n",
      "There are 1, murder in paragraph\n",
      "There are 1, hopeless in paragraph\n",
      "There are 1, complete in paragraph\n",
      "There are 1, loathed in paragraph\n",
      "There are 1, doings: in paragraph\n",
      "There are 1, finds in paragraph\n",
      "There are 1, our in paragraph\n",
      "There are 1, deeply in paragraph\n",
      "There are 1, delicately in paragraph\n",
      "There are 1, case in paragraph\n",
      "There are 1, activity in paragraph\n",
      "There are 1, around in paragraph\n",
      "There are 2, holmes in paragraph\n",
      "There are 1, singular in paragraph\n",
      "There are 1, remained in paragraph\n",
      "There are 1, us in paragraph\n",
      "There are 1, keen in paragraph\n",
      "There are 2, as in paragraph\n",
      "There are 1, following in paragraph\n",
      "There are 1, other in paragraph\n",
      "There are 1, beyond in paragraph\n",
      "There are 3, own in paragraph\n",
      "There are 1, old in paragraph\n",
      "There are 2, little in paragraph\n",
      "There are 1, every in paragraph\n",
      "There are 1, account in paragraph\n",
      "There are 1, mission in paragraph\n",
      "There are 1, at in paragraph\n",
      "There are 1, successfully in paragraph\n",
      "There are 1, alternating in paragraph\n",
      "There are 2, he in paragraph\n",
      "There are 1, readers in paragraph\n",
      "There are 1, among in paragraph\n",
      "There are 1, summons in paragraph\n",
      "There are 1, signs in paragraph\n",
      "There are 1, crime in paragraph\n",
      "There are 1, were in paragraph\n",
      "There are 1, companion in paragraph\n",
      "There are 1, finally in paragraph\n",
      "There are 1, home-centred in paragraph\n",
      "There are 1, shared in paragraph\n",
      "There are 1, accomplished in paragraph\n",
      "There are 1, press in paragraph\n",
      "There are 3, up in paragraph\n",
      "There are 4, had in paragraph\n",
      "There are 1, interests in paragraph\n",
      "There are 1, ever in paragraph\n",
      "There are 1, however in paragraph\n",
      "There are 2, those in paragraph\n",
      "There are 2, with in paragraph\n",
      "There are 1, drowsiness in paragraph\n",
      "There are 1, immense in paragraph\n",
      "There are 1, police in paragraph\n",
      "There are 1, trepoff in paragraph\n",
      "There are 1, trincomalee in paragraph\n",
      "There are 1, books in paragraph\n",
      "There are 1, odessa in paragraph\n",
      "There are 2, time in paragraph\n",
      "There are 2, week in paragraph\n",
      "There are 1, atkinson in paragraph\n",
      "There are 1, fierce in paragraph\n",
      "There are 4, my in paragraph\n",
      "There are 1, powers in paragraph\n",
      "There are 1, master in paragraph\n",
      "There are 1, occupied in paragraph\n",
      "There are 1, tragedy in paragraph\n",
      "There are 1, buried in paragraph\n",
      "There are 1, baker in paragraph\n",
      "There are 1, merely in paragraph\n",
      "There are 1, form in paragraph\n",
      "There are 1, clues in paragraph\n",
      "There are 1, whole in paragraph\n",
      "There are 1, attracted in paragraph\n",
      "There are 1, marriage in paragraph\n",
      "There are 1, cocaine in paragraph\n",
      "There are 1, these in paragraph\n",
      "There are 1, lodgings in paragraph\n",
      "There are 1, street in paragraph\n",
      "There are 1, reigning in paragraph\n",
      "There are 1, drifted in paragraph\n",
      "There are 1, mysteries in paragraph\n",
      "There are 4, to in paragraph\n",
      "There are 1, observation in paragraph\n",
      "There are 1, daily in paragraph\n",
      "There are 1, nature in paragraph\n",
      "There are 1, family in paragraph\n",
      "There are 1, lately in paragraph\n",
      "There are 1, faculties in paragraph\n",
      "There are 2, clearing in paragraph\n",
      "There are 1, society in paragraph\n",
      "There are 1, was in paragraph\n",
      "There are 1, extraordinary in paragraph\n",
      "There are 1, attention in paragraph\n",
      "There are 1, drug in paragraph\n",
      "There are 1, ambition in paragraph\n",
      "There are 4, in in paragraph\n",
      "There are 1, between in paragraph\n",
      "There are 10, and in paragraph\n",
      "There are 1, establishment in paragraph\n",
      "There are 1, energy in paragraph\n",
      "There are 4, i in paragraph\n",
      "There are 1, still in paragraph\n",
      "There are 1, each in paragraph\n",
      "There are 1, holland in paragraph\n",
      "There are 1, so in paragraph\n",
      "There are 1, official in paragraph\n",
      "There are 15, the in paragraph\n",
      "There are 1, been in paragraph\n",
      "There are 1, brothers in paragraph\n",
      "There are 1, knew in paragraph\n",
      "There are 1, man in paragraph\n",
      "There are 1, bohemian in paragraph\n",
      "There are 1, soul in paragraph\n",
      "There are 18, of in paragraph\n",
      "There are 1, rise in paragraph\n",
      "There are 1, absorb in paragraph\n",
      "There are 1, heard in paragraph\n",
      "There are 1, for in paragraph\n",
      "There are 9, his in paragraph\n",
      "There are 1, happiness in paragraph\n",
      "There are 1, first in paragraph\n",
      "There are 4, which in paragraph\n",
      "There are 1, some in paragraph\n",
      "There are 2, who in paragraph\n",
      "There are 1, vague in paragraph\n",
      "There are 1, study in paragraph\n",
      "There are 2, all in paragraph\n",
      "There are 2, by in paragraph\n"
     ]
    }
   ],
   "source": [
    "for item in counter:\n",
    "    fmt = \"There are {}, {} in paragraph\"\n",
    "    print(fmt.format(counter[item], item))"
   ]
  },
  {
   "cell_type": "code",
   "execution_count": null,
   "metadata": {
    "collapsed": true
   },
   "outputs": [],
   "source": []
  },
  {
   "cell_type": "markdown",
   "metadata": {
    "collapsed": true
   },
   "source": [
    "*definition*\n",
    "\n",
    "1. we create a empty __list__ denoted by __[]__, ie there is no data originally.\n",
    "2. we split paragraph by '__.__', the dot ( fullstop character ) and we get list of sentences.\n",
    "3. we check if sentence is true.\n",
    "    - a string is true when it is not empty\n",
    "    - a empty string is denoted by __''__\n",
    "        - check the last item in the second cell.\n",
    "4. we append the __sentence__ to __sentences__ list only when the string is true ( ie string is not empty )\n",
    "    - anything inside __if__ only runs when __if__ condition is true.\n",
    "        - anything inside anything is defined by __:__ a colon and indent ( 4 spaces inside )\n",
    "        - such type of colon and indent is called as _block_, so here \n",
    "            - append is inside __if-block__, __if-block__ is again inside __for-block__"
   ]
  },
  {
   "cell_type": "code",
   "execution_count": null,
   "metadata": {
    "collapsed": true
   },
   "outputs": [],
   "source": []
  }
 ],
 "metadata": {
  "kernelspec": {
   "display_name": "Python 3",
   "language": "python",
   "name": "python3"
  },
  "language_info": {
   "codemirror_mode": {
    "name": "ipython",
    "version": 3
   },
   "file_extension": ".py",
   "mimetype": "text/x-python",
   "name": "python",
   "nbconvert_exporter": "python",
   "pygments_lexer": "ipython3",
   "version": "3.6.2"
  }
 },
 "nbformat": 4,
 "nbformat_minor": 2
}
