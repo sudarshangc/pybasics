{
 "cells": [
  {
   "cell_type": "markdown",
   "metadata": {},
   "source": [
    "## Problem \n",
    "---\n",
    "\n",
    "### Use advance python constructs to solve problem like\n",
    "\n",
    "- Iterators\n",
    "- Generators\n",
    "- List Comprehension\n",
    "- Decorators\n",
    "- Context Managers"
   ]
  },
  {
   "cell_type": "markdown",
   "metadata": {},
   "source": [
    "### Task\n",
    "---\n",
    "\n",
    "Probably you've already solved the task of selecting minimum/maximum from array - this algorithm is based upon it.\n",
    "\n",
    "Suppose we have an array of **N** values and want to sort them, just like in Bubble Sort:\n",
    "\n",
    "    [3, 1, 4, 1, 5, 9, 2, 6, 5, 3]\n",
    "\n",
    "Let us work in the following manner:\n",
    "\n",
    "   - over the whole array find the **position** of the maximum element (**5** in the case above - **0**-based index of value **9**);\n",
    "   - swap this element with the last one (because in the sorted array it should be the last, of course) - i.e. with position **N-1**;\n",
    "   - now regard the sub-array of length **N-1**, without the last value (which is already \"in right place\");\n",
    "   - find the position of maximum element in this sub-array (i.e. second to maximum in the whole array) - now it would be index **7** (where the value **6** resides);\n",
    "   - swap it with the last element in the sub-array (i.e. with position **N-2**);\n",
    "   - now regard the sub-array of the length **N-2** (without two last elements) - do the following selection and swap and so on;\n",
    "   - algorithm ends when \"sub-array\" decreases to the length of **1**.\n",
    "\n",
    "Let us see an example step by step:\n",
    "\n",
    "    [3, 1, 4, 1, 5, 9, 2, 6, 5, 3]      - max is 9 at position 5, swap 5-th with 9-th\n",
    "    [3, 1, 4, 1, 5, 3, 2, 6, 5], 9      - max is 6 at position 7, swap 7-th with 8-th\n",
    "    [3, 1, 4, 1, 5, 3, 2, 5], 6, 9      - max is 5 at position 4, swap 4-th with 7-th - they are equal!\n",
    "    [3, 1, 4, 1, 5, 3, 2], 5, 6, 9      - max is 5 at position 4, swap 4-th with 6-th\n",
    "    [3, 1, 4, 1, 2, 3], 5, 5, 6, 9      - max is 4 at position 2, swap 2-th with 5-th\n",
    "    [3, 1, 3, 1, 2], 4, 5, 5, 6, 9\n",
    "    ...\n",
    "    [1], 1, 2, 3, 3, 4, 5, 5, 6, 9      - subarray of length 1 is reached, stop an algorithm.\n",
    "\n",
    "#### Analysis\n",
    "\n",
    "This algorithm needs to make about **N** passes through array and on each pass it performs about **N/2** operations at average, so it has **O(N^2)** \"time complexity\", the same as for Bubble Sort. However, unlike bubble sort it does not perform about **N/2** swaps on each pass - only a single swap is needed. This makes it work significantly faster, though for large datasets more cunning algorithms are required.\n",
    "\n",
    "One may select minimums instead of maximums and swap them with beginning of the array instead. Also, depending on whether we select leftmost or rightmost maximum (or minimum) the sort could be either stable or unstable - meaning that it either preserve or not the order of equal elements (which could be important when we sort objects, not numbers.\n",
    "\n",
    "You may read more in the topic on [sorting algorithms comparison](http://www.codeabbey.com/index/wiki/sorting-algorithms-comparison)\n",
    "\n",
    "#### Problem Statement\n",
    "\n",
    "You are to implement the algorithm described above and print out the index of selected maximum at each pass.\n",
    "\n",
    "**Input data** will contain **N** - the size of array - in the first line.\n",
    "\n",
    "Next line will contain the array itself (all elements will be different).\n",
    "\n",
    "**Answer** should contain indices of the maximums at each pass (**N-1** values).\n",
    "\n",
    "Example\n",
    "\n",
    "    input data:\n",
    "    6\n",
    "    31 41 59 26 53 58\n",
    "\n",
    "    answer:\n",
    "    2 2 2 1 0\n",
    "\n",
    "\n",
    "*Note: You can submit answer on [codeabbey](http://www.codeabbey.com/index/task_view/selection-sort)*"
   ]
  }
 ],
 "metadata": {
  "kernelspec": {
   "display_name": "Python 3",
   "language": "python",
   "name": "python3"
  },
  "language_info": {
   "codemirror_mode": {
    "name": "ipython",
    "version": 3
   },
   "file_extension": ".py",
   "mimetype": "text/x-python",
   "name": "python",
   "nbconvert_exporter": "python",
   "pygments_lexer": "ipython3",
   "version": "3.5.1"
  }
 },
 "nbformat": 4,
 "nbformat_minor": 0
}
