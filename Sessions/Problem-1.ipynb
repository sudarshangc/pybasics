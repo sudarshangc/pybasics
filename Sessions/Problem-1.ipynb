{
 "cells": [
  {
   "cell_type": "markdown",
   "metadata": {},
   "source": [
    "## Problem 1\n",
    "---\n",
    "\n",
    "#### The solution should try to use all the python constructs\n",
    "\n",
    "- Conditionals and Loops\n",
    "- Functions\n",
    "- Classes\n",
    "\n",
    "#### and datastructures as possible\n",
    "\n",
    "- List\n",
    "- Tuple\n",
    "- Dictionary\n",
    "- Set"
   ]
  },
  {
   "cell_type": "markdown",
   "metadata": {},
   "source": [
    "### Problem\n",
    "---\n",
    "\n",
    "Moist has a hobby -- collecting figure skating trading cards. His card collection has been growing, and it is now too large to keep in one disorganized pile. Moist needs to sort the cards in alphabetical order, so that he can find the cards that he wants on short notice whenever it is necessary.\n",
    "\n",
    "The problem is -- Moist can't actually pick up the cards because they keep sliding out his hands, and the sweat causes permanent damage. Some of the cards are rather expensive, mind you. To facilitate the sorting, Moist has convinced Dr. Horrible to build him a sorting robot. However, in his rather horrible style, Dr. Horrible has decided to make the sorting robot charge Moist a fee of $1 whenever it has to move a trading card during the sorting process.\n",
    "\n",
    "Moist has figured out that the robot's sorting mechanism is very primitive. It scans the deck of cards from top to bottom. Whenever it finds a card that is lexicographically smaller than the previous card, it moves that card to its correct place in the stack above. This operation costs $1, and the robot resumes scanning down towards the bottom of the deck, moving cards one by one until the entire deck is sorted in lexicographical order from top to bottom.\n",
    "\n",
    "As wet luck would have it, Moist is almost broke, but keeping his trading cards in order is the only remaining joy in his miserable life. He needs to know how much it would cost him to use the robot to sort his deck of cards.\n",
    "Input\n",
    "\n",
    "The first line of the input gives the number of test cases, **T**. **T** test cases follow. Each one starts with a line containing a single integer, **N**. The next **N** lines each contain the name of a figure skater, in order from the top of the deck to the bottom.\n",
    "Output\n",
    "\n",
    "For each test case, output one line containing \"Case #x: y\", where x is the case number (starting from 1) and y is the number of dollars it would cost Moist to use the robot to sort his deck of trading cards.\n",
    "Limits\n",
    "\n",
    "1 ≤ **T** ≤ 100.\n",
    "Each name will consist of only letters and the space character.\n",
    "Each name will contain at most 100 characters.\n",
    "No name with start or end with a space.\n",
    "No name will appear more than once in the same test case.\n",
    "Lexicographically, the space character comes first, then come the upper case letters, then the lower case letters.\n",
    "\n",
    "Small dataset\n",
    "\n",
    "1 ≤ N ≤ 10.\n",
    "\n",
    "Large dataset\n",
    "\n",
    "1 ≤ N ≤ 100.\n",
    "\n",
    "Sample\n",
    "\n",
    "\n",
    "| Input               | Output      |\n",
    "|---------------------|-------------|\n",
    "| 2                   | Case \\#1: 1 |  \n",
    "| 2                   | Case \\#2: 0 |\n",
    "| Oksana Baiul        |             |\n",
    "| Michelle Kwan       |             |\n",
    "| 3                   |             |\n",
    "| Elvis Stojko        |             |\n",
    "| Evgeni Plushenko    |             |\n",
    "| Kristi Yamaguchi    |             |\n",
    "\n",
    "\n",
    "\n",
    "*Note: Solution is not important but procedure taken to solve the problem is important*\n",
    "\t\n",
    "\n"
   ]
  }
 ],
 "metadata": {
  "kernelspec": {
   "display_name": "Python 3",
   "language": "python",
   "name": "python3"
  },
  "language_info": {
   "codemirror_mode": {
    "name": "ipython",
    "version": 3
   },
   "file_extension": ".py",
   "mimetype": "text/x-python",
   "name": "python",
   "nbconvert_exporter": "python",
   "pygments_lexer": "ipython3",
   "version": "3.6.1"
  }
 },
 "nbformat": 4,
 "nbformat_minor": 1
}
