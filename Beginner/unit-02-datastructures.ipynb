{
 "cells": [
  {
   "cell_type": "markdown",
   "metadata": {},
   "source": [
    "# Session 2\n",
    "---\n"
   ]
  },
  {
   "cell_type": "markdown",
   "metadata": {},
   "source": [
    "*When we need to use or store multiple data, we use datastructures. Datastructures are container for data.*"
   ]
  },
  {
   "cell_type": "markdown",
   "metadata": {},
   "source": [
    "### Create a list of second word of each sentence from paragraph."
   ]
  },
  {
   "cell_type": "code",
   "execution_count": 1,
   "metadata": {
    "collapsed": true
   },
   "outputs": [],
   "source": [
    "paragraph = \"\"\"The most basic data structure in Python is the sequence. \n",
    "Each element of a sequence is assigned a number - its position or index. \n",
    "The first index is zero, the second index is one, and so forth.\"\"\""
   ]
  },
  {
   "cell_type": "code",
   "execution_count": 2,
   "metadata": {},
   "outputs": [
    {
     "data": {
      "text/plain": [
       "['The most basic data structure in Python is the sequence',\n",
       " ' \\nEach element of a sequence is assigned a number - its position or index',\n",
       " ' \\nThe first index is zero, the second index is one, and so forth',\n",
       " '']"
      ]
     },
     "execution_count": 2,
     "metadata": {},
     "output_type": "execute_result"
    }
   ],
   "source": [
    "paragraph.split('.')"
   ]
  },
  {
   "cell_type": "markdown",
   "metadata": {},
   "source": [
    "*__split()__ function splits string using whatever puntuation we pass into like __dot(.)__.*\n",
    "\n",
    "*The default is to split any text by __space__*\n",
    "\n",
    "*The output is in __list__ ( a datastructure in python ) denoted by __[__ and __]__.*"
   ]
  },
  {
   "cell_type": "code",
   "execution_count": 3,
   "metadata": {},
   "outputs": [
    {
     "data": {
      "text/plain": [
       "['The most basic data structure in Python is the sequence',\n",
       " ' \\nEach element of a sequence is assigned a number - its position or index',\n",
       " ' \\nThe first index is zero, the second index is one, and so forth']"
      ]
     },
     "execution_count": 3,
     "metadata": {},
     "output_type": "execute_result"
    }
   ],
   "source": [
    "sentences = []\n",
    "for sentence in paragraph.split('.'):\n",
    "    if sentence:\n",
    "        sentences.append(sentence)\n",
    "sentences"
   ]
  },
  {
   "cell_type": "markdown",
   "metadata": {},
   "source": [
    "*definition*\n",
    "\n",
    "1. we create a empty __list__ denoted by __[]__, ie there is no data originally.\n",
    "2. we split paragraph by '__.__', the dot ( fullstop character ) and we get list of sentences.\n",
    "3. we check if sentence is true.\n",
    "    - a string is true when it is not empty\n",
    "    - a empty string is denoted by __''__\n",
    "        - check the last item in the second cell.\n",
    "4. we append the __sentence__ to __sentences__ list only when the string is true ( ie string is not empty )\n",
    "    - anything inside __if__ only runs when __if__ condition is true.\n",
    "        - anything inside anything is defined by __:__ a colon and indent ( 4 spaces inside )\n",
    "        - such type of colon and indent is called as _block_, so here \n",
    "            - append is inside __if-block__, __if-block__ is again inside __for-block__"
   ]
  },
  {
   "cell_type": "markdown",
   "metadata": {},
   "source": [
    "### List"
   ]
  },
  {
   "cell_type": "code",
   "execution_count": 4,
   "metadata": {
    "collapsed": true
   },
   "outputs": [],
   "source": [
    "test_list = []"
   ]
  },
  {
   "cell_type": "code",
   "execution_count": 5,
   "metadata": {
    "collapsed": true
   },
   "outputs": [],
   "source": [
    "test_list.append(2)"
   ]
  },
  {
   "cell_type": "markdown",
   "metadata": {},
   "source": [
    "*we append 2 to empty list, so list contains 2*"
   ]
  },
  {
   "cell_type": "code",
   "execution_count": 6,
   "metadata": {},
   "outputs": [
    {
     "name": "stdout",
     "output_type": "stream",
     "text": [
      "[2]\n"
     ]
    }
   ],
   "source": [
    "print(test_list)"
   ]
  },
  {
   "cell_type": "code",
   "execution_count": 7,
   "metadata": {
    "collapsed": true
   },
   "outputs": [],
   "source": [
    "test_list.append(5)"
   ]
  },
  {
   "cell_type": "markdown",
   "metadata": {},
   "source": [
    "*we append 5 to same list, so list contains 2 and 5*"
   ]
  },
  {
   "cell_type": "code",
   "execution_count": 8,
   "metadata": {},
   "outputs": [
    {
     "name": "stdout",
     "output_type": "stream",
     "text": [
      "[2, 5]\n"
     ]
    }
   ],
   "source": [
    "print(test_list)"
   ]
  },
  {
   "cell_type": "markdown",
   "metadata": {},
   "source": [
    "*Notice here that, whenever we append some new item to list, list grows bigger and every new item is put at the last of the list.*"
   ]
  },
  {
   "cell_type": "markdown",
   "metadata": {},
   "source": [
    "Let's complete our task"
   ]
  },
  {
   "cell_type": "code",
   "execution_count": 9,
   "metadata": {},
   "outputs": [
    {
     "data": {
      "text/plain": [
       "['most', 'element', 'first']"
      ]
     },
     "execution_count": 9,
     "metadata": {},
     "output_type": "execute_result"
    }
   ],
   "source": [
    "words = []\n",
    "for sentence in paragraph.split('.'):\n",
    "    if sentence:\n",
    "        sentence_words = sentence.split()\n",
    "        words.append(sentence_words[1])\n",
    "words"
   ]
  },
  {
   "cell_type": "markdown",
   "metadata": {},
   "source": [
    "*what we did on line 4, is splitted sentence by space to get list of words.*\n",
    "\n",
    "*In line 5, we picked second item ( index 1) from list of words and appended that item to our main list __words__*\n",
    "\n",
    "*Remember every indexing in python works similar to index in strings.*"
   ]
  },
  {
   "cell_type": "code",
   "execution_count": null,
   "metadata": {
    "collapsed": true
   },
   "outputs": [],
   "source": []
  },
  {
   "cell_type": "markdown",
   "metadata": {},
   "source": [
    "### Count words in given paragraph"
   ]
  },
  {
   "cell_type": "code",
   "execution_count": 10,
   "metadata": {},
   "outputs": [
    {
     "data": {
      "text/plain": [
       "'The most basic data structure in Python is the sequence. \\nEach element of a sequence is assigned a number - its position or index. \\nThe first index is zero, the second index is one, and so forth.'"
      ]
     },
     "execution_count": 10,
     "metadata": {},
     "output_type": "execute_result"
    }
   ],
   "source": [
    "paragraph"
   ]
  },
  {
   "cell_type": "code",
   "execution_count": 13,
   "metadata": {},
   "outputs": [
    {
     "name": "stdout",
     "output_type": "stream",
     "text": [
      "The word 'so' has count of: 1\n",
      "The word 'of' has count of: 1\n",
      "The word 'most' has count of: 1\n",
      "The word 'structure' has count of: 1\n",
      "The word '-' has count of: 1\n",
      "The word 'zero' has count of: 1\n",
      "The word 'first' has count of: 1\n",
      "The word 'or' has count of: 1\n",
      "The word 'number' has count of: 1\n",
      "The word 'element' has count of: 1\n",
      "The word 'sequence' has count of: 2\n",
      "The word 'is' has count of: 4\n",
      "The word 'assigned' has count of: 1\n",
      "The word 'each' has count of: 1\n",
      "The word 'the' has count of: 4\n",
      "The word 'python' has count of: 1\n",
      "The word 'a' has count of: 2\n",
      "The word 'index' has count of: 3\n",
      "The word 'position' has count of: 1\n",
      "The word 'one' has count of: 1\n",
      "The word 'basic' has count of: 1\n",
      "The word 'its' has count of: 1\n",
      "The word 'second' has count of: 1\n",
      "The word 'forth' has count of: 1\n",
      "The word 'data' has count of: 1\n",
      "The word 'and' has count of: 1\n",
      "The word 'in' has count of: 1\n"
     ]
    }
   ],
   "source": [
    "# we define a datastructure where our word count resides\n",
    "# in this case we define a empty dictionary denoted by {}\n",
    "word_count = {}\n",
    "\n",
    "# split the paragraph into words\n",
    "words = paragraph.split()\n",
    "\n",
    "# loop through each of the words\n",
    "for word in words:\n",
    "    # clean the word ie remove dots and comma\n",
    "    word = word.strip('.') if word.endswith('.') else word.strip(',')\n",
    "    \n",
    "    # lowercase everything so that, The and the are treated as same.\n",
    "    word = word.lower()\n",
    "    \n",
    "    # check if we have word already in our dictionary\n",
    "    if word in word_count:\n",
    "        # if so we increment its counter by one\n",
    "        word_count[word] += 1\n",
    "    else:\n",
    "        # if word is not present in our dictionary\n",
    "        # because we have not encountered this word before\n",
    "        # we give its counter, value of 1 because this is first word\n",
    "        word_count[word] = 1\n",
    "\n",
    "# now we print count of each word\n",
    "for word in word_count:\n",
    "    print(\"The word '{}' has count of: {}\".format(word, word_count[word]))"
   ]
  },
  {
   "cell_type": "markdown",
   "metadata": {},
   "source": [
    "### Dictionary"
   ]
  },
  {
   "cell_type": "code",
   "execution_count": null,
   "metadata": {
    "collapsed": true
   },
   "outputs": [],
   "source": []
  },
  {
   "cell_type": "markdown",
   "metadata": {},
   "source": [
    "What's with weird if else\n",
    "\n",
    "```python\n",
    "\n",
    "word = word.strip('.') if word.endswith('.') else word.strip(',')\n",
    "\n",
    "```\n",
    "\n",
    "is same as\n",
    "\n",
    "```python\n",
    "\n",
    "if word.endswith('.'):\n",
    "    word = word.strip('.')\n",
    "else:\n",
    "    word = word.strip(',')\n",
    "```\n"
   ]
  },
  {
   "cell_type": "markdown",
   "metadata": {},
   "source": [
    "### find if given word is in our story"
   ]
  },
  {
   "cell_type": "code",
   "execution_count": 15,
   "metadata": {
    "collapsed": true
   },
   "outputs": [],
   "source": [
    "the_bird_on_its_journey = \"\"\"\n",
    "It was about four in the afternoon when a young girl came into the salon\n",
    "of the little hotel at C---- in Switzerland, and drew her chair up to\n",
    "the fire.\n",
    "\n",
    "“You are soaked through,” said an elderly lady, who was herself trying\n",
    "to get roasted. “You ought to lose no time in changing your clothes.”\n",
    "\n",
    "“I have not anything to change,” said the young girl, laughing. “Oh, I\n",
    "shall soon be dry!”\n",
    "\n",
    "“Have you lost all your luggage?” asked the lady, sympathetically.\n",
    "\n",
    "“No,” said the young girl; “I had none to lose.” And she smiled a little\n",
    "mischievously, as though she knew by instinct that her companion’s\n",
    "sympathy would at once degenerate into suspicion!\n",
    "\n",
    "“I don’t mean to say that I have not a knapsack,” she added,\n",
    "considerately. “I have walked a long distance--in fact, from Z----.”\n",
    "\n",
    "“And where did you leave your companions?” asked the lady, with a touch\n",
    "of forgiveness in her voice.\n",
    "\n",
    "“I am without companions, just as I am without luggage,” laughed the\n",
    "girl.\n",
    "\n",
    "And then she opened the piano, and struck a few notes. There was\n",
    "something caressing in the way in which she touched the keys; whoever\n",
    "she was, she knew how to make sweet music; sad music, too, full of that\n",
    "undefinable longing, like the holding out of one’s arms to one’s friends\n",
    "in the hopeless distance.\n",
    "\n",
    "The lady bending over the fire looked up at the little girl, and forgot\n",
    "that she had brought neither friends nor luggage with her. She hesitated\n",
    "for one moment, and then she took the childish face between her hands\n",
    "and kissed it.\n",
    "\n",
    "\"\"\""
   ]
  },
  {
   "cell_type": "code",
   "execution_count": null,
   "metadata": {
    "collapsed": true
   },
   "outputs": [],
   "source": []
  },
  {
   "cell_type": "code",
   "execution_count": null,
   "metadata": {
    "collapsed": true
   },
   "outputs": [],
   "source": []
  }
 ],
 "metadata": {
  "anaconda-cloud": {},
  "kernelspec": {
   "display_name": "Python 3",
   "language": "python",
   "name": "python3"
  },
  "language_info": {
   "codemirror_mode": {
    "name": "ipython",
    "version": 3
   },
   "file_extension": ".py",
   "mimetype": "text/x-python",
   "name": "python",
   "nbconvert_exporter": "python",
   "pygments_lexer": "ipython3",
   "version": "3.6.1"
  }
 },
 "nbformat": 4,
 "nbformat_minor": 1
}
