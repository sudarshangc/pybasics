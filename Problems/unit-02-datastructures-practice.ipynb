{
 "cells": [
  {
   "cell_type": "markdown",
   "metadata": {},
   "source": [
    "# Session 2 - Practice\n",
    "---"
   ]
  },
  {
   "cell_type": "markdown",
   "metadata": {},
   "source": [
    "**Question**\n",
    "\n",
    "You have fictional home library with books and magazines.\n",
    "\n",
    "- Create a datastructure to organise you library, It should contain\n",
    "    - name\n",
    "    - category [ e.g. Computer Science, Art, Fiction etc ]\n",
    "    - type [ e.g, Book, Magazine etc ]\n",
    "    - tags \n",
    "\n",
    "*Hint: Use datastructures like, list, tuple, set and dictionary*\n",
    "\n",
    "*Hint: nested datastructures can be used*\n",
    "\n",
    "```python\n",
    "\n",
    "# nested example, something like this\n",
    "my_songs = [{\n",
    "    'artist': 'Adele',\n",
    "    'songs': [\n",
    "        {'title': 'Hello', 'genre': ''},\n",
    "        {}\n",
    "    ]\n",
    "},\n",
    "{\n",
    "    'artist': '',\n",
    "    'songs': [\n",
    "        {}, {}\n",
    "    ]\n",
    "}\n",
    "]\n",
    "```"
   ]
  },
  {
   "cell_type": "code",
   "execution_count": null,
   "metadata": {
    "collapsed": true
   },
   "outputs": [],
   "source": []
  },
  {
   "cell_type": "code",
   "execution_count": null,
   "metadata": {
    "collapsed": true
   },
   "outputs": [],
   "source": []
  },
  {
   "cell_type": "code",
   "execution_count": null,
   "metadata": {
    "collapsed": true
   },
   "outputs": [],
   "source": []
  }
 ],
 "metadata": {
  "anaconda-cloud": {},
  "kernelspec": {
   "display_name": "Python 3",
   "language": "python",
   "name": "python3"
  },
  "language_info": {
   "codemirror_mode": {
    "name": "ipython",
    "version": 3
   },
   "file_extension": ".py",
   "mimetype": "text/x-python",
   "name": "python",
   "nbconvert_exporter": "python",
   "pygments_lexer": "ipython3",
   "version": "3.5.2"
  }
 },
 "nbformat": 4,
 "nbformat_minor": 0
}
